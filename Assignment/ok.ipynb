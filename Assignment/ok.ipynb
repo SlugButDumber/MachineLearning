{
 "cells": [
  {
   "cell_type": "code",
   "execution_count": 6,
   "metadata": {},
   "outputs": [
    {
     "name": "stdout",
     "output_type": "stream",
     "text": [
      "Path found: [(0, 0), (0, 1), (0, 2), (1, 2), (2, 2)]\n"
     ]
    }
   ],
   "source": [
    "import heapq\n",
    "\n",
    "def a_star(grid, start, goal):\n",
    "    open_list = [(0, start)]  # Priority queue (cost, node)\n",
    "    g_values = {start: 0}\n",
    "    came_from = {}\n",
    "\n",
    "    def get_neighbors(node):\n",
    "        neighbors = []\n",
    "        x, y = node\n",
    "        # Define valid moves (up, down, left, right)\n",
    "        moves = [(0, 1), (0, -1), (1, 0), (-1, 0)]\n",
    "        for dx, dy in moves:\n",
    "            nx, ny = x + dx, y + dy\n",
    "            if 0 <= nx < len(grid) and 0 <= ny < len(grid[0]) and grid[nx][ny] == 0:\n",
    "                neighbors.append((nx, ny))\n",
    "        return neighbors\n",
    "\n",
    "    while open_list:\n",
    "        _, current = heapq.heappop(open_list)\n",
    "\n",
    "        if current == goal:\n",
    "            path = []\n",
    "            while current in came_from:\n",
    "                path.insert(0, current)\n",
    "                current = came_from[current]\n",
    "            path.insert(0, start)\n",
    "            return path\n",
    "\n",
    "        for neighbor in get_neighbors(current):\n",
    "            tentative_g = g_values[current] + 1  # Assuming uniform cost for simplicity\n",
    "\n",
    "            if tentative_g < g_values.get(neighbor, float('inf')):\n",
    "                came_from[neighbor] = current\n",
    "                g_values[neighbor] = tentative_g\n",
    "                f = tentative_g + heuristic(neighbor, goal)\n",
    "                heapq.heappush(open_list, (f, neighbor))\n",
    "\n",
    "    return None  # No path found\n",
    "\n",
    "def heuristic(current, goal):\n",
    "    return abs(current[0] - goal[0]) + abs(current[1] - goal[1])\n",
    "\n",
    "# Example usage:\n",
    "grid = [[0, 0, 0], [0, 1, 0], [0, 0, 0]]  # Example grid with obstacles (0 = free, 1 = obstacle)\n",
    "start = (0, 0)\n",
    "goal = (2, 2)\n",
    "path = a_star(grid, start, goal)\n",
    "\n",
    "if path:\n",
    "    print(\"Path found:\", path)\n",
    "else:\n",
    "    print(\"No path found.\")\n"
   ]
  }
 ],
 "metadata": {
  "kernelspec": {
   "display_name": "mlenv",
   "language": "python",
   "name": "python3"
  },
  "language_info": {
   "codemirror_mode": {
    "name": "ipython",
    "version": 3
   },
   "file_extension": ".py",
   "mimetype": "text/x-python",
   "name": "python",
   "nbconvert_exporter": "python",
   "pygments_lexer": "ipython3",
   "version": "3.11.2"
  },
  "orig_nbformat": 4
 },
 "nbformat": 4,
 "nbformat_minor": 2
}
