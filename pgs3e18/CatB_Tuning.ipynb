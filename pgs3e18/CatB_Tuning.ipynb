{
 "cells": [
  {
   "cell_type": "markdown",
   "metadata": {},
   "source": [
    "# Importing Libraries and Datasets"
   ]
  },
  {
   "cell_type": "markdown",
   "metadata": {},
   "source": [
    "## Libraries"
   ]
  },
  {
   "cell_type": "code",
   "execution_count": 1,
   "metadata": {},
   "outputs": [],
   "source": [
    "import numpy as np\n",
    "import pandas as pd"
   ]
  },
  {
   "cell_type": "markdown",
   "metadata": {},
   "source": [
    "## Training Dataset"
   ]
  },
  {
   "cell_type": "code",
   "execution_count": 2,
   "metadata": {},
   "outputs": [],
   "source": [
    "dataset = pd.read_csv('train.csv')\n",
    "X = dataset.iloc[:, 1:-6].values\n",
    "y = dataset.iloc[:, -6:-4].values"
   ]
  },
  {
   "cell_type": "markdown",
   "metadata": {},
   "source": [
    "## Testing Dataset"
   ]
  },
  {
   "cell_type": "code",
   "execution_count": 3,
   "metadata": {},
   "outputs": [],
   "source": [
    "Test_dataset = pd.read_csv('test.csv')\n",
    "X_submission = Test_dataset.iloc[:, 1:].values"
   ]
  },
  {
   "cell_type": "markdown",
   "metadata": {},
   "source": [
    "# Spliting Training Dataset into test and training sets"
   ]
  },
  {
   "cell_type": "code",
   "execution_count": 4,
   "metadata": {},
   "outputs": [],
   "source": [
    "from sklearn.model_selection import train_test_split\n",
    "X_train, X_test, y_train, y_test = train_test_split(X, y, test_size = 0.2, random_state = 0)"
   ]
  },
  {
   "cell_type": "markdown",
   "metadata": {},
   "source": [
    "# Feature Scaling"
   ]
  },
  {
   "cell_type": "markdown",
   "metadata": {},
   "source": [
    "## Training Dataset"
   ]
  },
  {
   "cell_type": "markdown",
   "metadata": {},
   "source": [
    "### Training Set"
   ]
  },
  {
   "cell_type": "code",
   "execution_count": 5,
   "metadata": {},
   "outputs": [],
   "source": [
    "from sklearn.preprocessing import StandardScaler\n",
    "sc = StandardScaler()\n",
    "X_train = sc.fit_transform(X_train)"
   ]
  },
  {
   "cell_type": "markdown",
   "metadata": {},
   "source": [
    "### Test Set"
   ]
  },
  {
   "cell_type": "code",
   "execution_count": 6,
   "metadata": {},
   "outputs": [],
   "source": [
    "X_test = sc.transform(X_test)"
   ]
  },
  {
   "cell_type": "markdown",
   "metadata": {},
   "source": [
    "## Test Dataset"
   ]
  },
  {
   "cell_type": "code",
   "execution_count": 7,
   "metadata": {},
   "outputs": [],
   "source": [
    "X_submission = sc.transform(X_submission)"
   ]
  },
  {
   "cell_type": "markdown",
   "metadata": {},
   "source": [
    "# Training and Tuning using Optuna"
   ]
  },
  {
   "cell_type": "code",
   "execution_count": 8,
   "metadata": {},
   "outputs": [
    {
     "name": "stderr",
     "output_type": "stream",
     "text": [
      "c:\\Drive D\\ArhatPersonal\\mlenv\\Lib\\site-packages\\tqdm\\auto.py:21: TqdmWarning: IProgress not found. Please update jupyter and ipywidgets. See https://ipywidgets.readthedocs.io/en/stable/user_install.html\n",
      "  from .autonotebook import tqdm as notebook_tqdm\n",
      "[I 2023-07-08 16:19:23,866] A new study created in memory with name: no-name-7fda0aa3-d809-4db0-b93c-e9db3735cac6\n",
      "[I 2023-07-08 16:19:26,048] Trial 0 finished with value: 0.40487043131956657 and parameters: {'learning_rate': 0.012907581222204798, 'depth': 6, 'subsample': 0.25936431377184477, 'colsample_bylevel': 0.07110929076261015, 'min_data_in_leaf': 26}. Best is trial 0 with value: 0.40487043131956657.\n",
      "[I 2023-07-08 16:19:27,090] Trial 1 finished with value: 0.40598895789332134 and parameters: {'learning_rate': 0.007056517456314465, 'depth': 1, 'subsample': 0.15647215701928285, 'colsample_bylevel': 0.6515562630266812, 'min_data_in_leaf': 15}. Best is trial 0 with value: 0.40487043131956657.\n",
      "[I 2023-07-08 16:19:28,255] Trial 2 finished with value: 0.4060453021400358 and parameters: {'learning_rate': 0.003205379503296367, 'depth': 1, 'subsample': 0.7684337891860139, 'colsample_bylevel': 0.7350207077962227, 'min_data_in_leaf': 1}. Best is trial 0 with value: 0.40487043131956657.\n",
      "[I 2023-07-08 16:20:38,131] Trial 3 finished with value: 0.40570197926182655 and parameters: {'learning_rate': 0.0010557339577630992, 'depth': 10, 'subsample': 0.2907675099965202, 'colsample_bylevel': 0.9920999430323042, 'min_data_in_leaf': 88}. Best is trial 0 with value: 0.40487043131956657.\n",
      "[I 2023-07-08 16:20:55,503] Trial 4 finished with value: 0.40506344456614335 and parameters: {'learning_rate': 0.0024388729295525863, 'depth': 9, 'subsample': 0.5293808051337365, 'colsample_bylevel': 0.4460701484514998, 'min_data_in_leaf': 13}. Best is trial 0 with value: 0.40487043131956657.\n",
      "[I 2023-07-08 16:20:56,668] Trial 5 finished with value: 0.4055528763927035 and parameters: {'learning_rate': 0.007472890934415193, 'depth': 1, 'subsample': 0.7163382336122847, 'colsample_bylevel': 0.43184202336424593, 'min_data_in_leaf': 34}. Best is trial 0 with value: 0.40487043131956657.\n",
      "[I 2023-07-08 16:21:24,298] Trial 6 finished with value: 0.40513232521676346 and parameters: {'learning_rate': 0.00356049701060091, 'depth': 10, 'subsample': 0.06972966571138099, 'colsample_bylevel': 0.15831229330266544, 'min_data_in_leaf': 99}. Best is trial 0 with value: 0.40487043131956657.\n",
      "[I 2023-07-08 16:21:25,831] Trial 7 finished with value: 0.4048038414075069 and parameters: {'learning_rate': 0.05150165672189275, 'depth': 2, 'subsample': 0.8776507372034614, 'colsample_bylevel': 0.6880805566080572, 'min_data_in_leaf': 77}. Best is trial 7 with value: 0.4048038414075069.\n",
      "[I 2023-07-08 16:21:27,177] Trial 8 finished with value: 0.40503692496547755 and parameters: {'learning_rate': 0.01293582706993703, 'depth': 2, 'subsample': 0.25819529525396234, 'colsample_bylevel': 0.6568231955595023, 'min_data_in_leaf': 81}. Best is trial 7 with value: 0.4048038414075069.\n",
      "[I 2023-07-08 16:21:30,848] Trial 9 finished with value: 0.4080259010358323 and parameters: {'learning_rate': 0.047767600936172876, 'depth': 6, 'subsample': 0.7608490421342579, 'colsample_bylevel': 0.41934321958424015, 'min_data_in_leaf': 52}. Best is trial 7 with value: 0.4048038414075069.\n",
      "[I 2023-07-08 16:21:33,381] Trial 10 finished with value: 0.41188218839505514 and parameters: {'learning_rate': 0.09590192976789425, 'depth': 4, 'subsample': 0.9980307171703313, 'colsample_bylevel': 0.8984242488373693, 'min_data_in_leaf': 63}. Best is trial 7 with value: 0.4048038414075069.\n",
      "[I 2023-07-08 16:21:36,149] Trial 11 finished with value: 0.40538949745500885 and parameters: {'learning_rate': 0.022131181677604212, 'depth': 6, 'subsample': 0.3981250292599309, 'colsample_bylevel': 0.13439742430385399, 'min_data_in_leaf': 35}. Best is trial 7 with value: 0.4048038414075069.\n",
      "[I 2023-07-08 16:21:37,803] Trial 12 finished with value: 0.40481951498171254 and parameters: {'learning_rate': 0.01937500878497639, 'depth': 4, 'subsample': 0.4819407277220584, 'colsample_bylevel': 0.06937478933586523, 'min_data_in_leaf': 66}. Best is trial 7 with value: 0.4048038414075069.\n",
      "[I 2023-07-08 16:21:40,028] Trial 13 finished with value: 0.40536743011406867 and parameters: {'learning_rate': 0.033646121427695914, 'depth': 4, 'subsample': 0.518747019684815, 'colsample_bylevel': 0.3298735011384016, 'min_data_in_leaf': 69}. Best is trial 7 with value: 0.4048038414075069.\n",
      "[I 2023-07-08 16:21:41,777] Trial 14 finished with value: 0.40708367811288426 and parameters: {'learning_rate': 0.06728141707718739, 'depth': 3, 'subsample': 0.9968973023430512, 'colsample_bylevel': 0.212651937437298, 'min_data_in_leaf': 69}. Best is trial 7 with value: 0.4048038414075069.\n",
      "[I 2023-07-08 16:21:43,942] Trial 15 finished with value: 0.404849790997694 and parameters: {'learning_rate': 0.02909341075927863, 'depth': 4, 'subsample': 0.589919451802191, 'colsample_bylevel': 0.2715477185723092, 'min_data_in_leaf': 52}. Best is trial 7 with value: 0.4048038414075069.\n",
      "[I 2023-07-08 16:21:46,164] Trial 16 finished with value: 0.40609944259338254 and parameters: {'learning_rate': 0.04929305076494525, 'depth': 8, 'subsample': 0.8798689904007571, 'colsample_bylevel': 0.050944112306257616, 'min_data_in_leaf': 82}. Best is trial 7 with value: 0.4048038414075069.\n",
      "[I 2023-07-08 16:21:48,067] Trial 17 finished with value: 0.40467545697227864 and parameters: {'learning_rate': 0.020923669771672083, 'depth': 3, 'subsample': 0.6490471713609212, 'colsample_bylevel': 0.5858646652747992, 'min_data_in_leaf': 64}. Best is trial 17 with value: 0.40467545697227864.\n",
      "[I 2023-07-08 16:21:49,972] Trial 18 finished with value: 0.40506901876752843 and parameters: {'learning_rate': 0.03953690554805181, 'depth': 3, 'subsample': 0.6562394098576745, 'colsample_bylevel': 0.564209628334058, 'min_data_in_leaf': 100}. Best is trial 17 with value: 0.40467545697227864.\n",
      "[I 2023-07-08 16:21:51,598] Trial 19 finished with value: 0.40708091039189787 and parameters: {'learning_rate': 0.09703027045884396, 'depth': 2, 'subsample': 0.8539003879511449, 'colsample_bylevel': 0.7615837793603477, 'min_data_in_leaf': 58}. Best is trial 17 with value: 0.40467545697227864.\n",
      "[I 2023-07-08 16:21:54,637] Trial 20 finished with value: 0.405207673668606 and parameters: {'learning_rate': 0.020422704855167603, 'depth': 5, 'subsample': 0.6635999214822064, 'colsample_bylevel': 0.551420006087447, 'min_data_in_leaf': 42}. Best is trial 17 with value: 0.40467545697227864.\n",
      "[I 2023-07-08 16:21:56,396] Trial 21 finished with value: 0.4045931926375182 and parameters: {'learning_rate': 0.022825419197766258, 'depth': 3, 'subsample': 0.45612746722120967, 'colsample_bylevel': 0.3466144688316597, 'min_data_in_leaf': 73}. Best is trial 21 with value: 0.4045931926375182.\n",
      "[I 2023-07-08 16:21:57,800] Trial 22 finished with value: 0.4047448595096782 and parameters: {'learning_rate': 0.02663592953985903, 'depth': 2, 'subsample': 0.405631663418097, 'colsample_bylevel': 0.33729851262920957, 'min_data_in_leaf': 77}. Best is trial 21 with value: 0.4045931926375182.\n",
      "[I 2023-07-08 16:21:59,576] Trial 23 finished with value: 0.4049553592570688 and parameters: {'learning_rate': 0.022057254929658855, 'depth': 3, 'subsample': 0.39371246553160427, 'colsample_bylevel': 0.3392850063721448, 'min_data_in_leaf': 89}. Best is trial 21 with value: 0.4045931926375182.\n",
      "[I 2023-07-08 16:22:02,497] Trial 24 finished with value: 0.40517940611218767 and parameters: {'learning_rate': 0.031516030275252474, 'depth': 5, 'subsample': 0.4554188042045339, 'colsample_bylevel': 0.4808536984563292, 'min_data_in_leaf': 76}. Best is trial 21 with value: 0.4045931926375182.\n",
      "[I 2023-07-08 16:22:03,955] Trial 25 finished with value: 0.4049074305840567 and parameters: {'learning_rate': 0.014049455397287212, 'depth': 2, 'subsample': 0.575654271716033, 'colsample_bylevel': 0.3631863694484265, 'min_data_in_leaf': 59}. Best is trial 21 with value: 0.4045931926375182.\n",
      "[I 2023-07-08 16:22:08,172] Trial 26 finished with value: 0.40681385390094604 and parameters: {'learning_rate': 0.02784054844457293, 'depth': 7, 'subsample': 0.39098688984145846, 'colsample_bylevel': 0.2644395200302881, 'min_data_in_leaf': 89}. Best is trial 21 with value: 0.4045931926375182.\n",
      "[I 2023-07-08 16:22:10,020] Trial 27 finished with value: 0.40452560255291253 and parameters: {'learning_rate': 0.01632700367902254, 'depth': 3, 'subsample': 0.6001420520780691, 'colsample_bylevel': 0.5074737933892164, 'min_data_in_leaf': 75}. Best is trial 27 with value: 0.40452560255291253.\n",
      "[I 2023-07-08 16:22:11,879] Trial 28 finished with value: 0.4048579695753496 and parameters: {'learning_rate': 0.015058305071814142, 'depth': 3, 'subsample': 0.6166824585032546, 'colsample_bylevel': 0.5206917082194061, 'min_data_in_leaf': 46}. Best is trial 27 with value: 0.40452560255291253.\n",
      "[I 2023-07-08 16:22:14,885] Trial 29 finished with value: 0.4048458410488107 and parameters: {'learning_rate': 0.010231521476821536, 'depth': 5, 'subsample': 0.5743490254812152, 'colsample_bylevel': 0.5865297209794751, 'min_data_in_leaf': 72}. Best is trial 27 with value: 0.40452560255291253.\n"
     ]
    },
    {
     "name": "stdout",
     "output_type": "stream",
     "text": [
      "Best hyperparameters for EC2: {'learning_rate': 0.01632700367902254, 'depth': 3, 'subsample': 0.6001420520780691, 'colsample_bylevel': 0.5074737933892164, 'min_data_in_leaf': 75}\n",
      "Best RMSE: 0.40452560255291253\n"
     ]
    }
   ],
   "source": [
    "import catboost as cb\n",
    "from sklearn.metrics import mean_squared_error\n",
    "import optuna\n",
    "\n",
    "def objective(trial):\n",
    "    params = {\n",
    "        \"iterations\": 1000,\n",
    "        \"learning_rate\": trial.suggest_float(\"learning_rate\", 1e-3, 0.1, log=True),\n",
    "        \"depth\": trial.suggest_int(\"depth\", 1, 10),\n",
    "        \"subsample\": trial.suggest_float(\"subsample\", 0.05, 1.0),\n",
    "        \"colsample_bylevel\": trial.suggest_float(\"colsample_bylevel\", 0.05, 1.0),\n",
    "        \"min_data_in_leaf\": trial.suggest_int(\"min_data_in_leaf\", 1, 100),\n",
    "    }\n",
    "\n",
    "    model = cb.CatBoostRegressor(**params, silent=True)\n",
    "    model.fit(X_train, y_train[:, 1])\n",
    "    predictions = model.predict(X_test)\n",
    "    rmse = mean_squared_error(y_test[:, 1], predictions, squared=False)\n",
    "    return rmse\n",
    "\n",
    "\n",
    "study = optuna.create_study(direction='minimize')\n",
    "study.optimize(objective, n_trials=30)\n",
    "\n",
    "print('Best hyperparameters for EC2:', study.best_params)\n",
    "print('Best RMSE:', study.best_value)"
   ]
  }
 ],
 "metadata": {
  "kernelspec": {
   "display_name": "mlenv",
   "language": "python",
   "name": "python3"
  },
  "language_info": {
   "codemirror_mode": {
    "name": "ipython",
    "version": 3
   },
   "file_extension": ".py",
   "mimetype": "text/x-python",
   "name": "python",
   "nbconvert_exporter": "python",
   "pygments_lexer": "ipython3",
   "version": "3.11.2"
  },
  "orig_nbformat": 4
 },
 "nbformat": 4,
 "nbformat_minor": 2
}
