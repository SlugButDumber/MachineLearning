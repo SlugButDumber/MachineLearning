{
 "cells": [
  {
   "cell_type": "code",
   "execution_count": 1,
   "id": "a5ae4d6d",
   "metadata": {
    "lines_to_next_cell": 2
   },
   "outputs": [],
   "source": [
    "## Print multiple output per cell\n",
    "from IPython.core.interactiveshell import InteractiveShell\n",
    "InteractiveShell.ast_node_interactivity = 'all'"
   ]
  },
  {
   "cell_type": "code",
   "execution_count": 2,
   "id": "204525d4",
   "metadata": {
    "lines_to_next_cell": 2
   },
   "outputs": [],
   "source": [
    "## Importing libraries\n",
    "import pandas as pd\n",
    "import numpy as np\n",
    "from tqdm import tqdm\n",
    "tqdm.pandas()"
   ]
  },
  {
   "cell_type": "code",
   "execution_count": 3,
   "id": "15edc8a9",
   "metadata": {},
   "outputs": [],
   "source": [
    "## Pandas Display options\n",
    "pd.set_option('display.max_columns',0)\n",
    "pd.set_option('display.max_colwidth',0)"
   ]
  },
  {
   "cell_type": "markdown",
   "id": "f2f0c668",
   "metadata": {},
   "source": [
    "# Read data"
   ]
  },
  {
   "cell_type": "code",
   "execution_count": 4,
   "id": "4b996427",
   "metadata": {},
   "outputs": [],
   "source": [
    "## Reading relevant data\n",
    "match_lvl_data = pd.read_csv('amex_data/match_level_scorecard.csv')\n",
    "batsman_lvl_data = pd.read_csv('amex_data/batsman_level_scorecard.csv')\n",
    "bowler_lvl_data = pd.read_csv('amex_data/bowler_level_scorecard.csv')\n",
    "train_data = pd.read_csv('amex_data/train_data_with_samplefeatures.csv')\n",
    "test_data = pd.read_csv('amex_data/test_data_with_samplefeatures.csv')"
   ]
  },
  {
   "cell_type": "markdown",
   "id": "e487e092",
   "metadata": {},
   "source": [
    "# Printing shape and sample rows of each dataset"
   ]
  },
  {
   "cell_type": "code",
   "execution_count": 5,
   "id": "f982d3e8",
   "metadata": {
    "lines_to_next_cell": 2
   },
   "outputs": [
    {
     "data": {
      "text/plain": [
       "(1689, 30)"
      ]
     },
     "execution_count": 5,
     "metadata": {},
     "output_type": "execute_result"
    },
    {
     "data": {
      "text/html": [
       "<div>\n",
       "<style scoped>\n",
       "    .dataframe tbody tr th:only-of-type {\n",
       "        vertical-align: middle;\n",
       "    }\n",
       "\n",
       "    .dataframe tbody tr th {\n",
       "        vertical-align: top;\n",
       "    }\n",
       "\n",
       "    .dataframe thead th {\n",
       "        text-align: right;\n",
       "    }\n",
       "</style>\n",
       "<table border=\"1\" class=\"dataframe\">\n",
       "  <thead>\n",
       "    <tr style=\"text-align: right;\">\n",
       "      <th></th>\n",
       "      <th>match id</th>\n",
       "      <th>team1</th>\n",
       "      <th>team2</th>\n",
       "      <th>winner</th>\n",
       "      <th>by</th>\n",
       "      <th>win amount</th>\n",
       "      <th>toss winner</th>\n",
       "      <th>toss decision</th>\n",
       "      <th>venue</th>\n",
       "      <th>city</th>\n",
       "      <th>match_dt</th>\n",
       "      <th>lighting</th>\n",
       "      <th>series_name</th>\n",
       "      <th>season</th>\n",
       "      <th>ground_id</th>\n",
       "      <th>umpire1</th>\n",
       "      <th>umpire2</th>\n",
       "      <th>inning1_runs</th>\n",
       "      <th>inning1_wickets</th>\n",
       "      <th>inning1_balls</th>\n",
       "      <th>inning2_runs</th>\n",
       "      <th>inning2_wickets</th>\n",
       "      <th>inning2_balls</th>\n",
       "      <th>team1_id</th>\n",
       "      <th>team1_roster_ids</th>\n",
       "      <th>team2_id</th>\n",
       "      <th>team2_roster_ids</th>\n",
       "      <th>series_type</th>\n",
       "      <th>winner_id</th>\n",
       "      <th>player_of_the_match_id</th>\n",
       "    </tr>\n",
       "  </thead>\n",
       "  <tbody>\n",
       "    <tr>\n",
       "      <th>0</th>\n",
       "      <td>8638034</td>\n",
       "      <td>Nn Ds</td>\n",
       "      <td>Wn</td>\n",
       "      <td>Wn</td>\n",
       "      <td>wickets</td>\n",
       "      <td>9.0</td>\n",
       "      <td>Wn</td>\n",
       "      <td>field</td>\n",
       "      <td>By Ol</td>\n",
       "      <td>Mount Maunganui</td>\n",
       "      <td>2021-01-01</td>\n",
       "      <td>night match</td>\n",
       "      <td>Sr Sh</td>\n",
       "      <td>2020/21</td>\n",
       "      <td>17681</td>\n",
       "      <td>Dn Mw</td>\n",
       "      <td>TJ Pe</td>\n",
       "      <td>148</td>\n",
       "      <td>6</td>\n",
       "      <td>130</td>\n",
       "      <td>152.0</td>\n",
       "      <td>1.0</td>\n",
       "      <td>97.0</td>\n",
       "      <td>17982</td>\n",
       "      <td>7907451.0:4381761.0:31464.0:258649.0:4949790.0:3834305.0:3776849.0:6718340.0:3566240.0:4950364.0:7543647.0</td>\n",
       "      <td>18570</td>\n",
       "      <td>2653993.0:6718326.0:6718382.0:2486896.0:2288789.0:4950224.0:8187878.0:3083667.0:4950294.0:6718396.0:1585464.0</td>\n",
       "      <td>other_domestic</td>\n",
       "      <td>18570</td>\n",
       "      <td>NaN</td>\n",
       "    </tr>\n",
       "    <tr>\n",
       "      <th>1</th>\n",
       "      <td>8588005</td>\n",
       "      <td>Me Rs</td>\n",
       "      <td>Sy Tr</td>\n",
       "      <td>Sy Tr</td>\n",
       "      <td>runs</td>\n",
       "      <td>7.0</td>\n",
       "      <td>Sy Tr</td>\n",
       "      <td>field</td>\n",
       "      <td>Ca Ol</td>\n",
       "      <td>Carrara</td>\n",
       "      <td>2021-01-01</td>\n",
       "      <td>night match</td>\n",
       "      <td>Bg Bh Le</td>\n",
       "      <td>2020/21</td>\n",
       "      <td>6663</td>\n",
       "      <td>D Tr</td>\n",
       "      <td>PJ Ge</td>\n",
       "      <td>166</td>\n",
       "      <td>6</td>\n",
       "      <td>106</td>\n",
       "      <td>117.0</td>\n",
       "      <td>2.0</td>\n",
       "      <td>74.0</td>\n",
       "      <td>33942</td>\n",
       "      <td>37351.0:46794.0:5406540.0:2231928.0:181404.0:1594319.0:7534687.0:7537067.0:1905847.0:8339701.0:7620346.0</td>\n",
       "      <td>33963</td>\n",
       "      <td>1506098.0:1749075.0:36665.0:2083409.0:7534652.0:5788320.0:1612610.0:5509524.0:5497274.0:3876613.0:8193310.0</td>\n",
       "      <td>other_domestic</td>\n",
       "      <td>33963</td>\n",
       "      <td>1749075.0</td>\n",
       "    </tr>\n",
       "  </tbody>\n",
       "</table>\n",
       "</div>"
      ],
      "text/plain": [
       "   match id  team1  team2  ...     series_type winner_id  player_of_the_match_id\n",
       "0  8638034   Nn Ds  Wn     ...  other_domestic  18570    NaN                    \n",
       "1  8588005   Me Rs  Sy Tr  ...  other_domestic  33963     1749075.0             \n",
       "\n",
       "[2 rows x 30 columns]"
      ]
     },
     "execution_count": 5,
     "metadata": {},
     "output_type": "execute_result"
    }
   ],
   "source": [
    "match_lvl_data.shape\n",
    "match_lvl_data.head(2)"
   ]
  },
  {
   "cell_type": "code",
   "execution_count": 6,
   "id": "41fefc0e",
   "metadata": {
    "lines_to_next_cell": 2
   },
   "outputs": [
    {
     "data": {
      "text/plain": [
       "(24483, 21)"
      ]
     },
     "execution_count": 6,
     "metadata": {},
     "output_type": "execute_result"
    },
    {
     "data": {
      "text/html": [
       "<div>\n",
       "<style scoped>\n",
       "    .dataframe tbody tr th:only-of-type {\n",
       "        vertical-align: middle;\n",
       "    }\n",
       "\n",
       "    .dataframe tbody tr th {\n",
       "        vertical-align: top;\n",
       "    }\n",
       "\n",
       "    .dataframe thead th {\n",
       "        text-align: right;\n",
       "    }\n",
       "</style>\n",
       "<table border=\"1\" class=\"dataframe\">\n",
       "  <thead>\n",
       "    <tr style=\"text-align: right;\">\n",
       "      <th></th>\n",
       "      <th>match id</th>\n",
       "      <th>batsman</th>\n",
       "      <th>batsman_id</th>\n",
       "      <th>batsman_details</th>\n",
       "      <th>is_batsman_captain</th>\n",
       "      <th>is_batsman_keeper</th>\n",
       "      <th>inning</th>\n",
       "      <th>runs</th>\n",
       "      <th>balls_faced</th>\n",
       "      <th>over_faced_first</th>\n",
       "      <th>wicket kind</th>\n",
       "      <th>out_by_bowler</th>\n",
       "      <th>out_by_fielder</th>\n",
       "      <th>bowler_id</th>\n",
       "      <th>bowler_details</th>\n",
       "      <th>is_bowler_keeper</th>\n",
       "      <th>is_bowler_captain</th>\n",
       "      <th>strike_rate</th>\n",
       "      <th>Fours</th>\n",
       "      <th>Sixes</th>\n",
       "      <th>match_dt</th>\n",
       "    </tr>\n",
       "  </thead>\n",
       "  <tbody>\n",
       "    <tr>\n",
       "      <th>0</th>\n",
       "      <td>8638034</td>\n",
       "      <td>KD Ce</td>\n",
       "      <td>7907451.0</td>\n",
       "      <td>NZ:Right-hand bat:Right-arm medium-fast:</td>\n",
       "      <td>0.0</td>\n",
       "      <td>0.0</td>\n",
       "      <td>1</td>\n",
       "      <td>7</td>\n",
       "      <td>5</td>\n",
       "      <td>1.1</td>\n",
       "      <td>caught</td>\n",
       "      <td>JS Nm</td>\n",
       "      <td>TM Jn</td>\n",
       "      <td>2486896.0</td>\n",
       "      <td>NZ:Left-hand bat:Right-arm medium-fast:</td>\n",
       "      <td>0.0</td>\n",
       "      <td>0.0</td>\n",
       "      <td>140.0</td>\n",
       "      <td>1.0</td>\n",
       "      <td>NaN</td>\n",
       "      <td>2021-01-01</td>\n",
       "    </tr>\n",
       "    <tr>\n",
       "      <th>1</th>\n",
       "      <td>8638034</td>\n",
       "      <td>TL St</td>\n",
       "      <td>4381761.0</td>\n",
       "      <td>NZ:Right-hand bat:None:</td>\n",
       "      <td>0.0</td>\n",
       "      <td>1.0</td>\n",
       "      <td>1</td>\n",
       "      <td>46</td>\n",
       "      <td>46</td>\n",
       "      <td>1.2</td>\n",
       "      <td>caught</td>\n",
       "      <td>R Ra</td>\n",
       "      <td>MG Bl</td>\n",
       "      <td>6718382.0</td>\n",
       "      <td>NZ:Left-hand bat:Slow left-arm orthodox:</td>\n",
       "      <td>0.0</td>\n",
       "      <td>0.0</td>\n",
       "      <td>100.0</td>\n",
       "      <td>4.0</td>\n",
       "      <td>1.0</td>\n",
       "      <td>2021-01-01</td>\n",
       "    </tr>\n",
       "  </tbody>\n",
       "</table>\n",
       "</div>"
      ],
      "text/plain": [
       "   match id batsman  batsman_id  ... Fours  Sixes    match_dt\n",
       "0  8638034   KD Ce   7907451.0   ...  1.0  NaN     2021-01-01\n",
       "1  8638034   TL St   4381761.0   ...  4.0   1.0    2021-01-01\n",
       "\n",
       "[2 rows x 21 columns]"
      ]
     },
     "execution_count": 6,
     "metadata": {},
     "output_type": "execute_result"
    }
   ],
   "source": [
    "batsman_lvl_data.shape\n",
    "batsman_lvl_data.head(2)"
   ]
  },
  {
   "cell_type": "code",
   "execution_count": 7,
   "id": "6f0a7eb7",
   "metadata": {
    "lines_to_next_cell": 2
   },
   "outputs": [
    {
     "data": {
      "text/plain": [
       "(18539, 18)"
      ]
     },
     "execution_count": 7,
     "metadata": {},
     "output_type": "execute_result"
    },
    {
     "data": {
      "text/html": [
       "<div>\n",
       "<style scoped>\n",
       "    .dataframe tbody tr th:only-of-type {\n",
       "        vertical-align: middle;\n",
       "    }\n",
       "\n",
       "    .dataframe tbody tr th {\n",
       "        vertical-align: top;\n",
       "    }\n",
       "\n",
       "    .dataframe thead th {\n",
       "        text-align: right;\n",
       "    }\n",
       "</style>\n",
       "<table border=\"1\" class=\"dataframe\">\n",
       "  <thead>\n",
       "    <tr style=\"text-align: right;\">\n",
       "      <th></th>\n",
       "      <th>match id</th>\n",
       "      <th>bowler</th>\n",
       "      <th>bowler_id</th>\n",
       "      <th>bowler_details</th>\n",
       "      <th>is_bowler_captain</th>\n",
       "      <th>is_bowler_keeper</th>\n",
       "      <th>inning</th>\n",
       "      <th>runs</th>\n",
       "      <th>wicket_count</th>\n",
       "      <th>balls_bowled</th>\n",
       "      <th>economy</th>\n",
       "      <th>maiden</th>\n",
       "      <th>dots</th>\n",
       "      <th>Fours</th>\n",
       "      <th>Sixes</th>\n",
       "      <th>wides</th>\n",
       "      <th>noballs</th>\n",
       "      <th>match_dt</th>\n",
       "    </tr>\n",
       "  </thead>\n",
       "  <tbody>\n",
       "    <tr>\n",
       "      <th>0</th>\n",
       "      <td>8638034</td>\n",
       "      <td>BV Ss</td>\n",
       "      <td>6718396.0</td>\n",
       "      <td>NZ:Right-hand bat:Right-arm medium-fast:</td>\n",
       "      <td>0.0</td>\n",
       "      <td>0.0</td>\n",
       "      <td>1</td>\n",
       "      <td>21</td>\n",
       "      <td>0</td>\n",
       "      <td>12</td>\n",
       "      <td>10.5</td>\n",
       "      <td>0</td>\n",
       "      <td>3.0</td>\n",
       "      <td>1</td>\n",
       "      <td>1</td>\n",
       "      <td>3</td>\n",
       "      <td>1</td>\n",
       "      <td>2021-01-01</td>\n",
       "    </tr>\n",
       "    <tr>\n",
       "      <th>1</th>\n",
       "      <td>8638034</td>\n",
       "      <td>HK Bt</td>\n",
       "      <td>1585464.0</td>\n",
       "      <td>NZ:Left-hand bat:Right-arm medium-fast:</td>\n",
       "      <td>0.0</td>\n",
       "      <td>0.0</td>\n",
       "      <td>1</td>\n",
       "      <td>34</td>\n",
       "      <td>1</td>\n",
       "      <td>24</td>\n",
       "      <td>8.5</td>\n",
       "      <td>0</td>\n",
       "      <td>7.0</td>\n",
       "      <td>3</td>\n",
       "      <td>1</td>\n",
       "      <td>2</td>\n",
       "      <td>0</td>\n",
       "      <td>2021-01-01</td>\n",
       "    </tr>\n",
       "  </tbody>\n",
       "</table>\n",
       "</div>"
      ],
      "text/plain": [
       "   match id bowler  bowler_id  ... wides  noballs    match_dt\n",
       "0  8638034   BV Ss  6718396.0  ...  3     1        2021-01-01\n",
       "1  8638034   HK Bt  1585464.0  ...  2     0        2021-01-01\n",
       "\n",
       "[2 rows x 18 columns]"
      ]
     },
     "execution_count": 7,
     "metadata": {},
     "output_type": "execute_result"
    }
   ],
   "source": [
    "bowler_lvl_data.shape\n",
    "bowler_lvl_data.head(2)"
   ]
  },
  {
   "cell_type": "code",
   "execution_count": 8,
   "id": "1192234e",
   "metadata": {
    "lines_to_next_cell": 2
   },
   "outputs": [
    {
     "data": {
      "text/plain": [
       "(948, 25)"
      ]
     },
     "execution_count": 8,
     "metadata": {},
     "output_type": "execute_result"
    },
    {
     "data": {
      "text/html": [
       "<div>\n",
       "<style scoped>\n",
       "    .dataframe tbody tr th:only-of-type {\n",
       "        vertical-align: middle;\n",
       "    }\n",
       "\n",
       "    .dataframe tbody tr th {\n",
       "        vertical-align: top;\n",
       "    }\n",
       "\n",
       "    .dataframe thead th {\n",
       "        text-align: right;\n",
       "    }\n",
       "</style>\n",
       "<table border=\"1\" class=\"dataframe\">\n",
       "  <thead>\n",
       "    <tr style=\"text-align: right;\">\n",
       "      <th></th>\n",
       "      <th>match id</th>\n",
       "      <th>team1</th>\n",
       "      <th>team1_id</th>\n",
       "      <th>team1_roster_ids</th>\n",
       "      <th>team2</th>\n",
       "      <th>team2_id</th>\n",
       "      <th>team2_roster_ids</th>\n",
       "      <th>winner</th>\n",
       "      <th>winner_id</th>\n",
       "      <th>toss winner</th>\n",
       "      <th>toss decision</th>\n",
       "      <th>venue</th>\n",
       "      <th>city</th>\n",
       "      <th>match_dt</th>\n",
       "      <th>lighting</th>\n",
       "      <th>series_name</th>\n",
       "      <th>season</th>\n",
       "      <th>ground_id</th>\n",
       "      <th>team_count_50runs_last15</th>\n",
       "      <th>team_winp_last5</th>\n",
       "      <th>team1only_avg_runs_last15</th>\n",
       "      <th>team1_winp_team2_last15</th>\n",
       "      <th>ground_avg_runs_last15</th>\n",
       "      <th>team_count_30runs_last15</th>\n",
       "      <th>avg_sr_ratio</th>\n",
       "    </tr>\n",
       "  </thead>\n",
       "  <tbody>\n",
       "    <tr>\n",
       "      <th>0</th>\n",
       "      <td>9331181</td>\n",
       "      <td>Ba</td>\n",
       "      <td>11283</td>\n",
       "      <td>9373356.0:7857520.0:4232164.0:4566540.0:3299407.0:232000.0:7883504.0:8725723.0:7878989.0:2526390.0:8725730.0:4017523.0</td>\n",
       "      <td>Hl Ph</td>\n",
       "      <td>12634</td>\n",
       "      <td>3500958.0:4231751.0:2735081.0:2035102.0:3698337.0:5058192.0:6844718.0:4566526.0:6596582.0:4161975.0:7952804.0:8465057.0</td>\n",
       "      <td>Hl Ph</td>\n",
       "      <td>12634</td>\n",
       "      <td>Hl Ph</td>\n",
       "      <td>field</td>\n",
       "      <td>Hr Ct Sm Ie</td>\n",
       "      <td>Indore</td>\n",
       "      <td>20-10-2022</td>\n",
       "      <td>day/night match</td>\n",
       "      <td>Sd Mq Ai Ty</td>\n",
       "      <td>2022/23</td>\n",
       "      <td>7398</td>\n",
       "      <td>1.666667</td>\n",
       "      <td>0.672131</td>\n",
       "      <td>139.0</td>\n",
       "      <td>100.0</td>\n",
       "      <td>157.178571</td>\n",
       "      <td>0.777778</td>\n",
       "      <td>0.826481</td>\n",
       "    </tr>\n",
       "    <tr>\n",
       "      <th>1</th>\n",
       "      <td>8797060</td>\n",
       "      <td>Ed</td>\n",
       "      <td>20</td>\n",
       "      <td>2089079.0:6139370.0:2076192.0:62432.0:2083409.0:172199.0:2022957.0:1482998.0:1711492.0:4507208.0:3231437.0</td>\n",
       "      <td>Wt Is</td>\n",
       "      <td>41</td>\n",
       "      <td>4690258.0:4069666.0:4230127.0:1942317.0:1613926.0:2740408.0:4739552.0:5744850.0:4690104.0:3715697.0:3468870.0</td>\n",
       "      <td>Ed</td>\n",
       "      <td>20</td>\n",
       "      <td>Wt Is</td>\n",
       "      <td>field</td>\n",
       "      <td>Kn Ol Bn Bs</td>\n",
       "      <td>Bridgetown</td>\n",
       "      <td>23-01-2022</td>\n",
       "      <td>day/night match</td>\n",
       "      <td>Ed tr of Wt Is</td>\n",
       "      <td>2021/22</td>\n",
       "      <td>1406</td>\n",
       "      <td>1.285714</td>\n",
       "      <td>1.952381</td>\n",
       "      <td>156.0</td>\n",
       "      <td>50.0</td>\n",
       "      <td>103.500000</td>\n",
       "      <td>1.000000</td>\n",
       "      <td>1.158036</td>\n",
       "    </tr>\n",
       "  </tbody>\n",
       "</table>\n",
       "</div>"
      ],
      "text/plain": [
       "   match id team1  ...  team_count_30runs_last15 avg_sr_ratio\n",
       "0  9331181   Ba    ...  0.777778                  0.826481   \n",
       "1  8797060   Ed    ...  1.000000                  1.158036   \n",
       "\n",
       "[2 rows x 25 columns]"
      ]
     },
     "execution_count": 8,
     "metadata": {},
     "output_type": "execute_result"
    }
   ],
   "source": [
    "train_data.shape\n",
    "train_data.head(2)"
   ]
  },
  {
   "cell_type": "code",
   "execution_count": 9,
   "id": "266abe12",
   "metadata": {
    "lines_to_next_cell": 2
   },
   "outputs": [
    {
     "data": {
      "text/plain": [
       "(271, 23)"
      ]
     },
     "execution_count": 9,
     "metadata": {},
     "output_type": "execute_result"
    },
    {
     "data": {
      "text/html": [
       "<div>\n",
       "<style scoped>\n",
       "    .dataframe tbody tr th:only-of-type {\n",
       "        vertical-align: middle;\n",
       "    }\n",
       "\n",
       "    .dataframe tbody tr th {\n",
       "        vertical-align: top;\n",
       "    }\n",
       "\n",
       "    .dataframe thead th {\n",
       "        text-align: right;\n",
       "    }\n",
       "</style>\n",
       "<table border=\"1\" class=\"dataframe\">\n",
       "  <thead>\n",
       "    <tr style=\"text-align: right;\">\n",
       "      <th></th>\n",
       "      <th>match id</th>\n",
       "      <th>team1</th>\n",
       "      <th>team1_id</th>\n",
       "      <th>team1_roster_ids</th>\n",
       "      <th>team2</th>\n",
       "      <th>team2_id</th>\n",
       "      <th>team2_roster_ids</th>\n",
       "      <th>toss winner</th>\n",
       "      <th>toss decision</th>\n",
       "      <th>venue</th>\n",
       "      <th>city</th>\n",
       "      <th>match_dt</th>\n",
       "      <th>lighting</th>\n",
       "      <th>series_name</th>\n",
       "      <th>season</th>\n",
       "      <th>ground_id</th>\n",
       "      <th>team_count_50runs_last15</th>\n",
       "      <th>team_winp_last5</th>\n",
       "      <th>team1only_avg_runs_last15</th>\n",
       "      <th>team1_winp_team2_last15</th>\n",
       "      <th>ground_avg_runs_last15</th>\n",
       "      <th>team_count_30runs_last15</th>\n",
       "      <th>avg_sr_ratio</th>\n",
       "    </tr>\n",
       "  </thead>\n",
       "  <tbody>\n",
       "    <tr>\n",
       "      <th>0</th>\n",
       "      <td>9250275</td>\n",
       "      <td>Jy</td>\n",
       "      <td>28594</td>\n",
       "      <td>7438955.0:8271969.0:8369661.0:3685247.0:2590251.0:7785497.0:7785553.0:3296264.0:4613622.0:2904796.0:3685289.0</td>\n",
       "      <td>Ud Ss of Aa</td>\n",
       "      <td>90</td>\n",
       "      <td>2436944.0:8117500.0:6703528.0:3010748.0:1613870.0:8934764.0:2721480.0:1632819.0:2789604.0:6489846.0:1565507.0</td>\n",
       "      <td>Ud Ss of Aa</td>\n",
       "      <td>field</td>\n",
       "      <td>Bo Ac Cb</td>\n",
       "      <td>Bulawayo</td>\n",
       "      <td>11-07-2022</td>\n",
       "      <td>day match</td>\n",
       "      <td>Ud Ss of Aa tr of Ze</td>\n",
       "      <td>2022</td>\n",
       "      <td>3226</td>\n",
       "      <td>0.000000</td>\n",
       "      <td>0.019608</td>\n",
       "      <td>NaN</td>\n",
       "      <td>0.00</td>\n",
       "      <td>NaN</td>\n",
       "      <td>0.000000</td>\n",
       "      <td>0.810099</td>\n",
       "    </tr>\n",
       "    <tr>\n",
       "      <th>1</th>\n",
       "      <td>9262189</td>\n",
       "      <td>Ga An Ws</td>\n",
       "      <td>36084</td>\n",
       "      <td>3715690.0:6818622.0:4069666.0:393014.0:4690188.0:4739552.0:4690328.0:5744850.0:4739580.0:9266102.0:284339.0</td>\n",
       "      <td>Ja Ts</td>\n",
       "      <td>36098</td>\n",
       "      <td>4690258.0:3761246.0:8464385.0:5742470.0:3150720.0:4690104.0:181404.0:1594319.0:5509524.0:4239794.0:2036649.0</td>\n",
       "      <td>Ja Ts</td>\n",
       "      <td>field</td>\n",
       "      <td>Pe Sm Ga</td>\n",
       "      <td>Providence</td>\n",
       "      <td>21-09-2022</td>\n",
       "      <td>night match</td>\n",
       "      <td>Cn Pr Le</td>\n",
       "      <td>2022</td>\n",
       "      <td>13915</td>\n",
       "      <td>0.615385</td>\n",
       "      <td>0.344262</td>\n",
       "      <td>151.285714</td>\n",
       "      <td>66.67</td>\n",
       "      <td>153.5</td>\n",
       "      <td>0.774194</td>\n",
       "      <td>1.093027</td>\n",
       "    </tr>\n",
       "  </tbody>\n",
       "</table>\n",
       "</div>"
      ],
      "text/plain": [
       "   match id     team1  ...  team_count_30runs_last15 avg_sr_ratio\n",
       "0  9250275   Jy        ...  0.000000                  0.810099   \n",
       "1  9262189   Ga An Ws  ...  0.774194                  1.093027   \n",
       "\n",
       "[2 rows x 23 columns]"
      ]
     },
     "execution_count": 9,
     "metadata": {},
     "output_type": "execute_result"
    }
   ],
   "source": [
    "test_data.shape\n",
    "test_data.head(2)"
   ]
  },
  {
   "cell_type": "code",
   "execution_count": 10,
   "id": "f28ccdb7",
   "metadata": {},
   "outputs": [],
   "source": [
    "## Creating a binary winner column - 0 if team1 wins, else 1\n",
    "train_data['winner_01'] = train_data.apply(lambda x: 0 if (x['team1']==x['winner']) else 1, axis=1)"
   ]
  },
  {
   "cell_type": "markdown",
   "id": "636d255a",
   "metadata": {},
   "source": [
    "# Code to plot RnP"
   ]
  },
  {
   "cell_type": "code",
   "execution_count": 11,
   "id": "76fbfd9f",
   "metadata": {},
   "outputs": [
    {
     "name": "stderr",
     "output_type": "stream",
     "text": [
      "C:\\Users\\arhat\\AppData\\Local\\Temp\\ipykernel_5996\\1940123182.py:2: MatplotlibDeprecationWarning: The seaborn styles shipped by Matplotlib are deprecated since 3.6, as they no longer correspond to the styles shipped by seaborn. However, they will remain available as 'seaborn-v0_8-<style>'. Alternatively, directly use the seaborn API instead.\n",
      "  plt.style.use('seaborn')\n"
     ]
    }
   ],
   "source": [
    "from matplotlib import pyplot as plt\n",
    "plt.style.use('seaborn')\n",
    "import re\n",
    "\n",
    "def createRnP(X_12, feature, N=5, ylim_lb=0.3, ylim_ub=0.7):\n",
    "    '''\n",
    "    Rank and Plot of input feature on the input data. The y-axis shows %team1 wins in each bucket.\n",
    "    \n",
    "    Parameters-\n",
    "    1. X_12: dataset to build the RnP on. \n",
    "    2. feature: Feature to build RnP of.\n",
    "    3. N: number of bins on x-axis. Default 5.\n",
    "    4. ylim_lb: lower bound of y axis on plot.\n",
    "    5. ylim_ub: upper bound of y axis on plot.\n",
    "    \n",
    "    Output-\n",
    "    1. Rank and Plot\n",
    "    \n",
    "    Returns- None\n",
    "    '''\n",
    "    df = X_12.copy()\n",
    "    df[f'{feature}_bin'] = df[feature].rank(pct=True)//(1/N) # divide feature values for all games in 5 equi-volume buckets.\n",
    "    df['count'] = 1\n",
    "    df['team1_win%'] = df['winner_01'].apply(lambda x: 1-x) # invert winner_01 to get team1 winner indicator\n",
    "    df['team2_win%'] = df['winner_01'].copy()\n",
    "    df[f'{feature}_min'] = df[feature].copy()\n",
    "    df[f'{feature}_max'] = df[feature].copy()\n",
    "    df_g = df.groupby(f'{feature}_bin').agg({'team1_win%':'mean', 'team2_win%':'mean', 'count':'sum', f'{feature}_min':'min',\\\n",
    "                                            f'{feature}_max':'max'}).reset_index()\n",
    "    N = min(N,df_g.shape[0])\n",
    "    blue_bar = df_g['team1_win%'].values.tolist()\n",
    "    ind = np.arange(N)\n",
    "    # plotting starts\n",
    "    plt.figure(figsize=(10,5));\n",
    "    plt.bar(ind, blue_bar, label='Team 1 win%');\n",
    "    plt.axhline(y=0.5, linewidth=0.5, color='k', linestyle = '--')\n",
    "    xlabel = re.sub('team_','ratio_',feature)\n",
    "    plt.xlabel(f'{xlabel} (team1 / team2) bins');\n",
    "    plt.ylabel('Win %');\n",
    "    plt.title(f'RnP - {feature} vs win');\n",
    "    df_g['xticks'] = df_g.apply(lambda x: str(round(x[f'{feature}_min'],2)) + ' - ' + str(round(x[f'{feature}_max'],2)), axis=1)\n",
    "    plt.xticks(ind, df_g['xticks']);\n",
    "    plt.ylim([ylim_lb,ylim_ub]);\n",
    "    plt.legend(loc='best');\n",
    "    x2,x1 = blue_bar[-1],blue_bar[0]\n",
    "    slope = x2/x1\n",
    "    if slope < 1:\n",
    "        slope = 1/slope\n",
    "        x1,x2 = x2,x1\n",
    "    print('slope:', round(x2,2),'/',round(x1,2), '= ',round(slope,2))\n",
    "    plt.show();"
   ]
  },
  {
   "cell_type": "markdown",
   "id": "845ecaa7",
   "metadata": {},
   "source": [
    "# Helper function"
   ]
  },
  {
   "cell_type": "code",
   "execution_count": 12,
   "id": "67536aad",
   "metadata": {},
   "outputs": [],
   "source": [
    "def giveLastNgamesPlayer(player_id, date, n, bat_or_bowl):\n",
    "    '''\n",
    "    Function to get last n games stats of a player before an input date.\n",
    "    \n",
    "    Input-\n",
    "    1. player_id: id of the player to get historical data.\n",
    "    2. date: date to look-back and get n games. Stats returned are before this input date.\n",
    "    3. n: Number of historical games stats to return.\n",
    "    4. bat_or_bowl: Kind of stats to return. {'bat': batting stats to return, 'bowl': bowling stats to return}\n",
    "    \n",
    "    Output-None\n",
    "    \n",
    "    Returns- dataframe having bowling/batting stats from last n games of a player before an input date. \n",
    "    The results are sorted by date.\n",
    "    '''\n",
    "    if bat_or_bowl == 'bat':\n",
    "        df_topick = batsman_lvl_data\n",
    "        id_col = 'batsman_id'\n",
    "    else:\n",
    "        df_topick = bowler_lvl_data\n",
    "        id_col = 'bowler_id'\n",
    "        \n",
    "    return df_topick[(df_topick['match_dt']<date)&(df_topick[id_col]==float(player_id))]\\\n",
    "                .sort_values(by='match_dt', ascending=False).head(n)"
   ]
  },
  {
   "cell_type": "markdown",
   "id": "147ac0c4",
   "metadata": {},
   "source": [
    "# Feature creation"
   ]
  },
  {
   "cell_type": "markdown",
   "id": "e2640204",
   "metadata": {},
   "source": [
    "## 1. team_count_50runs_last15"
   ]
  },
  {
   "cell_type": "code",
   "execution_count": 13,
   "id": "f03f211e",
   "metadata": {
    "lines_to_next_cell": 2
   },
   "outputs": [],
   "source": [
    "# Ratio of number of 50s by players in team1 to number of 50s by players in team2 in last 15 games\n",
    "\n",
    "def no50sLastn(player_list, date, n):\n",
    "    '''\n",
    "    Function to get total number of 50s scored by players in the roster of a team in last n games.\n",
    "    \n",
    "    Input-\n",
    "    1. player_list: ':' separated list of player ids in the roster of a team.\n",
    "    2. date: match date of the game to calculate this feature.\n",
    "    3. n: Number of games to look-back and create this feature.\n",
    "    \n",
    "    Output-None\n",
    "    \n",
    "    Returns- int value denoting sum of 50s scored by all players in the roster.\n",
    "    '''\n",
    "    \n",
    "    player_list = str(player_list).split(':') # split string of ':' separated ids into a list of ids\n",
    "    res_list = []\n",
    "    for player in player_list: # loop over each player_id in roster\n",
    "        df_rel = giveLastNgamesPlayer(player_id=player, date=date, n=n, bat_or_bowl='bat') # getting batting stats from last n games for each player.\n",
    "        df_rel['gte_50runs'] = np.where(df_rel['runs']>=50, 1, 0) # binary indicator to denote whether the player scored a 50 in the game (runs>=50).\n",
    "        res_list.append(np.nansum(df_rel['gte_50runs']))# Sum up number of 50s for the player and append to a list. We will do this for all players.\n",
    "    return np.nansum(res_list)# Sum up values of the list which is sum of 50s by all players in the roster."
   ]
  },
  {
   "cell_type": "code",
   "execution_count": 14,
   "id": "782a356c",
   "metadata": {
    "lines_to_next_cell": 2
   },
   "outputs": [
    {
     "name": "stderr",
     "output_type": "stream",
     "text": [
      "100%|██████████| 948/948 [00:14<00:00, 65.85it/s]\n",
      "100%|██████████| 948/948 [00:14<00:00, 67.42it/s]\n"
     ]
    }
   ],
   "source": [
    "# Computing number of 50 runs in last 15 games for team1 for train dataset.\n",
    "train_data['team1_count_50runs_last15'] = train_data.progress_apply(lambda x: \\\n",
    "            no50sLastn(player_list=x['team1_roster_ids'], date=x['match_dt'], n=15), axis=1)\n",
    "# Computing number of 50 runs in last 15 games for team2 for train dataset.\n",
    "train_data['team2_count_50runs_last15'] = train_data.progress_apply(lambda x: \\\n",
    "            no50sLastn(player_list=x['team2_roster_ids'], date=x['match_dt'], n=15), axis=1)"
   ]
  },
  {
   "cell_type": "code",
   "execution_count": 15,
   "id": "0e0a0e3c",
   "metadata": {
    "lines_to_next_cell": 2
   },
   "outputs": [],
   "source": [
    "# Taking ratio of (number of 50 runs in last 15 games for team1) to (number of 50 runs in last 15 games for team2). Adding 1 to handle divide by zero exceptions.\n",
    "train_data['team_count_50runs_last15'] = (train_data['team1_count_50runs_last15']+1)/(train_data['team2_count_50runs_last15']+1)\n",
    "train_data.drop(columns=['team1_count_50runs_last15','team2_count_50runs_last15'], inplace=True) # dropping intermediate columns"
   ]
  },
  {
   "cell_type": "markdown",
   "id": "277949ca",
   "metadata": {},
   "source": [
    "### Visualizing"
   ]
  },
  {
   "cell_type": "code",
   "execution_count": 16,
   "id": "06d8a26f",
   "metadata": {
    "lines_to_next_cell": 2
   },
   "outputs": [
    {
     "data": {
      "text/plain": [
       "(948, 26)"
      ]
     },
     "execution_count": 16,
     "metadata": {},
     "output_type": "execute_result"
    },
    {
     "data": {
      "text/html": [
       "<div>\n",
       "<style scoped>\n",
       "    .dataframe tbody tr th:only-of-type {\n",
       "        vertical-align: middle;\n",
       "    }\n",
       "\n",
       "    .dataframe tbody tr th {\n",
       "        vertical-align: top;\n",
       "    }\n",
       "\n",
       "    .dataframe thead th {\n",
       "        text-align: right;\n",
       "    }\n",
       "</style>\n",
       "<table border=\"1\" class=\"dataframe\">\n",
       "  <thead>\n",
       "    <tr style=\"text-align: right;\">\n",
       "      <th></th>\n",
       "      <th>match id</th>\n",
       "      <th>team1</th>\n",
       "      <th>team1_id</th>\n",
       "      <th>team1_roster_ids</th>\n",
       "      <th>team2</th>\n",
       "      <th>team2_id</th>\n",
       "      <th>team2_roster_ids</th>\n",
       "      <th>winner</th>\n",
       "      <th>winner_id</th>\n",
       "      <th>toss winner</th>\n",
       "      <th>toss decision</th>\n",
       "      <th>venue</th>\n",
       "      <th>city</th>\n",
       "      <th>match_dt</th>\n",
       "      <th>lighting</th>\n",
       "      <th>series_name</th>\n",
       "      <th>season</th>\n",
       "      <th>ground_id</th>\n",
       "      <th>team_count_50runs_last15</th>\n",
       "      <th>team_winp_last5</th>\n",
       "      <th>team1only_avg_runs_last15</th>\n",
       "      <th>team1_winp_team2_last15</th>\n",
       "      <th>ground_avg_runs_last15</th>\n",
       "      <th>team_count_30runs_last15</th>\n",
       "      <th>avg_sr_ratio</th>\n",
       "      <th>winner_01</th>\n",
       "    </tr>\n",
       "  </thead>\n",
       "  <tbody>\n",
       "    <tr>\n",
       "      <th>946</th>\n",
       "      <td>9516695</td>\n",
       "      <td>Rn Rs</td>\n",
       "      <td>30428</td>\n",
       "      <td>8058959.0:2162782.0:2981614.0:4690188.0:2125696.0:8228429.0:184960.0:3068547.0:3696482.0:8445478.0:3011735.0:6347494.0</td>\n",
       "      <td>Ss Hd</td>\n",
       "      <td>36014</td>\n",
       "      <td>5958840.0:7491294.0:3127354.0:3057312.0:4203499.0:5764576.0:8228408.0:4874820.0:8766603.0:7570107.0:2282125.0:5618038.0</td>\n",
       "      <td>Ss Hd</td>\n",
       "      <td>36014</td>\n",
       "      <td>Rn Rs</td>\n",
       "      <td>bat</td>\n",
       "      <td>Si Mh Sm Jr</td>\n",
       "      <td>Jaipur</td>\n",
       "      <td>07-05-2023</td>\n",
       "      <td>night match</td>\n",
       "      <td>In Pr Le</td>\n",
       "      <td>2023</td>\n",
       "      <td>4661</td>\n",
       "      <td>1.0</td>\n",
       "      <td>1.487805</td>\n",
       "      <td>182.800000</td>\n",
       "      <td>66.67</td>\n",
       "      <td>133.375000</td>\n",
       "      <td>0.725</td>\n",
       "      <td>0.994297</td>\n",
       "      <td>1</td>\n",
       "    </tr>\n",
       "    <tr>\n",
       "      <th>947</th>\n",
       "      <td>9433633</td>\n",
       "      <td>He</td>\n",
       "      <td>7727</td>\n",
       "      <td>4223883.0:2076192.0:8822729.0:5241564.0:2020332.0:3162487.0:1482249.0:1482998.0:2173688.0:5788418.0:8833075.0</td>\n",
       "      <td>Ge</td>\n",
       "      <td>7608</td>\n",
       "      <td>4898074.0:3220566.0:8048074.0:6988596.0:8072945.0:2667027.0:6341796.0:3578742.0:1707628.0:2538983.0:2437091.0</td>\n",
       "      <td>Ge</td>\n",
       "      <td>7608</td>\n",
       "      <td>Ge</td>\n",
       "      <td>field</td>\n",
       "      <td>Cy Gd Bl</td>\n",
       "      <td>Bristol</td>\n",
       "      <td>20-06-2023</td>\n",
       "      <td>day/night match</td>\n",
       "      <td>Vy Bt</td>\n",
       "      <td>2023</td>\n",
       "      <td>1245</td>\n",
       "      <td>1.0</td>\n",
       "      <td>1.975610</td>\n",
       "      <td>167.333333</td>\n",
       "      <td>100.00</td>\n",
       "      <td>164.192308</td>\n",
       "      <td>2.700</td>\n",
       "      <td>1.151987</td>\n",
       "      <td>1</td>\n",
       "    </tr>\n",
       "  </tbody>\n",
       "</table>\n",
       "</div>"
      ],
      "text/plain": [
       "     match id  team1  ...  avg_sr_ratio winner_01\n",
       "946  9516695   Rn Rs  ...  0.994297      1       \n",
       "947  9433633   He     ...  1.151987      1       \n",
       "\n",
       "[2 rows x 26 columns]"
      ]
     },
     "execution_count": 16,
     "metadata": {},
     "output_type": "execute_result"
    }
   ],
   "source": [
    "train_data.shape\n",
    "train_data.tail(2)"
   ]
  },
  {
   "cell_type": "code",
   "execution_count": 17,
   "id": "fd49c184",
   "metadata": {
    "lines_to_next_cell": 2
   },
   "outputs": [
    {
     "name": "stdout",
     "output_type": "stream",
     "text": [
      "slope: 0.52 / 0.45 =  1.16\n"
     ]
    },
    {
     "data": {
      "image/png": "[encoded data removed]",
      "text/plain": [
       "<Figure size 1000x500 with 1 Axes>"
      ]
     },
     "metadata": {},
     "output_type": "display_data"
    }
   ],
   "source": [
    "# RnP of team_count_50runs_last15 computed over the train data. Slope denotes ratio of right most bin to left most bin.\n",
    "createRnP(train_data, 'team_count_50runs_last15')"
   ]
  },
  {
   "cell_type": "code",
   "execution_count": 18,
   "id": "d74c20ad",
   "metadata": {},
   "outputs": [
    {
     "name": "stderr",
     "output_type": "stream",
     "text": [
      "100%|██████████| 271/271 [00:04<00:00, 66.53it/s]\n",
      "100%|██████████| 271/271 [00:04<00:00, 66.39it/s]\n"
     ]
    },
    {
     "data": {
      "text/plain": [
       "(271, 23)"
      ]
     },
     "execution_count": 18,
     "metadata": {},
     "output_type": "execute_result"
    },
    {
     "data": {
      "text/html": [
       "<div>\n",
       "<style scoped>\n",
       "    .dataframe tbody tr th:only-of-type {\n",
       "        vertical-align: middle;\n",
       "    }\n",
       "\n",
       "    .dataframe tbody tr th {\n",
       "        vertical-align: top;\n",
       "    }\n",
       "\n",
       "    .dataframe thead th {\n",
       "        text-align: right;\n",
       "    }\n",
       "</style>\n",
       "<table border=\"1\" class=\"dataframe\">\n",
       "  <thead>\n",
       "    <tr style=\"text-align: right;\">\n",
       "      <th></th>\n",
       "      <th>match id</th>\n",
       "      <th>team1</th>\n",
       "      <th>team1_id</th>\n",
       "      <th>team1_roster_ids</th>\n",
       "      <th>team2</th>\n",
       "      <th>team2_id</th>\n",
       "      <th>team2_roster_ids</th>\n",
       "      <th>toss winner</th>\n",
       "      <th>toss decision</th>\n",
       "      <th>venue</th>\n",
       "      <th>city</th>\n",
       "      <th>match_dt</th>\n",
       "      <th>lighting</th>\n",
       "      <th>series_name</th>\n",
       "      <th>season</th>\n",
       "      <th>ground_id</th>\n",
       "      <th>team_count_50runs_last15</th>\n",
       "      <th>team_winp_last5</th>\n",
       "      <th>team1only_avg_runs_last15</th>\n",
       "      <th>team1_winp_team2_last15</th>\n",
       "      <th>ground_avg_runs_last15</th>\n",
       "      <th>team_count_30runs_last15</th>\n",
       "      <th>avg_sr_ratio</th>\n",
       "    </tr>\n",
       "  </thead>\n",
       "  <tbody>\n",
       "    <tr>\n",
       "      <th>0</th>\n",
       "      <td>9250275</td>\n",
       "      <td>Jy</td>\n",
       "      <td>28594</td>\n",
       "      <td>7438955.0:8271969.0:8369661.0:3685247.0:2590251.0:7785497.0:7785553.0:3296264.0:4613622.0:2904796.0:3685289.0</td>\n",
       "      <td>Ud Ss of Aa</td>\n",
       "      <td>90</td>\n",
       "      <td>2436944.0:8117500.0:6703528.0:3010748.0:1613870.0:8934764.0:2721480.0:1632819.0:2789604.0:6489846.0:1565507.0</td>\n",
       "      <td>Ud Ss of Aa</td>\n",
       "      <td>field</td>\n",
       "      <td>Bo Ac Cb</td>\n",
       "      <td>Bulawayo</td>\n",
       "      <td>11-07-2022</td>\n",
       "      <td>day match</td>\n",
       "      <td>Ud Ss of Aa tr of Ze</td>\n",
       "      <td>2022</td>\n",
       "      <td>3226</td>\n",
       "      <td>0.0</td>\n",
       "      <td>0.019608</td>\n",
       "      <td>NaN</td>\n",
       "      <td>0.00</td>\n",
       "      <td>NaN</td>\n",
       "      <td>0.000000</td>\n",
       "      <td>0.810099</td>\n",
       "    </tr>\n",
       "    <tr>\n",
       "      <th>1</th>\n",
       "      <td>9262189</td>\n",
       "      <td>Ga An Ws</td>\n",
       "      <td>36084</td>\n",
       "      <td>3715690.0:6818622.0:4069666.0:393014.0:4690188.0:4739552.0:4690328.0:5744850.0:4739580.0:9266102.0:284339.0</td>\n",
       "      <td>Ja Ts</td>\n",
       "      <td>36098</td>\n",
       "      <td>4690258.0:3761246.0:8464385.0:5742470.0:3150720.0:4690104.0:181404.0:1594319.0:5509524.0:4239794.0:2036649.0</td>\n",
       "      <td>Ja Ts</td>\n",
       "      <td>field</td>\n",
       "      <td>Pe Sm Ga</td>\n",
       "      <td>Providence</td>\n",
       "      <td>21-09-2022</td>\n",
       "      <td>night match</td>\n",
       "      <td>Cn Pr Le</td>\n",
       "      <td>2022</td>\n",
       "      <td>13915</td>\n",
       "      <td>1.6</td>\n",
       "      <td>0.344262</td>\n",
       "      <td>151.285714</td>\n",
       "      <td>66.67</td>\n",
       "      <td>153.5</td>\n",
       "      <td>0.774194</td>\n",
       "      <td>1.093027</td>\n",
       "    </tr>\n",
       "  </tbody>\n",
       "</table>\n",
       "</div>"
      ],
      "text/plain": [
       "   match id     team1  ...  team_count_30runs_last15 avg_sr_ratio\n",
       "0  9250275   Jy        ...  0.000000                  0.810099   \n",
       "1  9262189   Ga An Ws  ...  0.774194                  1.093027   \n",
       "\n",
       "[2 rows x 23 columns]"
      ]
     },
     "execution_count": 18,
     "metadata": {},
     "output_type": "execute_result"
    }
   ],
   "source": [
    "## Doing similar process for test dataset\n",
    "\n",
    "test_data['team1_count_50runs_last15'] = test_data.progress_apply(lambda x: \\\n",
    "            no50sLastn(player_list=x['team1_roster_ids'], date=x['match_dt'], n=15), axis=1)\n",
    "test_data['team2_count_50runs_last15'] = test_data.progress_apply(lambda x: \\\n",
    "            no50sLastn(player_list=x['team2_roster_ids'], date=x['match_dt'], n=15), axis=1)\n",
    "test_data['team_count_50runs_last15'] = (test_data['team1_count_50runs_last15'])/(test_data['team2_count_50runs_last15']+1)\n",
    "test_data.drop(columns=['team1_count_50runs_last15','team2_count_50runs_last15'], inplace=True)\n",
    "test_data.shape\n",
    "test_data.head(2)"
   ]
  },
  {
   "cell_type": "markdown",
   "id": "98235a12",
   "metadata": {},
   "source": [
    "## Avg Runs ratio"
   ]
  },
  {
   "cell_type": "code",
   "execution_count": 19,
   "id": "356b255b",
   "metadata": {},
   "outputs": [],
   "source": [
    "# Ratio of number of 50s by players in team1 to number of 50s by players in team2 in last 15 games\n",
    "\n",
    "def Avg_runs_last_n(player_list, date, n):\n",
    "    '''\n",
    "    Function to get total number of 50s scored by players in the roster of a team in last n games.\n",
    "    \n",
    "    Input-\n",
    "    1. player_list: ':' separated list of player ids in the roster of a team.\n",
    "    2. date: match date of the game to calculate this feature.\n",
    "    3. n: Number of games to look-back and create this feature.\n",
    "    \n",
    "    Output-None\n",
    "    \n",
    "    Returns- int value denoting sum of 50s scored by all players in the roster.\n",
    "    '''\n",
    "    \n",
    "    player_list = str(player_list).split(':') # split string of ':' separated ids into a list of ids\n",
    "    res_list = []\n",
    "    for player in player_list: # loop over each player_id in roster\n",
    "        df_rel = giveLastNgamesPlayer(player_id=player, date=date, n=n, bat_or_bowl='bat') # getting batting stats from last n games for each player.\n",
    "        res_list.append(np.nanmean(df_rel['runs']))# Avg up SR for the player and append to a list. We will do this for all players.\n",
    "    \n",
    "    if(np.nansum(res_list)==0) :\n",
    "        return 160\n",
    "    return np.nansum(res_list)# Avg up values of the list which is avg SR of batsmen in team"
   ]
  },
  {
   "cell_type": "code",
   "execution_count": 20,
   "id": "5d523399",
   "metadata": {},
   "outputs": [
    {
     "name": "stderr",
     "output_type": "stream",
     "text": [
      "  0%|          | 0/948 [00:00<?, ?it/s]c:\\Drive_D\\ArhatPersonal\\mlenv\\Lib\\site-packages\\numpy\\core\\fromnumeric.py:3432: RuntimeWarning: Mean of empty slice.\n",
      "  return _methods._mean(a, axis=axis, dtype=dtype,\n",
      "c:\\Drive_D\\ArhatPersonal\\mlenv\\Lib\\site-packages\\numpy\\core\\_methods.py:190: RuntimeWarning: invalid value encountered in double_scalars\n",
      "  ret = ret.dtype.type(ret / rcount)\n",
      "100%|██████████| 948/948 [00:11<00:00, 79.81it/s]\n",
      "  0%|          | 0/948 [00:00<?, ?it/s]c:\\Drive_D\\ArhatPersonal\\mlenv\\Lib\\site-packages\\numpy\\core\\fromnumeric.py:3432: RuntimeWarning: Mean of empty slice.\n",
      "  return _methods._mean(a, axis=axis, dtype=dtype,\n",
      "c:\\Drive_D\\ArhatPersonal\\mlenv\\Lib\\site-packages\\numpy\\core\\_methods.py:190: RuntimeWarning: invalid value encountered in double_scalars\n",
      "  ret = ret.dtype.type(ret / rcount)\n",
      "100%|██████████| 948/948 [00:11<00:00, 80.09it/s]\n"
     ]
    }
   ],
   "source": [
    "# Computing avg SR in last 5 games for team1 for train dataset.\n",
    "train_data['avg_runs_t1'] = train_data.progress_apply(lambda x: \\\n",
    "            Avg_runs_last_n(player_list=x['team1_roster_ids'], date=x['match_dt'], n=5), axis=1)\n",
    "# Computing avg SR in last 5 games for team2 for train dataset.\n",
    "train_data['avg_runs_t2'] = train_data.progress_apply(lambda x: \\\n",
    "            Avg_runs_last_n(player_list=x['team2_roster_ids'], date=x['match_dt'], n=5), axis=1)"
   ]
  },
  {
   "cell_type": "code",
   "execution_count": 21,
   "id": "3345dcbe",
   "metadata": {},
   "outputs": [],
   "source": [
    "# Taking ratio of (number of 50 runs in last 15 games for team1) to (number of 50 runs in last 15 games for team2). Adding 1 to handle divide by zero exceptions.\n",
    "train_data['avg_runs_ratio'] = (train_data['avg_runs_t1'])/(train_data['avg_runs_t2']+1)\n",
    "train_data.drop(columns=['avg_runs_t1','avg_runs_t2'], inplace=True) # dropping intermediate columns"
   ]
  },
  {
   "cell_type": "code",
   "execution_count": 22,
   "id": "d40befc1",
   "metadata": {},
   "outputs": [
    {
     "data": {
      "text/plain": [
       "(948, 27)"
      ]
     },
     "execution_count": 22,
     "metadata": {},
     "output_type": "execute_result"
    },
    {
     "data": {
      "text/html": [
       "<div>\n",
       "<style scoped>\n",
       "    .dataframe tbody tr th:only-of-type {\n",
       "        vertical-align: middle;\n",
       "    }\n",
       "\n",
       "    .dataframe tbody tr th {\n",
       "        vertical-align: top;\n",
       "    }\n",
       "\n",
       "    .dataframe thead th {\n",
       "        text-align: right;\n",
       "    }\n",
       "</style>\n",
       "<table border=\"1\" class=\"dataframe\">\n",
       "  <thead>\n",
       "    <tr style=\"text-align: right;\">\n",
       "      <th></th>\n",
       "      <th>match id</th>\n",
       "      <th>team1</th>\n",
       "      <th>team1_id</th>\n",
       "      <th>team1_roster_ids</th>\n",
       "      <th>team2</th>\n",
       "      <th>team2_id</th>\n",
       "      <th>team2_roster_ids</th>\n",
       "      <th>winner</th>\n",
       "      <th>winner_id</th>\n",
       "      <th>toss winner</th>\n",
       "      <th>toss decision</th>\n",
       "      <th>venue</th>\n",
       "      <th>city</th>\n",
       "      <th>match_dt</th>\n",
       "      <th>lighting</th>\n",
       "      <th>series_name</th>\n",
       "      <th>season</th>\n",
       "      <th>ground_id</th>\n",
       "      <th>team_count_50runs_last15</th>\n",
       "      <th>team_winp_last5</th>\n",
       "      <th>team1only_avg_runs_last15</th>\n",
       "      <th>team1_winp_team2_last15</th>\n",
       "      <th>ground_avg_runs_last15</th>\n",
       "      <th>team_count_30runs_last15</th>\n",
       "      <th>avg_sr_ratio</th>\n",
       "      <th>winner_01</th>\n",
       "      <th>avg_runs_ratio</th>\n",
       "    </tr>\n",
       "  </thead>\n",
       "  <tbody>\n",
       "    <tr>\n",
       "      <th>946</th>\n",
       "      <td>9516695</td>\n",
       "      <td>Rn Rs</td>\n",
       "      <td>30428</td>\n",
       "      <td>8058959.0:2162782.0:2981614.0:4690188.0:2125696.0:8228429.0:184960.0:3068547.0:3696482.0:8445478.0:3011735.0:6347494.0</td>\n",
       "      <td>Ss Hd</td>\n",
       "      <td>36014</td>\n",
       "      <td>5958840.0:7491294.0:3127354.0:3057312.0:4203499.0:5764576.0:8228408.0:4874820.0:8766603.0:7570107.0:2282125.0:5618038.0</td>\n",
       "      <td>Ss Hd</td>\n",
       "      <td>36014</td>\n",
       "      <td>Rn Rs</td>\n",
       "      <td>bat</td>\n",
       "      <td>Si Mh Sm Jr</td>\n",
       "      <td>Jaipur</td>\n",
       "      <td>07-05-2023</td>\n",
       "      <td>night match</td>\n",
       "      <td>In Pr Le</td>\n",
       "      <td>2023</td>\n",
       "      <td>4661</td>\n",
       "      <td>1.0</td>\n",
       "      <td>1.487805</td>\n",
       "      <td>182.800000</td>\n",
       "      <td>66.67</td>\n",
       "      <td>133.375000</td>\n",
       "      <td>0.725</td>\n",
       "      <td>0.994297</td>\n",
       "      <td>1</td>\n",
       "      <td>0.993789</td>\n",
       "    </tr>\n",
       "    <tr>\n",
       "      <th>947</th>\n",
       "      <td>9433633</td>\n",
       "      <td>He</td>\n",
       "      <td>7727</td>\n",
       "      <td>4223883.0:2076192.0:8822729.0:5241564.0:2020332.0:3162487.0:1482249.0:1482998.0:2173688.0:5788418.0:8833075.0</td>\n",
       "      <td>Ge</td>\n",
       "      <td>7608</td>\n",
       "      <td>4898074.0:3220566.0:8048074.0:6988596.0:8072945.0:2667027.0:6341796.0:3578742.0:1707628.0:2538983.0:2437091.0</td>\n",
       "      <td>Ge</td>\n",
       "      <td>7608</td>\n",
       "      <td>Ge</td>\n",
       "      <td>field</td>\n",
       "      <td>Cy Gd Bl</td>\n",
       "      <td>Bristol</td>\n",
       "      <td>20-06-2023</td>\n",
       "      <td>day/night match</td>\n",
       "      <td>Vy Bt</td>\n",
       "      <td>2023</td>\n",
       "      <td>1245</td>\n",
       "      <td>1.0</td>\n",
       "      <td>1.975610</td>\n",
       "      <td>167.333333</td>\n",
       "      <td>100.00</td>\n",
       "      <td>164.192308</td>\n",
       "      <td>2.700</td>\n",
       "      <td>1.151987</td>\n",
       "      <td>1</td>\n",
       "      <td>0.993789</td>\n",
       "    </tr>\n",
       "  </tbody>\n",
       "</table>\n",
       "</div>"
      ],
      "text/plain": [
       "     match id  team1  team1_id  ... avg_sr_ratio winner_01  avg_runs_ratio\n",
       "946  9516695   Rn Rs  30428     ...  0.994297     1         0.993789      \n",
       "947  9433633   He     7727      ...  1.151987     1         0.993789      \n",
       "\n",
       "[2 rows x 27 columns]"
      ]
     },
     "execution_count": 22,
     "metadata": {},
     "output_type": "execute_result"
    }
   ],
   "source": [
    "train_data.shape\n",
    "train_data.tail(2)"
   ]
  },
  {
   "cell_type": "code",
   "execution_count": 23,
   "id": "08c6e51e",
   "metadata": {},
   "outputs": [
    {
     "name": "stdout",
     "output_type": "stream",
     "text": [
      "slope: 0.52 / 0.47 =  1.11\n"
     ]
    },
    {
     "data": {
      "image/png": "[encoded data removed]",
      "text/plain": [
       "<Figure size 1000x500 with 1 Axes>"
      ]
     },
     "metadata": {},
     "output_type": "display_data"
    }
   ],
   "source": [
    "# RnP of team_count_50runs_last15 computed over the train data. Slope denotes ratio of right most bin to left most bin.\n",
    "createRnP(train_data, 'avg_runs_ratio')"
   ]
  },
  {
   "cell_type": "code",
   "execution_count": 24,
   "id": "ba474b6d",
   "metadata": {},
   "outputs": [
    {
     "name": "stderr",
     "output_type": "stream",
     "text": [
      "  0%|          | 0/271 [00:00<?, ?it/s]c:\\Drive_D\\ArhatPersonal\\mlenv\\Lib\\site-packages\\numpy\\core\\fromnumeric.py:3432: RuntimeWarning: Mean of empty slice.\n",
      "  return _methods._mean(a, axis=axis, dtype=dtype,\n",
      "c:\\Drive_D\\ArhatPersonal\\mlenv\\Lib\\site-packages\\numpy\\core\\_methods.py:190: RuntimeWarning: invalid value encountered in double_scalars\n",
      "  ret = ret.dtype.type(ret / rcount)\n",
      "100%|██████████| 271/271 [00:03<00:00, 79.22it/s]\n",
      "  0%|          | 0/271 [00:00<?, ?it/s]c:\\Drive_D\\ArhatPersonal\\mlenv\\Lib\\site-packages\\numpy\\core\\fromnumeric.py:3432: RuntimeWarning: Mean of empty slice.\n",
      "  return _methods._mean(a, axis=axis, dtype=dtype,\n",
      "c:\\Drive_D\\ArhatPersonal\\mlenv\\Lib\\site-packages\\numpy\\core\\_methods.py:190: RuntimeWarning: invalid value encountered in double_scalars\n",
      "  ret = ret.dtype.type(ret / rcount)\n",
      "100%|██████████| 271/271 [00:03<00:00, 78.81it/s]\n"
     ]
    },
    {
     "data": {
      "text/plain": [
       "(271, 24)"
      ]
     },
     "execution_count": 24,
     "metadata": {},
     "output_type": "execute_result"
    },
    {
     "data": {
      "text/html": [
       "<div>\n",
       "<style scoped>\n",
       "    .dataframe tbody tr th:only-of-type {\n",
       "        vertical-align: middle;\n",
       "    }\n",
       "\n",
       "    .dataframe tbody tr th {\n",
       "        vertical-align: top;\n",
       "    }\n",
       "\n",
       "    .dataframe thead th {\n",
       "        text-align: right;\n",
       "    }\n",
       "</style>\n",
       "<table border=\"1\" class=\"dataframe\">\n",
       "  <thead>\n",
       "    <tr style=\"text-align: right;\">\n",
       "      <th></th>\n",
       "      <th>match id</th>\n",
       "      <th>team1</th>\n",
       "      <th>team1_id</th>\n",
       "      <th>team1_roster_ids</th>\n",
       "      <th>team2</th>\n",
       "      <th>team2_id</th>\n",
       "      <th>team2_roster_ids</th>\n",
       "      <th>toss winner</th>\n",
       "      <th>toss decision</th>\n",
       "      <th>venue</th>\n",
       "      <th>city</th>\n",
       "      <th>match_dt</th>\n",
       "      <th>lighting</th>\n",
       "      <th>series_name</th>\n",
       "      <th>season</th>\n",
       "      <th>ground_id</th>\n",
       "      <th>team_count_50runs_last15</th>\n",
       "      <th>team_winp_last5</th>\n",
       "      <th>team1only_avg_runs_last15</th>\n",
       "      <th>team1_winp_team2_last15</th>\n",
       "      <th>ground_avg_runs_last15</th>\n",
       "      <th>team_count_30runs_last15</th>\n",
       "      <th>avg_sr_ratio</th>\n",
       "      <th>avg_runs_ratio</th>\n",
       "    </tr>\n",
       "  </thead>\n",
       "  <tbody>\n",
       "    <tr>\n",
       "      <th>0</th>\n",
       "      <td>9250275</td>\n",
       "      <td>Jy</td>\n",
       "      <td>28594</td>\n",
       "      <td>7438955.0:8271969.0:8369661.0:3685247.0:2590251.0:7785497.0:7785553.0:3296264.0:4613622.0:2904796.0:3685289.0</td>\n",
       "      <td>Ud Ss of Aa</td>\n",
       "      <td>90</td>\n",
       "      <td>2436944.0:8117500.0:6703528.0:3010748.0:1613870.0:8934764.0:2721480.0:1632819.0:2789604.0:6489846.0:1565507.0</td>\n",
       "      <td>Ud Ss of Aa</td>\n",
       "      <td>field</td>\n",
       "      <td>Bo Ac Cb</td>\n",
       "      <td>Bulawayo</td>\n",
       "      <td>11-07-2022</td>\n",
       "      <td>day match</td>\n",
       "      <td>Ud Ss of Aa tr of Ze</td>\n",
       "      <td>2022</td>\n",
       "      <td>3226</td>\n",
       "      <td>0.0</td>\n",
       "      <td>0.019608</td>\n",
       "      <td>NaN</td>\n",
       "      <td>0.00</td>\n",
       "      <td>NaN</td>\n",
       "      <td>0.000000</td>\n",
       "      <td>0.810099</td>\n",
       "      <td>0.993789</td>\n",
       "    </tr>\n",
       "    <tr>\n",
       "      <th>1</th>\n",
       "      <td>9262189</td>\n",
       "      <td>Ga An Ws</td>\n",
       "      <td>36084</td>\n",
       "      <td>3715690.0:6818622.0:4069666.0:393014.0:4690188.0:4739552.0:4690328.0:5744850.0:4739580.0:9266102.0:284339.0</td>\n",
       "      <td>Ja Ts</td>\n",
       "      <td>36098</td>\n",
       "      <td>4690258.0:3761246.0:8464385.0:5742470.0:3150720.0:4690104.0:181404.0:1594319.0:5509524.0:4239794.0:2036649.0</td>\n",
       "      <td>Ja Ts</td>\n",
       "      <td>field</td>\n",
       "      <td>Pe Sm Ga</td>\n",
       "      <td>Providence</td>\n",
       "      <td>21-09-2022</td>\n",
       "      <td>night match</td>\n",
       "      <td>Cn Pr Le</td>\n",
       "      <td>2022</td>\n",
       "      <td>13915</td>\n",
       "      <td>1.6</td>\n",
       "      <td>0.344262</td>\n",
       "      <td>151.285714</td>\n",
       "      <td>66.67</td>\n",
       "      <td>153.5</td>\n",
       "      <td>0.774194</td>\n",
       "      <td>1.093027</td>\n",
       "      <td>0.907039</td>\n",
       "    </tr>\n",
       "  </tbody>\n",
       "</table>\n",
       "</div>"
      ],
      "text/plain": [
       "   match id     team1  ...  avg_sr_ratio avg_runs_ratio\n",
       "0  9250275   Jy        ...  0.810099      0.993789     \n",
       "1  9262189   Ga An Ws  ...  1.093027      0.907039     \n",
       "\n",
       "[2 rows x 24 columns]"
      ]
     },
     "execution_count": 24,
     "metadata": {},
     "output_type": "execute_result"
    }
   ],
   "source": [
    "## Doing similar process for test dataset\n",
    "\n",
    "test_data['avg_runs_t1'] = test_data.progress_apply(lambda x: \\\n",
    "            Avg_runs_last_n(player_list=x['team1_roster_ids'], date=x['match_dt'], n=5), axis=1)\n",
    "test_data['avg_runs_t2'] = test_data.progress_apply(lambda x: \\\n",
    "            Avg_runs_last_n(player_list=x['team2_roster_ids'], date=x['match_dt'], n=5), axis=1)\n",
    "test_data['avg_runs_ratio'] = (test_data['avg_runs_t1'])/(test_data['avg_runs_t2']+1)\n",
    "test_data.drop(columns=['avg_runs_t1','avg_runs_t2'], inplace=True)\n",
    "test_data.shape\n",
    "test_data.head(2)"
   ]
  },
  {
   "cell_type": "code",
   "execution_count": 25,
   "id": "de509918",
   "metadata": {},
   "outputs": [
    {
     "name": "stdout",
     "output_type": "stream",
     "text": [
      "# Nulls in column match id :  0\n",
      "# Nulls in column team1 :  0\n",
      "# Nulls in column team1_id :  0\n",
      "# Nulls in column team1_roster_ids :  0\n",
      "# Nulls in column team2 :  0\n",
      "# Nulls in column team2_id :  0\n",
      "# Nulls in column team2_roster_ids :  0\n",
      "# Nulls in column winner :  0\n",
      "# Nulls in column winner_id :  0\n",
      "# Nulls in column toss winner :  0\n",
      "# Nulls in column toss decision :  0\n",
      "# Nulls in column venue :  0\n",
      "# Nulls in column city :  0\n",
      "# Nulls in column match_dt :  0\n",
      "# Nulls in column lighting :  0\n",
      "# Nulls in column series_name :  0\n",
      "# Nulls in column season :  0\n",
      "# Nulls in column ground_id :  0\n",
      "# Nulls in column team_count_50runs_last15 :  0\n",
      "# Nulls in column team_winp_last5 :  0\n",
      "# Nulls in column team1only_avg_runs_last15 :  21\n",
      "# Nulls in column team1_winp_team2_last15 :  0\n",
      "# Nulls in column ground_avg_runs_last15 :  53\n",
      "# Nulls in column team_count_30runs_last15 :  0\n",
      "# Nulls in column avg_sr_ratio :  32\n",
      "# Nulls in column winner_01 :  0\n",
      "# Nulls in column avg_runs_ratio :  0\n"
     ]
    }
   ],
   "source": [
    "for i in train_data.columns:\n",
    "    print(\"# Nulls in column\", i, ': ', train_data[i].isnull().sum())"
   ]
  },
  {
   "cell_type": "code",
   "execution_count": 26,
   "id": "27a5d144",
   "metadata": {},
   "outputs": [
    {
     "name": "stdout",
     "output_type": "stream",
     "text": [
      "# Nulls in column match id :  0\n",
      "# Nulls in column team1 :  0\n",
      "# Nulls in column team1_id :  0\n",
      "# Nulls in column team1_roster_ids :  0\n",
      "# Nulls in column team2 :  0\n",
      "# Nulls in column team2_id :  0\n",
      "# Nulls in column team2_roster_ids :  0\n",
      "# Nulls in column toss winner :  0\n",
      "# Nulls in column toss decision :  0\n",
      "# Nulls in column venue :  0\n",
      "# Nulls in column city :  0\n",
      "# Nulls in column match_dt :  0\n",
      "# Nulls in column lighting :  0\n",
      "# Nulls in column series_name :  0\n",
      "# Nulls in column season :  0\n",
      "# Nulls in column ground_id :  0\n",
      "# Nulls in column team_count_50runs_last15 :  0\n",
      "# Nulls in column team_winp_last5 :  0\n",
      "# Nulls in column team1only_avg_runs_last15 :  7\n",
      "# Nulls in column team1_winp_team2_last15 :  0\n",
      "# Nulls in column ground_avg_runs_last15 :  10\n",
      "# Nulls in column team_count_30runs_last15 :  0\n",
      "# Nulls in column avg_sr_ratio :  4\n",
      "# Nulls in column avg_runs_ratio :  0\n"
     ]
    }
   ],
   "source": [
    "for i in test_data.columns:\n",
    "    print(\"# Nulls in column\", i, ': ', test_data[i].isnull().sum())"
   ]
  },
  {
   "cell_type": "markdown",
   "id": "fbaa8555",
   "metadata": {},
   "source": [
    "## 2. team_winp_last5"
   ]
  },
  {
   "cell_type": "code",
   "execution_count": null,
   "id": "ff4ec200",
   "metadata": {
    "lines_to_next_cell": 2
   },
   "outputs": [],
   "source": [
    "# Ratio of team1's win % to team2's win % in last 5 games\n",
    "\n",
    "def winpLastn(team_id, date, n):\n",
    "    '''\n",
    "    Get a team's win % in last n games. If a team has won 3 game out of their last 5, win% is 60%.\n",
    "    \n",
    "    Input-\n",
    "    1. team_id: ID of the team to get their last n games and winner information from those games.\n",
    "    2. date: match date from which to get last n historical games.\n",
    "    3. n: look-back window of games.\n",
    "    \n",
    "    Output- None\n",
    "    \n",
    "    Returns- Float value denoting win% of the team in last n games.\n",
    "    '''\n",
    "    # filter out games with either team1/2_id as input team id, match_dt being before current game's date, sort desc by date, and get top n rows (games)\n",
    "    df_rel = match_lvl_data[(match_lvl_data['match_dt']<date)&\\\n",
    "                      ((match_lvl_data['team1_id']==team_id)|(match_lvl_data['team2_id']==team_id))]\\\n",
    "                        .sort_values(by='match_dt', ascending=False).head(n) \n",
    "    win_count = df_rel[df_rel['winner_id']==team_id].shape[0] # count number of rows having winner as the input team\n",
    "    if win_count == 0:\n",
    "        return 0\n",
    "    return round(win_count*100/df_rel.shape[0], 2) # return win% rounded to two decimal points"
   ]
  },
  {
   "cell_type": "code",
   "execution_count": null,
   "id": "e7a217a6",
   "metadata": {
    "lines_to_next_cell": 2
   },
   "outputs": [],
   "source": [
    "# Compute team1's win% in last 5 games\n",
    "train_data['team1_winp_last5'] = train_data.progress_apply(lambda x: \\\n",
    "                                  winpLastn(x['team1_id'], x['match_dt'], 5), axis=1)\n",
    "# Compute team2's win% in last 5 games\n",
    "train_data['team2_winp_last5'] = train_data.progress_apply(lambda x: \\\n",
    "                                  winpLastn(x['team2_id'], x['match_dt'], 5), axis=1)"
   ]
  },
  {
   "cell_type": "code",
   "execution_count": null,
   "id": "7e08df88",
   "metadata": {
    "lines_to_next_cell": 2
   },
   "outputs": [],
   "source": [
    "# Take the ratio of (team1's win% in their last 5 games)/(team2's win% in their last 5 games). Adding 1 to avoid divide by zero error\n",
    "train_data['team_winp_last5'] = (train_data['team1_winp_last5']+1)/(train_data['team2_winp_last5']+1)\n",
    "train_data.drop(columns=['team1_winp_last5', 'team2_winp_last5'], inplace=True) # drop intermediate columns"
   ]
  },
  {
   "cell_type": "markdown",
   "id": "d3bbb32f",
   "metadata": {},
   "source": [
    "### Visualizing"
   ]
  },
  {
   "cell_type": "code",
   "execution_count": null,
   "id": "ef9c1d41",
   "metadata": {
    "lines_to_next_cell": 2
   },
   "outputs": [],
   "source": [
    "train_data.shape\n",
    "train_data.head(2)"
   ]
  },
  {
   "cell_type": "code",
   "execution_count": null,
   "id": "0b71ac35",
   "metadata": {
    "lines_to_next_cell": 2
   },
   "outputs": [],
   "source": [
    "## Similar process for test data\n",
    "\n",
    "test_data['team1_winp_last5'] = test_data.progress_apply(lambda x: \\\n",
    "            winpLastn(team_id=x['team1_id'], date=x['match_dt'], n=5), axis=1)\n",
    "test_data['team2_winp_last5'] = test_data.progress_apply(lambda x: \\\n",
    "            winpLastn(team_id=x['team2_id'], date=x['match_dt'], n=5), axis=1)\n",
    "test_data['team_winp_last5'] = (test_data['team1_winp_last5']+1)/(test_data['team2_winp_last5']+1)\n",
    "test_data.drop(columns=['team1_winp_last5','team2_winp_last5'], inplace=True)\n",
    "test_data.shape\n",
    "test_data.head(2)"
   ]
  },
  {
   "cell_type": "code",
   "execution_count": null,
   "id": "d4ca248c",
   "metadata": {
    "lines_to_next_cell": 2
   },
   "outputs": [],
   "source": [
    "# RnP of team_winp_last5 computed over the train data.\n",
    "createRnP(train_data, 'team_winp_last5', ylim_ub=0.65)"
   ]
  },
  {
   "cell_type": "code",
   "execution_count": null,
   "id": "744d6835",
   "metadata": {},
   "outputs": [],
   "source": [
    "train_data.drop(columns=['winner_01'], inplace=True) # Dropping intermediate column made to plot RnP."
   ]
  },
  {
   "cell_type": "markdown",
   "id": "57b4ce58",
   "metadata": {},
   "source": [
    "## 3. teamonly_avg_runs_last15"
   ]
  },
  {
   "cell_type": "code",
   "execution_count": null,
   "id": "3c864d3a",
   "metadata": {
    "lines_to_next_cell": 2
   },
   "outputs": [],
   "source": [
    "# team1's avg inning runs in last 15 games\n",
    "\n",
    "## derived feature computed using toss winner & toss decision to denote the inning team1 bats.\n",
    "# If team1 won the toss and chose to bat or team2 won the toss and chose to bowl, the feature takes the value 1, else 2.\n",
    "match_lvl_data['team1_bat_inning'] = np.where( ((match_lvl_data['team1']==match_lvl_data['toss winner'])&(match_lvl_data['toss decision']=='bat'))|\\\n",
    "                                               ((match_lvl_data['team2']==match_lvl_data['toss winner'])&(match_lvl_data['toss decision']=='field')) , 1, 2)"
   ]
  },
  {
   "cell_type": "code",
   "execution_count": null,
   "id": "c83f01b1",
   "metadata": {
    "lines_to_next_cell": 2
   },
   "outputs": [],
   "source": [
    "match_lvl_data.head(2)"
   ]
  },
  {
   "cell_type": "code",
   "execution_count": null,
   "id": "f28d669b",
   "metadata": {
    "lines_to_next_cell": 2
   },
   "outputs": [],
   "source": [
    "def teamAvgRunsLastn(team_id, date, n):\n",
    "    '''\n",
    "    Function to calculate a team's average runs in their last n games.\n",
    "    \n",
    "    Input-\n",
    "    1. team_id: ID of the team to calculate average runs.\n",
    "    2. date: match date of the current game for which the feature is calculated.\n",
    "    3. n: look-back window of games for the team.\n",
    "    \n",
    "    Output- None\n",
    "    \n",
    "    Return- Float value denoting average of runs scored by team1 in their last n games.\n",
    "    '''\n",
    "    # filter out games with either team1/2_id as input team_id, match date less than current game's input date, sort desc by date, and top n rows (games) returned\n",
    "    df_rel = match_lvl_data[(match_lvl_data['match_dt']<date)&\\\n",
    "                      ((match_lvl_data['team1_id']==team_id)|(match_lvl_data['team2_id']==team_id))]\\\n",
    "                        .sort_values(by='match_dt', ascending=False).head(n)\n",
    "    # combine two dataframes - one where input team is batting first, and another one where input team is batting second.\n",
    "    df_rel = pd.concat([ df_rel[df_rel['team1_bat_inning']==1][['inning1_runs']].rename(columns={'inning1_runs':'runs'}), \\\n",
    "                         df_rel[df_rel['team1_bat_inning']==2][['inning2_runs']].rename(columns={'inning2_runs':'runs'}) ] )\n",
    "    return df_rel['runs'].mean() # return mean of the combined dataframe."
   ]
  },
  {
   "cell_type": "code",
   "execution_count": null,
   "id": "33b4aecc",
   "metadata": {
    "lines_to_next_cell": 2
   },
   "outputs": [],
   "source": [
    "# Compute average runs scored by team1 in their last 15 games for train data.\n",
    "train_data['team1only_avg_runs_last15'] = train_data.progress_apply(lambda x: \\\n",
    "                                  teamAvgRunsLastn(x['team1_id'], x['match_dt'], 15), axis=1)"
   ]
  },
  {
   "cell_type": "code",
   "execution_count": null,
   "id": "ccb042f7",
   "metadata": {
    "lines_to_next_cell": 2
   },
   "outputs": [],
   "source": [
    "# Similarly for test data.\n",
    "test_data['team1only_avg_runs_last15'] = test_data.progress_apply(lambda x: \\\n",
    "            teamAvgRunsLastn(x['team1_id'], x['match_dt'], 15), axis=1)\n",
    "test_data.shape\n",
    "test_data.head(2)"
   ]
  },
  {
   "cell_type": "code",
   "execution_count": null,
   "id": "290f1888",
   "metadata": {},
   "outputs": [],
   "source": [
    "train_data.shape\n",
    "train_data.head(2)"
   ]
  },
  {
   "cell_type": "markdown",
   "id": "acbf8068",
   "metadata": {},
   "source": [
    "## 4. teamone_winp_teamtwo_last15"
   ]
  },
  {
   "cell_type": "code",
   "execution_count": null,
   "id": "b68848dd",
   "metadata": {
    "lines_to_next_cell": 2
   },
   "outputs": [],
   "source": [
    "# Team1's win percentage againts Team2 in last 15 games\n",
    "\n",
    "def winpCrossLastn(team1_id, team2_id, date, n):\n",
    "    '''\n",
    "    Function to compute team1's win% against team2 from the current game in their past n encounters.\n",
    "    \n",
    "    Input-\n",
    "    1. team1_id: ID of team1 to calculate win% of.\n",
    "    2. team2_id: ID of team2 to calculate win% against.\n",
    "    3: date: match date of the current game for which the feature is to be calculated.\n",
    "    4. n: look-back window of games for both these teams.\n",
    "    \n",
    "    Output- None\n",
    "    \n",
    "    Returns- Float value denoting team1's win% against team2 in their past n games against each other.\n",
    "    '''\n",
    "    # filter out games where either team1_id is input team1 and team2_id is input team2, or where team2_id is input team1 and team1_id is input team2.\n",
    "    # Also, match date is less than current games's input date, sort desc by date and get top n rows (games)\n",
    "    df_rel = match_lvl_data[(match_lvl_data['match_dt']<date)&\\\n",
    "                      (((match_lvl_data['team1_id']==team1_id)&(match_lvl_data['team2_id']==team2_id))|((match_lvl_data['team1_id']==team2_id)&(match_lvl_data['team2_id']==team1_id)))]\\\n",
    "                        .sort_values(by='match_dt', ascending=False).head(n)\n",
    "    win_count = df_rel[df_rel['winner_id']==team1_id].shape[0] # Counting number of rows (games) where winner is input team1.\n",
    "    if win_count == 0:\n",
    "        return 0\n",
    "    return round(win_count*100/df_rel.shape[0], 2) # return Float denoting team1's win% against team2 in past n games rounded to 2 decimal places."
   ]
  },
  {
   "cell_type": "code",
   "execution_count": null,
   "id": "dcd7452d",
   "metadata": {
    "lines_to_next_cell": 2
   },
   "outputs": [],
   "source": [
    "# Compute team1 win% against team2 in their past 15 encounters for train data.\n",
    "train_data['team1_winp_team2_last15'] = train_data.progress_apply(lambda x: \\\n",
    "                                  winpCrossLastn(x['team1_id'], x['team2_id'], x['match_dt'], 5), axis=1)"
   ]
  },
  {
   "cell_type": "code",
   "execution_count": null,
   "id": "363652bd",
   "metadata": {
    "lines_to_next_cell": 2
   },
   "outputs": [],
   "source": [
    "train_data.shape\n",
    "train_data.head(2)"
   ]
  },
  {
   "cell_type": "code",
   "execution_count": null,
   "id": "d3758ada",
   "metadata": {
    "lines_to_next_cell": 2
   },
   "outputs": [],
   "source": [
    "# Similarly for test data.\n",
    "test_data['team1_winp_team2_last15'] = test_data.progress_apply(lambda x: \\\n",
    "                                  winpCrossLastn(x['team1_id'], x['team2_id'], x['match_dt'], 5), axis=1)"
   ]
  },
  {
   "cell_type": "code",
   "execution_count": null,
   "id": "d65e0120",
   "metadata": {},
   "outputs": [],
   "source": [
    "test_data.shape\n",
    "test_data.head(2)"
   ]
  },
  {
   "cell_type": "markdown",
   "id": "14ae89a0",
   "metadata": {},
   "source": [
    "## 5. ground_avg_runs_last15"
   ]
  },
  {
   "cell_type": "code",
   "execution_count": null,
   "id": "15318c70",
   "metadata": {
    "lines_to_next_cell": 2
   },
   "outputs": [],
   "source": [
    "# average runs scored in the ground in last 15 games\n",
    "\n",
    "def avgRunsGround(ground_id, date, n):\n",
    "    '''\n",
    "    Function to calculate average runs scored in ground/venue.\n",
    "    \n",
    "    Input-\n",
    "    1. ground_id: ID of the ground to calculate the feature for.\n",
    "    2. date: match date of the current game to calculate the feature for.\n",
    "    3. n: look-back window of games for the ground.\n",
    "    \n",
    "    Output- None\n",
    "    \n",
    "    Returns- Average runs scored in the ground.\n",
    "    '''\n",
    "    # filter out games with ground_id being the input ground_id and date earlier than current game's input date. Sort desc by date, and select top n rows (games).\n",
    "    df_rel = match_lvl_data[(match_lvl_data['match_dt']<date)&(match_lvl_data['ground_id']==ground_id)].sort_values(by='match_dt', ascending=False).head(n)\n",
    "    df_rel['avg_runs_inn'] = (df_rel['inning1_runs']+df_rel['inning2_runs'])/2 # take the mean of inning1_runs and inning2_runs in a separate column.\n",
    "    return df_rel['avg_runs_inn'].mean() # Return the mean value of the computed column above."
   ]
  },
  {
   "cell_type": "code",
   "execution_count": null,
   "id": "1f20098c",
   "metadata": {
    "lines_to_next_cell": 2
   },
   "outputs": [],
   "source": [
    "## Calculate average runs in the ground for last 15 games hosted in that venue for train data.\n",
    "train_data['ground_avg_runs_last15'] = train_data.progress_apply(lambda x: \\\n",
    "                                  avgRunsGround(x['ground_id'], x['match_dt'], 15), axis=1)\n",
    "## Similarly for test data.\n",
    "test_data['ground_avg_runs_last15'] = test_data.progress_apply(lambda x: \\\n",
    "                                  avgRunsGround(x['ground_id'], x['match_dt'], 15), axis=1)"
   ]
  },
  {
   "cell_type": "code",
   "execution_count": null,
   "id": "abafadc5",
   "metadata": {
    "lines_to_next_cell": 2
   },
   "outputs": [],
   "source": [
    "train_data.shape\n",
    "train_data.head(2)"
   ]
  },
  {
   "cell_type": "markdown",
   "id": "e1f79d20",
   "metadata": {},
   "source": [
    "# Writing to CSV"
   ]
  },
  {
   "cell_type": "code",
   "execution_count": 27,
   "id": "715cd8e3",
   "metadata": {
    "lines_to_next_cell": 2
   },
   "outputs": [],
   "source": [
    "train_data.to_csv('train_data_with_samplefeatures.csv', index=False)\n",
    "test_data.to_csv('test_data_with_samplefeatures.csv', index=False)"
   ]
  }
 ],
 "metadata": {
  "jupytext": {
   "cell_metadata_filter": "-all",
   "encoding": "# coding: utf-8",
   "executable": "/usr/bin/env python",
   "main_language": "python",
   "notebook_metadata_filter": "-all"
  },
  "kernelspec": {
   "display_name": "mlenv",
   "language": "python",
   "name": "python3"
  },
  "language_info": {
   "codemirror_mode": {
    "name": "ipython",
    "version": 3
   },
   "file_extension": ".py",
   "mimetype": "text/x-python",
   "name": "python",
   "nbconvert_exporter": "python",
   "pygments_lexer": "ipython3",
   "version": "3.11.2"
  }
 },
 "nbformat": 4,
 "nbformat_minor": 5
}
