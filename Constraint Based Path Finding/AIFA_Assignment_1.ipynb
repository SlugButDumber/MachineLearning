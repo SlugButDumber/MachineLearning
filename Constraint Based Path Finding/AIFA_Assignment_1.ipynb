{
  "cells": [
    {
      "cell_type": "markdown",
      "metadata": {
        "id": "sn9K9Je3ph6V"
      },
      "source": [
        "# Libraries"
      ]
    },
    {
      "cell_type": "code",
      "execution_count": 1,
      "metadata": {
        "id": "UWwy8-ta2lHr"
      },
      "outputs": [],
      "source": [
        "import heapq\n",
        "import copy\n",
        "import itertools"
      ]
    },
    {
      "cell_type": "markdown",
      "metadata": {
        "id": "8CAlx_opph6X"
      },
      "source": [
        "# All Definitions"
      ]
    },
    {
      "cell_type": "code",
      "execution_count": 2,
      "metadata": {
        "id": "RhZG10k_093w"
      },
      "outputs": [],
      "source": [
        "# Function to initialize grid\n",
        "\n",
        "def initialize_grid(n, m, obstacle_positions):\n",
        "\n",
        "    # Initialize the grid with all cells as free (0)\n",
        "    grid = [[0] * m for _ in range(n)]\n",
        "\n",
        "    # Mark obstacle cells as blocked (1)\n",
        "    for obstacle in obstacle_positions:\n",
        "        x, y = obstacle\n",
        "        grid[x][y] = 1\n",
        "\n",
        "    return grid"
      ]
    },
    {
      "cell_type": "code",
      "execution_count": 3,
      "metadata": {
        "id": "NrUGPbdW1Ox_"
      },
      "outputs": [],
      "source": [
        "# Defining class RobotState for states of robot\n",
        "class RobotState:\n",
        "    def __init__(self, position, picked_up_item=-1, delivered=False, time=0):\n",
        "        self.position = position\n",
        "        self.picked_up_item = picked_up_item\n",
        "        self.delivered = delivered\n",
        "        self.time = time\n",
        "\n",
        "    def __eq__(self, other):\n",
        "        return (\n",
        "            self.position == other.position and\n",
        "            self.picked_up_item == other.picked_up_item and\n",
        "            self.delivered == other.delivered\n",
        "        )\n",
        "\n",
        "    def __hash__(self):\n",
        "        return hash((self.position, self.picked_up_item, self.delivered, self.time))\n",
        "\n",
        "    def __lt__(self, other):\n",
        "      return True\n",
        "\n",
        "    def __le__(self, other):\n",
        "      return False\n",
        "\n",
        "# Defining class for robot movement within the grid\n",
        "class RobotAction:\n",
        "    MOVE_UP = (-1, 0)\n",
        "    MOVE_DOWN = (1, 0)\n",
        "    MOVE_LEFT = (0, -1)\n",
        "    MOVE_RIGHT = (0, 1)\n",
        "    STAY_PUT = (0,0)\n",
        "\n",
        "# Low level search with Manhattan distance heuristic\n",
        "\n",
        "def low_level_search(grid, start_state, goal_state, item_pickup_locations, delivery_locations, constraints = []):\n",
        "    def heuristic(current_state, goal_state):\n",
        "        # Updated heuristic: Manhattan distance, considering time as cost (t=1 per step)\n",
        "        return (\n",
        "            abs(current_state.position[0] - goal_state.position[0]) +\n",
        "            abs(current_state.position[1] - goal_state.position[1]) +\n",
        "            current_state.time\n",
        "        )\n",
        "\n",
        "\n",
        "    open_set = [(0, start_state)]\n",
        "    g_score = {start_state: 0}\n",
        "    came_from = {}\n",
        "    visited = []\n",
        "\n",
        "    while open_set:\n",
        "        f, current_state = heapq.heappop(open_set)\n",
        "\n",
        "        if current_state.position == goal_state.position and current_state.delivered:\n",
        "            # Reconstruct the path\n",
        "\n",
        "            path = []\n",
        "            item_index = current_state.picked_up_item\n",
        "            while current_state in came_from:\n",
        "                path.append(current_state.position)\n",
        "                current_state = came_from[current_state]\n",
        "            path.append(start_state.position)\n",
        "            path.reverse()\n",
        "            return path, item_index\n",
        "\n",
        "\n",
        "        for action in [RobotAction.MOVE_UP, RobotAction.MOVE_DOWN, RobotAction.MOVE_LEFT, RobotAction.MOVE_RIGHT, RobotAction.STAY_PUT]:\n",
        "            new_x = current_state.position[0] + action[0]\n",
        "            new_y = current_state.position[1] + action[1]\n",
        "            new_position = (new_x, new_y)\n",
        "\n",
        "            if (\n",
        "                0 <= new_x < len(grid)\n",
        "                and 0 <= new_y < len(grid[0])\n",
        "                and grid[new_x][new_y] == 0\n",
        "            ):\n",
        "\n",
        "                if new_position in item_pickup_locations and not current_state.delivered and current_state.picked_up_item == -1:\n",
        "                        # Robot is over a pickup location and hasn't delivered or picked up an item.\n",
        "                        # Create two states: one where it picks up and one where it doesn't.\n",
        "                        new_state = RobotState(new_position, picked_up_item=item_pickup_locations.index(new_position), time=current_state.time+1)\n",
        "                        # g_score[new_state] = g_score[current_state]\n",
        "\n",
        "                elif current_state.picked_up_item != -1 and new_position == delivery_locations[current_state.picked_up_item] and not current_state.delivered:\n",
        "                    # Robot is over the delivery location and hasn't delivered. It must deliver.\n",
        "                    new_state = RobotState(new_position, current_state.picked_up_item, delivered=True, time=current_state.time+1)\n",
        "                    # g_score[new_state] = g_score[current_state]\n",
        "                else:\n",
        "                    # print(\"hi3\")\n",
        "                    new_state = RobotState(new_position, current_state.picked_up_item, current_state.delivered, time=current_state.time + 1)\n",
        "                    # g_score[new_state] = g_score[current_state] + 1\n",
        "\n",
        "                g_score[new_state] = g_score[current_state] + 1\n",
        "                f_score = g_score[new_state] + heuristic(new_state, goal_state)\n",
        "\n",
        "                flag = True\n",
        "\n",
        "                # for further constraints in problem\n",
        "                for constraint in constraints:\n",
        "                  if new_position == constraint[0] and new_state.time == constraint[1]:\n",
        "                    flag = False\n",
        "                    break\n",
        "\n",
        "                if new_state not in came_from or g_score[new_state] < g_score[came_from[new_state]]:\n",
        "                  if flag == True:\n",
        "                        heapq.heappush(open_set, (f_score, new_state))\n",
        "                        came_from[new_state] = current_state\n",
        "\n",
        "                    # print(\"New: \", new_state.position, new_state.picked_up_item, new_state.delivered, new_state.time)\n",
        "\n",
        "    return None  # If no path is found\n",
        "\n",
        "# Low level search for multiple robots\n",
        "def multi_robot_low_level_search(grid, robot_positions, final_destinations, pickup_positions, delivery_positions, constraints = {}):\n",
        "    robot_paths = []\n",
        "\n",
        "    pickup_locations = copy.deepcopy(pickup_positions)\n",
        "    delivery_locations = copy.deepcopy(delivery_positions)\n",
        "\n",
        "    for i in range(len(robot_positions)):\n",
        "\n",
        "        if i not in constraints:\n",
        "          constraint = []\n",
        "        else:\n",
        "          constraint = constraints[i]\n",
        "\n",
        "        start_state = RobotState(robot_positions[i])\n",
        "        goal_state = RobotState(final_destinations[i], delivered = True)\n",
        "\n",
        "        path, item_index = low_level_search(grid, start_state, goal_state, pickup_locations, delivery_locations, constraint)\n",
        "\n",
        "        # print(i, item_index)\n",
        "\n",
        "        if not path:\n",
        "            return None  # If no path is found for this robot\n",
        "\n",
        "        # Mark the delivered item on the grid so future robots won't pick it up.\n",
        "        if item_index != -1:\n",
        "            del pickup_locations[item_index]\n",
        "            del delivery_locations[item_index]\n",
        "\n",
        "        robot_paths.append(path)  # Exclude the starting state\n",
        "\n",
        "    return robot_paths"
      ]
    },
    {
      "cell_type": "code",
      "execution_count": 4,
      "metadata": {
        "id": "952wmZNcl6iB"
      },
      "outputs": [],
      "source": [
        "class Robot:\n",
        "    def __init__(self, id, start_position, item_pickup, delivery, destination, time=0):\n",
        "        self.id = id\n",
        "        self.start_position = start_position\n",
        "        self.item_pickup = item_pickup\n",
        "        self.delivery = delivery\n",
        "        self.destination = destination\n",
        "        self.time = time\n",
        "# Defining class for Constraint Based Search\n",
        "class CBSNode:\n",
        "    def __init__(self, constraints={}, paths = None):\n",
        "        self.constraints = constraints\n",
        "        self.paths = None\n",
        "        self.parent = None\n",
        "        self.time = None\n",
        "\n",
        "\n",
        "    def __hash__(self):\n",
        "        return hash((self.position, self.picked_up_item, self.delivered, self.time))\n",
        "\n",
        "    def __lt__(self, other):\n",
        "      return True\n",
        "\n",
        "    def __le__(self, other):\n",
        "      return False\n",
        "\n",
        "# initializing CBS\n",
        "def initialize_cbs(grid, robot_positions, final_destinations, pickup_positions, delivery_positions):\n",
        "    # Create an initial CBS node with no constraints.\n",
        "    initial_node = CBSNode()\n",
        "\n",
        "    initial_node.paths = multi_robot_low_level_search(grid, robot_positions, final_destinations, pickup_positions, delivery_positions)\n",
        "\n",
        "    max_time = 0\n",
        "    for path in initial_node.paths:\n",
        "      max_time = max(max_time, len(path))\n",
        "\n",
        "    initial_node.time = max_time\n",
        "\n",
        "    return initial_node"
      ]
    },
    {
      "cell_type": "code",
      "execution_count": 5,
      "metadata": {
        "id": "Oso5wO_Pm21N"
      },
      "outputs": [],
      "source": [
        "# Cheching for conflicts as a part of CBS implementation\n",
        "def conflict_check(node):\n",
        "  # max_time = 0\n",
        "  # for path in paths:\n",
        "  #   max_time = max(len(path), max_time)\n",
        "  paths = node.paths\n",
        "\n",
        "  for i in range(len(paths)):\n",
        "    for j in range(i+1, len(paths)):\n",
        "      min_time = min(len(paths[i]), len(paths[j]))\n",
        "      for k in range(min_time):\n",
        "        if paths[i][k] == paths[j][k]:\n",
        "          return ((i, paths[i][k], k), (j, paths[j][k], k) )\n",
        "\n",
        "  return None"
      ]
    },
    {
      "cell_type": "code",
      "execution_count": 6,
      "metadata": {
        "id": "fuzGuHXbd2p7"
      },
      "outputs": [],
      "source": [
        "# For child nodes\n",
        "def process_child(conflict, current_node):\n",
        "  constraints = copy.deepcopy(current_node.constraints)\n",
        "  bot_index = conflict[0]\n",
        "\n",
        "  if bot_index in constraints:\n",
        "    constraints[bot_index].append((conflict[1], conflict[2]))\n",
        "  else:\n",
        "    constraints[bot_index] = []\n",
        "    constraints[bot_index].append((conflict[1], conflict[2]))\n",
        "\n",
        "  child = CBSNode(constraints, current_node.paths)\n",
        "  child.parent = current_node\n",
        "\n",
        "  max_time = 0\n",
        "  for path in child.paths:\n",
        "    max_time = max(max_time, len(path))\n",
        "\n",
        "  child.time = max_time\n",
        "\n",
        "  return child"
      ]
    },
    {
      "cell_type": "code",
      "execution_count": 7,
      "metadata": {
        "id": "eFFZgKu6m1W7"
      },
      "outputs": [],
      "source": [
        "# Main implementation of CBS\n",
        "def cbs_main_loop(robot_positions, final_destinations, pickup_positions, delivery_positions, n, m, obstacle_positions):\n",
        "    grid = initialize_grid(n, m, obstacle_positions)\n",
        "\n",
        "    initial_node = initialize_cbs(grid, robot_positions, final_destinations, pickup_positions, delivery_positions)\n",
        "\n",
        "    open_list = [(0, initial_node)]\n",
        "\n",
        "    # print(initial_node.constraints)\n",
        "\n",
        "    # heapq.heappop(open_set)\n",
        "    # heapq.heappush(open_set, (f_score, new_state))\n",
        "\n",
        "    while open_list:\n",
        "        # Pop the node with the lowest cost from the open list\n",
        "        _, current_node = heapq.heappop(open_list)\n",
        "\n",
        "        # print(\"Time: \", current_node.time)\n",
        "        # for i in range(len(current_node.paths)):\n",
        "        #   print(\"Path \", i)\n",
        "        #   print(current_node.paths[i])\n",
        "        # print(\"Constraints: \", current_node.constraints)\n",
        "\n",
        "        conflict = conflict_check(current_node)\n",
        "            # If no conflicts in the current node, a solution is found\n",
        "        if conflict is None:\n",
        "          return current_node.time - 1, current_node.paths\n",
        "\n",
        "        child1 = process_child(conflict[0], current_node)\n",
        "        child2 = process_child(conflict[1], current_node)\n",
        "\n",
        "\n",
        "        # Add child nodes to the open list for further exploration\n",
        "        heapq.heappush(open_list, (child1.time, child1))\n",
        "        heapq.heappush(open_list, (child2.time, child2))\n",
        "\n",
        "    # If the open list is empty and no solution is found, return None\n",
        "    return None"
      ]
    },
    {
      "cell_type": "markdown",
      "metadata": {
        "id": "D6IzR3aVGydX"
      },
      "source": [
        "## A*"
      ]
    },
    {
      "cell_type": "code",
      "execution_count": 8,
      "metadata": {
        "id": "j8VNdT805b1_"
      },
      "outputs": [],
      "source": [
        "class GridState:\n",
        "    def __init__(self, robot_list = [], all_delivered = False, time = 0):\n",
        "        self.robot_list = robot_list\n",
        "        self.all_delivered = all_delivered\n",
        "        self.time = time\n",
        "\n",
        "    def __eq__(self, other):\n",
        "        # Compare two GridState instances based on their attributes\n",
        "        return (\n",
        "            self.robot_list == other.robot_list\n",
        "            and self.all_delivered == other.all_delivered\n",
        "            and self.time == other.time\n",
        "        )\n",
        "\n",
        "    def __hash__(self):\n",
        "      # Hash the tuple of attribute values to make GridState instances hashable\n",
        "      return hash((tuple(self.robot_list), self.all_delivered, self.time))\n",
        "\n",
        "    def __lt__(self, other):\n",
        "      return True\n",
        "\n",
        "    def __le__(self, other):\n",
        "      return False\n",
        "\n",
        "class RobotState:\n",
        "    def __init__(self, position, picked_up_item=-1, delivered=False, time=0):\n",
        "        self.position = position\n",
        "        self.picked_up_item = picked_up_item\n",
        "        self.delivered = delivered\n",
        "        self.time = time\n",
        "\n",
        "    def __eq__(self, other):\n",
        "        return (\n",
        "            self.position == other.position and\n",
        "            self.picked_up_item == other.picked_up_item and\n",
        "            self.delivered == other.delivered\n",
        "        )\n",
        "\n",
        "    def __hash__(self):\n",
        "        return hash((self.position, self.picked_up_item, self.delivered))\n",
        "\n",
        "    def __lt__(self, other):\n",
        "      return True\n",
        "\n",
        "    def __le__(self, other):\n",
        "      return False\n",
        "\n",
        "\n",
        "def print_gridstate(grid):\n",
        "  print(\"Time: \", grid.time)\n",
        "  for i in range(len(grid.robot_list)):\n",
        "    print(\"Robot \", i, \" Position: \", grid.robot_list[i].position, \" Item: \", grid.robot_list[i].picked_up_item, \" Del: \", grid.robot_list[i].delivered)\n",
        "\n",
        "\n",
        "class RobotAction:\n",
        "    MOVE_UP = (-1, 0)\n",
        "    MOVE_DOWN = (1, 0)\n",
        "    MOVE_LEFT = (0, -1)\n",
        "    MOVE_RIGHT = (0, 1)\n",
        "    STAY_PUT = (0,0)\n",
        "    # PICK_UP = (0, 0)  # Special action for picking up an item\n",
        "    # DELIVER = (0, 0)  # Special action for delivering an item (doesn't take time)\n",
        "\n",
        "\n",
        "    # def all_actions():\n",
        "    #     return [RobotAction.MOVE_UP, RobotAction.MOVE_DOWN, RobotAction.MOVE_LEFT, RobotAction.MOVE_RIGHT]\n",
        "\n",
        "def print_path(path):\n",
        "  time = 0\n",
        "  for grid in path:\n",
        "    print(\"Time: \", time)\n",
        "    time+=1\n",
        "    for i in range(len(grid.robot_list)):\n",
        "      print(\"Robot \", i, \" Pos: \", grid.robot_list[i].position, \" | Item: \", grid.robot_list[i].picked_up_item, \" | Delivered: \", grid.robot_list[i].delivered)\n",
        "\n",
        "# Defining function for A* search\n",
        "\n",
        "def A_star_search(grid, start_state, goal_state, item_pickup_locations, delivery_locations):\n",
        "    def heuristic(current_state, goal_state):\n",
        "        # Updated heuristic: Manhattan distance, considering time as cost (t=1 per step)\n",
        "        max_dist = 0\n",
        "        for i in range(len(current_state.robot_list)):\n",
        "          max_dist = max(max_dist, abs(current_state.robot_list[i].position[0] - goal_state.robot_list[i].position[0]) + abs(current_state.robot_list[i].position[1] - goal_state.robot_list[i].position[1]))\n",
        "\n",
        "        return max_dist\n",
        "\n",
        "    open_set = [(0, start_state)]\n",
        "    g_score = {start_state: 0}\n",
        "    came_from = {}\n",
        "\n",
        "    f_set = set()\n",
        "\n",
        "    while open_set:\n",
        "        f, current_state = heapq.heappop(open_set)\n",
        "\n",
        "        if f not in f_set:\n",
        "          f_set.add(f)\n",
        "          print(f)\n",
        "\n",
        "        # print(\"Current\")\n",
        "        # print_gridstate(current_state)\n",
        "        # print(\"State List\")\n",
        "        # for state in open_set:\n",
        "        #   print(state[0])\n",
        "        #   print_gridstate(state[1])\n",
        "\n",
        "        # print(f, current_state.position, current_state.picked_up_item, current_state.delivered, current_state.time)\n",
        "\n",
        "        goal_flag = True\n",
        "        for i in range(len(current_state.robot_list)):\n",
        "          if current_state.robot_list[i].position != goal_state.robot_list[i].position:\n",
        "\n",
        "            goal_flag = False\n",
        "            break\n",
        "\n",
        "          if not current_state.robot_list[i].delivered:\n",
        "\n",
        "            goal_flag = False\n",
        "            break\n",
        "\n",
        "        if goal_flag and not len(current_state.robot_list) == 0:\n",
        "            # Reconstruct the path\n",
        "            # print(\"Yay\")\n",
        "            # print_gridstate(current_state)\n",
        "            # paths = []\n",
        "            ans_time =  current_state.time\n",
        "\n",
        "            path = []\n",
        "            while current_state in came_from:\n",
        "                path.append(current_state)\n",
        "                current_state = came_from[current_state]\n",
        "            path.append(start_state)\n",
        "            path.reverse()\n",
        "            return path, ans_time\n",
        "\n",
        "        actions = [RobotAction.MOVE_UP, RobotAction.MOVE_DOWN, RobotAction.MOVE_LEFT, RobotAction.MOVE_RIGHT, RobotAction.STAY_PUT]\n",
        "\n",
        "        action_combinations = list(itertools.product(actions, repeat=len(current_state.robot_list)))\n",
        "\n",
        "        for action_combo in action_combinations:\n",
        "          # new_grid = GridState(current_state.robot_list, all_delivered = current_state.all_delivered, time = current_state.time+1)\n",
        "          g_score_robot = 0\n",
        "          robot_state_list = []\n",
        "          pos_list = []\n",
        "          move_flag = True\n",
        "          for i in range(len(action_combo)):\n",
        "              robot = current_state.robot_list[i]\n",
        "\n",
        "              new_x = robot.position[0] + action_combo[i][0]\n",
        "              new_y = robot.position[1] + action_combo[i][1]\n",
        "              new_position = (new_x, new_y)\n",
        "\n",
        "              # if robot.position == goal_state.robot_list[i].position and robot.delivered:\n",
        "              #   new_position = robot.position\n",
        "\n",
        "              if (\n",
        "                  0 <= new_x < len(grid)\n",
        "                  and 0 <= new_y < len(grid[0])\n",
        "                  and grid[new_x][new_y] == 0\n",
        "              ):\n",
        "\n",
        "                  # print(new_position in item_pickup_locations)\n",
        "                  # print(new_position, item_pickup_locations)\n",
        "\n",
        "\n",
        "                  pos_list.append(new_position)\n",
        "                  if new_position in item_pickup_locations and not robot.delivered and robot.picked_up_item == -1:\n",
        "                          # print(\"hi1\")\n",
        "                          # Robot is over a pickup location and hasn't delivered or picked up an item.\n",
        "                          # Create two states: one where it picks up and one where it doesn't.\n",
        "                          item_flag = True\n",
        "                          for robot in current_state.robot_list:\n",
        "                            if robot.picked_up_item == item_pickup_locations.index(new_position):\n",
        "                              item_flag = False\n",
        "                              break\n",
        "                          if item_flag:\n",
        "                            new_state = RobotState(new_position, picked_up_item=item_pickup_locations.index(new_position))\n",
        "                          else:\n",
        "                            new_state = RobotState(new_position)\n",
        "                          # g_score[new_state] = g_score[current_state]\n",
        "\n",
        "                  elif robot.picked_up_item != -1 and new_position == delivery_locations[robot.picked_up_item] and not robot.delivered:\n",
        "                      # print(\"hi2\")\n",
        "                      # Robot is over the delivery location and hasn't delivered. It must deliver.\n",
        "                      new_state = RobotState(new_position, picked_up_item = robot.picked_up_item, delivered=True)\n",
        "                      # g_score[new_state] = g_score[current_state]\n",
        "                  else:\n",
        "                      # print(\"hi3\")\n",
        "                      new_state = RobotState(new_position, robot.picked_up_item, robot.delivered)\n",
        "                      # g_score[new_state] = g_score[current_state] + 1\n",
        "\n",
        "                  robot_state_list.append(new_state)\n",
        "\n",
        "              else:\n",
        "                move_flag = False\n",
        "\n",
        "              if len(pos_list) != len(set(pos_list)):\n",
        "                move_flag = False\n",
        "\n",
        "\n",
        "\n",
        "          if move_flag:\n",
        "            new_grid = GridState(robot_state_list, current_state.all_delivered, current_state.time+1)\n",
        "            g_score[new_grid] = g_score[current_state] + 1\n",
        "            f_score = g_score[new_grid] + heuristic(new_grid, goal_state)\n",
        "\n",
        "                  # print(\"New Pos1: \", new_position)\n",
        "                  # print(\"New1: \", new_state.position, new_state.picked_up_item, new_state.delivered, new_state.time)\n",
        "\n",
        "                  # if new_state in came_from.keys():\n",
        "                    # print(\"pp\")\n",
        "                    # for key in came_from:\n",
        "                    #   print(came_from[key].position, came_from[key].picked_up_item, came_from[key].delivered, \" -> \", key.position, key.picked_up_item, key.delivered)\n",
        "                    # print(new_state == came_from[new_state])\n",
        "\n",
        "            if new_grid not in came_from or g_score[new_grid] < g_score[came_from[new_grid]]:\n",
        "                    heapq.heappush(open_set, (f_score, new_grid))\n",
        "                    came_from[new_grid] = current_state\n",
        "                      # print(\"yippee\")\n",
        "\n",
        "                      # print(\"New: \", new_state.position, new_state.picked_up_item, new_state.delivered, new_state.time)\n",
        "\n",
        "    return None  # No path found"
      ]
    },
    {
      "cell_type": "code",
      "execution_count": 9,
      "metadata": {
        "id": "WgTWOUSvPz0I"
      },
      "outputs": [],
      "source": [
        "def init_grid(robot_positions, final_destinations, pickup_positions, delivery_positions):\n",
        "  start_list = []\n",
        "  goal_list = []\n",
        "\n",
        "  # print_gridstate(start)\n",
        "\n",
        "  for i in range(len(robot_positions)):\n",
        "    start_list.append(RobotState(robot_positions[i]))\n",
        "\n",
        "  start = GridState(start_list)\n",
        "\n",
        "  # print(\"Start\")\n",
        "  # print_gridstate(start)\n",
        "\n",
        "  for i in range(len(robot_positions)):\n",
        "    goal_list.append(RobotState(final_destinations[i], delivered = True))\n",
        "\n",
        "  goal = GridState(goal_list)\n",
        "\n",
        "  # print(\"Goal\")\n",
        "  # print_gridstate(goal)\n",
        "\n",
        "  return start, goal"
      ]
    },
    {
      "cell_type": "markdown",
      "metadata": {
        "id": "mVz5gEyOph6a"
      },
      "source": [
        "# Examples (uncomment 1 at a time)"
      ]
    },
    {
      "cell_type": "code",
      "execution_count": 10,
      "metadata": {
        "id": "s6HAG0osS9ds"
      },
      "outputs": [],
      "source": [
        "# Example usage:\n",
        "# n = 2  # Number of rows\n",
        "# m = 2  # Number of columns\n",
        "# robot_positions = [(0, 0)]  # Positions of robots\n",
        "# pickup_positions = [(0, 1)]  # Positions of pickup locations\n",
        "# delivery_positions = [(1, 1)]  # Positions of delivery locations\n",
        "# final_destinations = [(1, 0)]  # Positions of final destinations for robots\n",
        "# obstacle_positions = []  # Positions of obstacles\n",
        "\n",
        "# grid = initialize_grid(n, m, obstacle_positions)"
      ]
    },
    {
      "cell_type": "code",
      "execution_count": 11,
      "metadata": {
        "id": "o80RW05Kdg_I"
      },
      "outputs": [],
      "source": [
        "# # Example usage:\n",
        "# n = 3  # Number of rows\n",
        "# m = 4  # Number of columns\n",
        "# robot_positions = [(0, 0), (1, 1)]  # Positions of robots\n",
        "# pickup_positions = [(1, 0), (0, 3)]  # Positions of pickup locations\n",
        "# delivery_positions = [(0, 1), (0, 2)]  # Positions of delivery locations\n",
        "# final_destinations = [(2, 0), (2, 3)]  # Positions of final destinations for robots\n",
        "# obstacle_positions = [(1, 3), (2, 1)]  # Positions of obstacles\n",
        "\n",
        "# grid = initialize_grid(n, m, obstacle_positions)\n"
      ]
    },
    {
      "cell_type": "code",
      "execution_count": 12,
      "metadata": {
        "id": "ssW8fy1xdpRV"
      },
      "outputs": [],
      "source": [
        "# n = 6  # Number of rows\n",
        "# m = 17  # Number of columns\n",
        "# robot_positions = [(0, 0), (5,9), (1, 7)]  # Positions of robots\n",
        "# pickup_positions = [(5, 0), (4, 6), (1, 12)]  # Positions of pickup locations\n",
        "# delivery_positions = [(0, 8), (5, 5), (3, 15)]  # Positions of delivery locations\n",
        "# final_destinations = [(3, 12), (0, 10), (0, 5)]  # Positions of final destinations for robots\n",
        "# obstacle_positions = [(0, 13), (2, 15), (2,1), (4, 10), (5, 3)]  # Positions of obstacles\n",
        "# # constraints = {}\n",
        "\n",
        "# grid = initialize_grid(n, m, obstacle_positions)"
      ]
    },
    {
      "cell_type": "code",
      "execution_count": 13,
      "metadata": {
        "id": "dBXkGaEprPnD"
      },
      "outputs": [],
      "source": [
        "n = 3  # Number of rows\n",
        "m = 5 # Number of columns\n",
        "robot_positions = [(0, 0), (2, 0), (0, 4)]  # Positions of robots\n",
        "pickup_positions = [(1, 2), (1, 3), (1,0)]  # Positions of pickup locations\n",
        "delivery_positions = [(0, 2), (2, 2), (2, 4)]  # Positions of delivery locations\n",
        "final_destinations = [(0, 1), (2, 1), (1, 4)]  # Positions of final destinations for robots\n",
        "obstacle_positions = [(1, 1), (0, 3), (2,3)]  # Positions of obstacles\n",
        "# constraints = {}\n",
        "\n",
        "grid = initialize_grid(n, m, obstacle_positions)"
      ]
    },
    {
      "cell_type": "markdown",
      "metadata": {
        "id": "6VtLIVglph6a"
      },
      "source": [
        "# Finding output"
      ]
    },
    {
      "cell_type": "markdown",
      "metadata": {
        "id": "4n3gTxMhx2Kb"
      },
      "source": [
        "## CBS Search"
      ]
    },
    {
      "cell_type": "code",
      "execution_count": 14,
      "metadata": {
        "colab": {
          "base_uri": "https://localhost:8080/",
          "height": 193
        },
        "id": "ycuyApXDtWGs",
        "outputId": "d07af464-8bd0-4cef-f0ab-0cca3230ef21"
      },
      "outputs": [],
      "source": [
        "# start_state, goal_state =  init_grid(robot_positions, final_destinations, pickup_positions, delivery_positions)\n",
        "# path, t = cbs_main_loop(robot_positions, final_destinations, pickup_positions, delivery_positions, n, m, obstacle_positions)"
      ]
    },
    {
      "cell_type": "markdown",
      "metadata": {
        "id": "yCCBSAttxrbZ"
      },
      "source": [
        "## A* Search\n"
      ]
    },
    {
      "cell_type": "code",
      "execution_count": 15,
      "metadata": {
        "id": "UEOy-m_NPil4"
      },
      "outputs": [
        {
          "name": "stdout",
          "output_type": "stream",
          "text": [
            "0\n",
            "1\n",
            "2\n",
            "3\n",
            "4\n",
            "5\n",
            "6\n",
            "7\n",
            "8\n",
            "9\n",
            "10\n",
            "11\n",
            "12\n",
            "13\n"
          ]
        }
      ],
      "source": [
        "start_state, goal_state =  init_grid(robot_positions, final_destinations, pickup_positions, delivery_positions)\n",
        "path, t = A_star_search(grid, start_state, goal_state, pickup_positions, delivery_positions)"
      ]
    },
    {
      "cell_type": "markdown",
      "metadata": {
        "id": "slKL542Px-wC"
      },
      "source": [
        "## Printing Output"
      ]
    },
    {
      "cell_type": "code",
      "execution_count": 16,
      "metadata": {
        "id": "WzewDwTDuzq7"
      },
      "outputs": [
        {
          "name": "stdout",
          "output_type": "stream",
          "text": [
            "Time:  0\n",
            "Robot  0  Pos:  (0, 0)  | Item:  -1  | Delivered:  False\n",
            "Robot  1  Pos:  (2, 0)  | Item:  -1  | Delivered:  False\n",
            "Robot  2  Pos:  (0, 4)  | Item:  -1  | Delivered:  False\n",
            "Time:  1\n",
            "Robot  0  Pos:  (1, 0)  | Item:  2  | Delivered:  False\n",
            "Robot  1  Pos:  (2, 1)  | Item:  -1  | Delivered:  False\n",
            "Robot  2  Pos:  (1, 4)  | Item:  -1  | Delivered:  False\n",
            "Time:  2\n",
            "Robot  0  Pos:  (2, 0)  | Item:  2  | Delivered:  False\n",
            "Robot  1  Pos:  (2, 2)  | Item:  -1  | Delivered:  False\n",
            "Robot  2  Pos:  (1, 3)  | Item:  1  | Delivered:  False\n",
            "Time:  3\n",
            "Robot  0  Pos:  (2, 1)  | Item:  2  | Delivered:  False\n",
            "Robot  1  Pos:  (1, 2)  | Item:  0  | Delivered:  False\n",
            "Robot  2  Pos:  (1, 3)  | Item:  1  | Delivered:  False\n",
            "Time:  4\n",
            "Robot  0  Pos:  (2, 2)  | Item:  2  | Delivered:  False\n",
            "Robot  1  Pos:  (0, 2)  | Item:  0  | Delivered:  True\n",
            "Robot  2  Pos:  (1, 2)  | Item:  1  | Delivered:  False\n",
            "Time:  5\n",
            "Robot  0  Pos:  (1, 2)  | Item:  2  | Delivered:  False\n",
            "Robot  1  Pos:  (0, 2)  | Item:  0  | Delivered:  True\n",
            "Robot  2  Pos:  (2, 2)  | Item:  1  | Delivered:  True\n",
            "Time:  6\n",
            "Robot  0  Pos:  (1, 3)  | Item:  2  | Delivered:  False\n",
            "Robot  1  Pos:  (1, 2)  | Item:  0  | Delivered:  True\n",
            "Robot  2  Pos:  (2, 2)  | Item:  1  | Delivered:  True\n",
            "Time:  7\n",
            "Robot  0  Pos:  (1, 4)  | Item:  2  | Delivered:  False\n",
            "Robot  1  Pos:  (2, 2)  | Item:  0  | Delivered:  True\n",
            "Robot  2  Pos:  (1, 2)  | Item:  1  | Delivered:  True\n",
            "Time:  8\n",
            "Robot  0  Pos:  (2, 4)  | Item:  2  | Delivered:  True\n",
            "Robot  1  Pos:  (2, 1)  | Item:  0  | Delivered:  True\n",
            "Robot  2  Pos:  (1, 3)  | Item:  1  | Delivered:  True\n",
            "Time:  9\n",
            "Robot  0  Pos:  (1, 4)  | Item:  2  | Delivered:  True\n",
            "Robot  1  Pos:  (2, 1)  | Item:  0  | Delivered:  True\n",
            "Robot  2  Pos:  (1, 3)  | Item:  1  | Delivered:  True\n",
            "Time:  10\n",
            "Robot  0  Pos:  (1, 3)  | Item:  2  | Delivered:  True\n",
            "Robot  1  Pos:  (2, 1)  | Item:  0  | Delivered:  True\n",
            "Robot  2  Pos:  (1, 4)  | Item:  1  | Delivered:  True\n",
            "Time:  11\n",
            "Robot  0  Pos:  (1, 2)  | Item:  2  | Delivered:  True\n",
            "Robot  1  Pos:  (2, 1)  | Item:  0  | Delivered:  True\n",
            "Robot  2  Pos:  (1, 4)  | Item:  1  | Delivered:  True\n",
            "Time:  12\n",
            "Robot  0  Pos:  (0, 2)  | Item:  2  | Delivered:  True\n",
            "Robot  1  Pos:  (2, 1)  | Item:  0  | Delivered:  True\n",
            "Robot  2  Pos:  (1, 4)  | Item:  1  | Delivered:  True\n",
            "Time:  13\n",
            "Robot  0  Pos:  (0, 1)  | Item:  2  | Delivered:  True\n",
            "Robot  1  Pos:  (2, 1)  | Item:  0  | Delivered:  True\n",
            "Robot  2  Pos:  (1, 4)  | Item:  1  | Delivered:  True\n"
          ]
        }
      ],
      "source": [
        "print_path(path)"
      ]
    },
    {
      "cell_type": "code",
      "execution_count": 17,
      "metadata": {
        "id": "i-aYWlz6Y2Zl"
      },
      "outputs": [
        {
          "data": {
            "text/plain": [
              "13"
            ]
          },
          "execution_count": 17,
          "metadata": {},
          "output_type": "execute_result"
        }
      ],
      "source": [
        "t"
      ]
    },
    {
      "cell_type": "markdown",
      "metadata": {
        "id": "GVHE4P6Vph6b"
      },
      "source": [
        "# Plotting output"
      ]
    },
    {
      "cell_type": "code",
      "execution_count": 18,
      "metadata": {
        "id": "s_Wk4XGwph6c"
      },
      "outputs": [
        {
          "name": "stdout",
          "output_type": "stream",
          "text": [
            "x:\n",
            " [0, 0, 0, 1, 2, 2, 3, 4, 4, 4, 3, 2, 2, 1]\n",
            "y:\n",
            " [0, 1, 2, 2, 2, 1, 1, 1, 2, 1, 1, 1, 0, 0]\n",
            "x:\n",
            " [0, 1, 2, 2, 2, 2, 2, 2, 1, 1, 1, 1, 1, 1]\n",
            "y:\n",
            " [2, 2, 2, 1, 0, 0, 1, 2, 2, 2, 2, 2, 2, 2]\n",
            "x:\n",
            " [4, 4, 3, 3, 2, 2, 2, 2, 3, 3, 4, 4, 4, 4]\n",
            "y:\n",
            " [0, 1, 1, 1, 1, 2, 2, 1, 1, 1, 1, 1, 1, 1]\n"
          ]
        },
        {
          "data": {
            "image/png": "[encoded data removed]",
            "text/plain": [
              "<Figure size 640x480 with 1 Axes>"
            ]
          },
          "metadata": {},
          "output_type": "display_data"
        }
      ],
      "source": [
        "import matplotlib.pyplot as plt\n",
        "\n",
        "def visualize_paths(grid, robot_positions, paths):\n",
        "    # of the form (y,x) where y is coumn index and x is row index\n",
        "\n",
        "    # Create a figure and axis for the plot\n",
        "    fig, ax = plt.subplots()\n",
        "\n",
        "    # Plot the grid\n",
        "    count=0\n",
        "    for i in range(len(grid)):\n",
        "        for j in range(len(grid[0])):\n",
        "\n",
        "            if grid[i][j] == 1:  # Obstacle\n",
        "                count+=1\n",
        "                ax.plot(j, i, 'ko', label=f'Obstacle {count}')  # Represent obstacles as black dots\n",
        "\n",
        "    # Plot the paths of each robot\n",
        "    colors = ['b', 'g', 'r', 'c', 'm', 'y', 'k']\n",
        "    for i in range(len(paths[0].robot_list)):  # Assuming all paths have the same number of robots\n",
        "        x = [state.robot_list[i].position[1] for state in paths]\n",
        "        print(\"x:\\n\", x)\n",
        "        y = [state.robot_list[i].position[0] for state in paths]\n",
        "        print(\"y:\\n\", y)\n",
        "        ax.plot(x, y, linestyle='-', marker='o', markersize=4, label=f'Robot {i}', color=colors[i % len(colors)])\n",
        "\n",
        "    # Set axis limits and labels\n",
        "    ax.set_xlim(0, len(grid[0]))\n",
        "    ax.set_ylim(0, len(grid))\n",
        "    ax.set_xlabel('X')\n",
        "    ax.set_ylabel('Y')\n",
        "\n",
        "    # Add a legend\n",
        "    ax.legend(loc='upper right')\n",
        "\n",
        "    # Show the plot\n",
        "    plt.gca()\n",
        "    plt.grid(True)\n",
        "    plt.show()\n",
        "\n",
        "# Call the visualization function with your grid, robot positions, and paths\n",
        "visualize_paths(grid, robot_positions, path)\n"
      ]
    }
  ],
  "metadata": {
    "colab": {
      "provenance": []
    },
    "kernelspec": {
      "display_name": "Python 3",
      "name": "python3"
    },
    "language_info": {
      "codemirror_mode": {
        "name": "ipython",
        "version": 3
      },
      "file_extension": ".py",
      "mimetype": "text/x-python",
      "name": "python",
      "nbconvert_exporter": "python",
      "pygments_lexer": "ipython3",
      "version": "3.11.2"
    }
  },
  "nbformat": 4,
  "nbformat_minor": 0
}
