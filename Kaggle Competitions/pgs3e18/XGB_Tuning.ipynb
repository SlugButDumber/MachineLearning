{
 "cells": [
  {
   "cell_type": "markdown",
   "metadata": {},
   "source": [
    "# Importing Libraries and Datasets"
   ]
  },
  {
   "cell_type": "markdown",
   "metadata": {},
   "source": [
    "## Libraries"
   ]
  },
  {
   "cell_type": "code",
   "execution_count": 1,
   "metadata": {},
   "outputs": [],
   "source": [
    "import numpy as np\n",
    "import pandas as pd"
   ]
  },
  {
   "cell_type": "markdown",
   "metadata": {},
   "source": [
    "## Training Dataset"
   ]
  },
  {
   "cell_type": "code",
   "execution_count": 2,
   "metadata": {},
   "outputs": [],
   "source": [
    "dataset = pd.read_csv('train.csv')\n",
    "X = dataset.iloc[:, 1:-6].values\n",
    "y = dataset.iloc[:, -6:-4].values"
   ]
  },
  {
   "cell_type": "markdown",
   "metadata": {},
   "source": [
    "## Testing Dataset"
   ]
  },
  {
   "cell_type": "code",
   "execution_count": 3,
   "metadata": {},
   "outputs": [],
   "source": [
    "Test_dataset = pd.read_csv('test.csv')\n",
    "X_submission = Test_dataset.iloc[:, 1:].values"
   ]
  },
  {
   "cell_type": "markdown",
   "metadata": {},
   "source": [
    "# Spliting Training Dataset into test and training sets"
   ]
  },
  {
   "cell_type": "code",
   "execution_count": 4,
   "metadata": {},
   "outputs": [],
   "source": [
    "from sklearn.model_selection import train_test_split\n",
    "X_train, X_test, y_train, y_test = train_test_split(X, y, test_size = 0.2, random_state = 0)"
   ]
  },
  {
   "cell_type": "markdown",
   "metadata": {},
   "source": [
    "# Feature Scaling"
   ]
  },
  {
   "cell_type": "markdown",
   "metadata": {},
   "source": [
    "## Training Dataset"
   ]
  },
  {
   "cell_type": "markdown",
   "metadata": {},
   "source": [
    "### Training Set"
   ]
  },
  {
   "cell_type": "code",
   "execution_count": 5,
   "metadata": {},
   "outputs": [],
   "source": [
    "from sklearn.preprocessing import StandardScaler\n",
    "sc = StandardScaler()\n",
    "X_train = sc.fit_transform(X_train)"
   ]
  },
  {
   "cell_type": "markdown",
   "metadata": {},
   "source": [
    "### Test Set"
   ]
  },
  {
   "cell_type": "code",
   "execution_count": 6,
   "metadata": {},
   "outputs": [],
   "source": [
    "X_test = sc.transform(X_test)"
   ]
  },
  {
   "cell_type": "markdown",
   "metadata": {},
   "source": [
    "## Test Dataset"
   ]
  },
  {
   "cell_type": "code",
   "execution_count": 7,
   "metadata": {},
   "outputs": [],
   "source": [
    "X_submission = sc.transform(X_submission)"
   ]
  },
  {
   "cell_type": "markdown",
   "metadata": {},
   "source": [
    "# Training and Tuning using Optuna"
   ]
  },
  {
   "cell_type": "code",
   "execution_count": 8,
   "metadata": {},
   "outputs": [
    {
     "name": "stderr",
     "output_type": "stream",
     "text": [
      "c:\\Drive D\\ArhatPersonal\\mlenv\\Lib\\site-packages\\tqdm\\auto.py:21: TqdmWarning: IProgress not found. Please update jupyter and ipywidgets. See https://ipywidgets.readthedocs.io/en/stable/user_install.html\n",
      "  from .autonotebook import tqdm as notebook_tqdm\n",
      "[I 2023-07-09 12:16:01,973] A new study created in memory with name: no-name-69cb855d-5141-455c-a9be-531ad4049e48\n",
      "[I 2023-07-09 12:16:02,199] Trial 0 finished with value: 0.46992865814417206 and parameters: {'max_depth': 2, 'learning_rate': 0.8883505759378988, 'n_estimators': 203, 'min_child_weight': 8, 'gamma': 0.42406630868952166, 'subsample': 0.7470873236543372, 'colsample_bytree': 0.1954053266955858, 'reg_alpha': 0.07560406608975936, 'reg_lambda': 0.6629720563237611}. Best is trial 0 with value: 0.46992865814417206.\n",
      "[I 2023-07-09 12:16:04,851] Trial 1 finished with value: 1.3501554914305905e+18 and parameters: {'max_depth': 10, 'learning_rate': 0.795750728106047, 'n_estimators': 978, 'min_child_weight': 9, 'gamma': 0.09375843632805986, 'subsample': 0.10735492447974528, 'colsample_bytree': 0.9751252261493091, 'reg_alpha': 0.5872631102431511, 'reg_lambda': 0.4544009056315452}. Best is trial 0 with value: 0.46992865814417206.\n",
      "[I 2023-07-09 12:16:05,864] Trial 2 finished with value: 0.4810921416306437 and parameters: {'max_depth': 4, 'learning_rate': 0.43452159447487715, 'n_estimators': 565, 'min_child_weight': 9, 'gamma': 0.44829635357784087, 'subsample': 0.8983561969100697, 'colsample_bytree': 0.5301402099579751, 'reg_alpha': 0.29955073834908563, 'reg_lambda': 0.1170265149454233}. Best is trial 0 with value: 0.46992865814417206.\n",
      "[I 2023-07-09 12:16:06,362] Trial 3 finished with value: 184.7180223839357 and parameters: {'max_depth': 7, 'learning_rate': 0.48132494100248197, 'n_estimators': 261, 'min_child_weight': 5, 'gamma': 0.11541482580977798, 'subsample': 0.038618660207857196, 'colsample_bytree': 0.8825224196294882, 'reg_alpha': 0.6833388664998349, 'reg_lambda': 0.08063965773236943}. Best is trial 0 with value: 0.46992865814417206.\n",
      "[I 2023-07-09 12:16:07,426] Trial 4 finished with value: 0.6491712959392626 and parameters: {'max_depth': 7, 'learning_rate': 0.9428008492607239, 'n_estimators': 360, 'min_child_weight': 7, 'gamma': 0.8100900969064672, 'subsample': 0.6340495561937138, 'colsample_bytree': 0.3417087229898613, 'reg_alpha': 0.2072353888431512, 'reg_lambda': 0.8439591807875464}. Best is trial 0 with value: 0.46992865814417206.\n",
      "[I 2023-07-09 12:16:08,407] Trial 5 finished with value: 0.5641446511299626 and parameters: {'max_depth': 8, 'learning_rate': 0.8308770336255465, 'n_estimators': 207, 'min_child_weight': 10, 'gamma': 0.27677356584517204, 'subsample': 0.8600820907335119, 'colsample_bytree': 0.8366450067811385, 'reg_alpha': 0.32717492530524117, 'reg_lambda': 0.5833754105166057}. Best is trial 0 with value: 0.46992865814417206.\n",
      "[I 2023-07-09 12:16:09,496] Trial 6 finished with value: 0.4589667623668616 and parameters: {'max_depth': 4, 'learning_rate': 0.3222567585052259, 'n_estimators': 551, 'min_child_weight': 7, 'gamma': 0.9630130183145996, 'subsample': 0.8484799262386179, 'colsample_bytree': 0.7361452160031634, 'reg_alpha': 0.4941734852423218, 'reg_lambda': 0.5570551730376969}. Best is trial 6 with value: 0.4589667623668616.\n",
      "[I 2023-07-09 12:16:10,290] Trial 7 finished with value: 0.4388444818217603 and parameters: {'max_depth': 2, 'learning_rate': 0.024141204147469564, 'n_estimators': 630, 'min_child_weight': 9, 'gamma': 0.25658662910639335, 'subsample': 0.9275276417177494, 'colsample_bytree': 0.8767631150180224, 'reg_alpha': 0.07635803147849338, 'reg_lambda': 0.5941321278690371}. Best is trial 7 with value: 0.4388444818217603.\n",
      "[I 2023-07-09 12:16:10,734] Trial 8 finished with value: 0.5383977672660081 and parameters: {'max_depth': 3, 'learning_rate': 0.9440445606146223, 'n_estimators': 407, 'min_child_weight': 8, 'gamma': 0.4852598809442968, 'subsample': 0.441015133920714, 'colsample_bytree': 0.0897150551618988, 'reg_alpha': 0.587254823338107, 'reg_lambda': 0.9457431539902991}. Best is trial 7 with value: 0.4388444818217603.\n",
      "[I 2023-07-09 12:16:11,114] Trial 9 finished with value: 0.489805776294179 and parameters: {'max_depth': 2, 'learning_rate': 0.5574102557595486, 'n_estimators': 360, 'min_child_weight': 8, 'gamma': 0.6027992693606995, 'subsample': 0.2757701570503162, 'colsample_bytree': 0.788920735438232, 'reg_alpha': 0.4032728120509398, 'reg_lambda': 0.4357980666869267}. Best is trial 7 with value: 0.4388444818217603.\n",
      "[I 2023-07-09 12:16:11,719] Trial 10 finished with value: 0.44179033165290754 and parameters: {'max_depth': 1, 'learning_rate': 0.010618738052378405, 'n_estimators': 774, 'min_child_weight': 2, 'gamma': 0.043481693762322554, 'subsample': 0.9962089816820371, 'colsample_bytree': 0.6547437014794536, 'reg_alpha': 0.9814676959897605, 'reg_lambda': 0.31825118449872286}. Best is trial 7 with value: 0.4388444818217603.\n",
      "[I 2023-07-09 12:16:12,326] Trial 11 finished with value: 0.43977323044882033 and parameters: {'max_depth': 1, 'learning_rate': 0.02323556146396466, 'n_estimators': 780, 'min_child_weight': 1, 'gamma': 0.02288658476005636, 'subsample': 0.9940864431921546, 'colsample_bytree': 0.6306203477415737, 'reg_alpha': 0.9717146896308748, 'reg_lambda': 0.2742673891191722}. Best is trial 7 with value: 0.4388444818217603.\n",
      "[I 2023-07-09 12:16:12,909] Trial 12 finished with value: 0.44137530467369074 and parameters: {'max_depth': 1, 'learning_rate': 0.011641216064178284, 'n_estimators': 727, 'min_child_weight': 1, 'gamma': 0.24194350848253665, 'subsample': 0.697215628198767, 'colsample_bytree': 0.5390402318635198, 'reg_alpha': 0.04127286973324085, 'reg_lambda': 0.2810880750160404}. Best is trial 7 with value: 0.4388444818217603.\n",
      "[I 2023-07-09 12:16:14,411] Trial 13 finished with value: 0.4609974350840263 and parameters: {'max_depth': 4, 'learning_rate': 0.17857403028689475, 'n_estimators': 749, 'min_child_weight': 4, 'gamma': 0.0345638824173552, 'subsample': 0.9889524155199697, 'colsample_bytree': 0.6564334766651476, 'reg_alpha': 0.8282617835735432, 'reg_lambda': 0.7187766464800214}. Best is trial 7 with value: 0.4388444818217603.\n",
      "[I 2023-07-09 12:16:15,315] Trial 14 finished with value: 0.4417100752741026 and parameters: {'max_depth': 1, 'learning_rate': 0.16010856713603822, 'n_estimators': 941, 'min_child_weight': 3, 'gamma': 0.2524586389968174, 'subsample': 0.5581404481485034, 'colsample_bytree': 0.9284638634517377, 'reg_alpha': 0.782647716663563, 'reg_lambda': 0.2530103697977341}. Best is trial 7 with value: 0.4388444818217603.\n",
      "[I 2023-07-09 12:16:17,077] Trial 15 finished with value: 0.4697343579010798 and parameters: {'max_depth': 5, 'learning_rate': 0.15233256377374055, 'n_estimators': 669, 'min_child_weight': 5, 'gamma': 0.15373983470852468, 'subsample': 0.7860045435230321, 'colsample_bytree': 0.7041252009493473, 'reg_alpha': 0.17635692759973193, 'reg_lambda': 0.37691916931405195}. Best is trial 7 with value: 0.4388444818217603.\n",
      "[I 2023-07-09 12:16:17,228] Trial 16 finished with value: 0.44139537849331334 and parameters: {'max_depth': 3, 'learning_rate': 0.2834108194015056, 'n_estimators': 52, 'min_child_weight': 1, 'gamma': 0.3345792865811298, 'subsample': 0.992276164720983, 'colsample_bytree': 0.9647296029540979, 'reg_alpha': 0.9364441651255242, 'reg_lambda': 0.4964726607904537}. Best is trial 7 with value: 0.4388444818217603.\n",
      "[I 2023-07-09 12:16:18,173] Trial 17 finished with value: 0.4384943100696063 and parameters: {'max_depth': 2, 'learning_rate': 0.02161655127574652, 'n_estimators': 872, 'min_child_weight': 3, 'gamma': 0.018358035033690635, 'subsample': 0.6808682667341523, 'colsample_bytree': 0.4208599692321328, 'reg_alpha': 0.4640456127090198, 'reg_lambda': 0.1930070351938326}. Best is trial 17 with value: 0.4384943100696063.\n",
      "[I 2023-07-09 12:16:20,429] Trial 18 finished with value: 0.4706047900173154 and parameters: {'max_depth': 6, 'learning_rate': 0.10397666970486066, 'n_estimators': 874, 'min_child_weight': 3, 'gamma': 0.17446189689198316, 'subsample': 0.6562072815623448, 'colsample_bytree': 0.4044423367322376, 'reg_alpha': 0.013052500832667624, 'reg_lambda': 0.022288015488102608}. Best is trial 17 with value: 0.4384943100696063.\n",
      "[I 2023-07-09 12:16:21,328] Trial 19 finished with value: 0.46784321177131355 and parameters: {'max_depth': 3, 'learning_rate': 0.2600465386310117, 'n_estimators': 636, 'min_child_weight': 6, 'gamma': 0.1759700166024273, 'subsample': 0.535033033034928, 'colsample_bytree': 0.4077586635646667, 'reg_alpha': 0.158624575534299, 'reg_lambda': 0.1797222016864784}. Best is trial 17 with value: 0.4384943100696063.\n",
      "[I 2023-07-09 12:16:23,744] Trial 20 finished with value: 0.4587254995773437 and parameters: {'max_depth': 5, 'learning_rate': 0.09065362051620732, 'n_estimators': 864, 'min_child_weight': 4, 'gamma': 0.3492130229507196, 'subsample': 0.7779225716786342, 'colsample_bytree': 0.824184552310502, 'reg_alpha': 0.4453358624472936, 'reg_lambda': 0.37166537610229244}. Best is trial 17 with value: 0.4384943100696063.\n",
      "[I 2023-07-09 12:16:24,686] Trial 21 finished with value: 0.43874752521454546 and parameters: {'max_depth': 2, 'learning_rate': 0.04090825467904834, 'n_estimators': 846, 'min_child_weight': 2, 'gamma': 0.010869825240775826, 'subsample': 0.9047456726929229, 'colsample_bytree': 0.6082295497230277, 'reg_alpha': 0.573077706742577, 'reg_lambda': 0.18712533141620485}. Best is trial 17 with value: 0.4384943100696063.\n",
      "[I 2023-07-09 12:16:25,635] Trial 22 finished with value: 0.4428348830327075 and parameters: {'max_depth': 2, 'learning_rate': 0.10925050715546303, 'n_estimators': 864, 'min_child_weight': 3, 'gamma': 0.016569646288939893, 'subsample': 0.8847539460994271, 'colsample_bytree': 0.5648697248123882, 'reg_alpha': 0.34503509218546446, 'reg_lambda': 0.223728817489164}. Best is trial 17 with value: 0.4384943100696063.\n",
      "[I 2023-07-09 12:16:26,240] Trial 23 finished with value: 0.4445468123726037 and parameters: {'max_depth': 2, 'learning_rate': 0.22109603873342415, 'n_estimators': 480, 'min_child_weight': 2, 'gamma': 0.11819409484898868, 'subsample': 0.7985091727681058, 'colsample_bytree': 0.7600030710204885, 'reg_alpha': 0.5420886534926628, 'reg_lambda': 0.15969896189983812}. Best is trial 17 with value: 0.4384943100696063.\n",
      "[I 2023-07-09 12:16:27,139] Trial 24 finished with value: 0.443962298268028 and parameters: {'max_depth': 3, 'learning_rate': 0.08105271049981268, 'n_estimators': 625, 'min_child_weight': 2, 'gamma': 0.20812762413203453, 'subsample': 0.7009299648152321, 'colsample_bytree': 0.4532788998802948, 'reg_alpha': 0.26074940067498587, 'reg_lambda': 0.19530099221814587}. Best is trial 17 with value: 0.4384943100696063.\n",
      "[I 2023-07-09 12:16:28,331] Trial 25 finished with value: 0.4498441321488003 and parameters: {'max_depth': 2, 'learning_rate': 0.20865152216793909, 'n_estimators': 917, 'min_child_weight': 4, 'gamma': 0.08932314059431319, 'subsample': 0.8962211402664343, 'colsample_bytree': 0.8891782884933827, 'reg_alpha': 0.4090630288415208, 'reg_lambda': 0.3542487827764994}. Best is trial 17 with value: 0.4384943100696063.\n",
      "[I 2023-07-09 12:16:30,813] Trial 26 finished with value: 0.5110311364557032 and parameters: {'max_depth': 4, 'learning_rate': 0.33426961410158673, 'n_estimators': 996, 'min_child_weight': 6, 'gamma': 0.012151159693369665, 'subsample': 0.6266331934174552, 'colsample_bytree': 0.9987558979411498, 'reg_alpha': 0.10962706178689172, 'reg_lambda': 0.07930175661935061}. Best is trial 17 with value: 0.4384943100696063.\n",
      "[I 2023-07-09 12:16:34,122] Trial 27 finished with value: 0.4531514938211724 and parameters: {'max_depth': 10, 'learning_rate': 0.06789632995033436, 'n_estimators': 696, 'min_child_weight': 10, 'gamma': 0.15632558432615906, 'subsample': 0.9242331588836689, 'colsample_bytree': 0.6018673177661169, 'reg_alpha': 0.24498240591380127, 'reg_lambda': 0.020151176239754265}. Best is trial 17 with value: 0.4384943100696063.\n",
      "[I 2023-07-09 12:16:35,311] Trial 28 finished with value: 0.4531822984548442 and parameters: {'max_depth': 3, 'learning_rate': 0.1446055359545762, 'n_estimators': 810, 'min_child_weight': 2, 'gamma': 0.2872161595303715, 'subsample': 0.8216737634920458, 'colsample_bytree': 0.49205465392181935, 'reg_alpha': 0.47514173989285574, 'reg_lambda': 0.14370480803921254}. Best is trial 17 with value: 0.4384943100696063.\n",
      "[I 2023-07-09 12:16:35,788] Trial 29 finished with value: 0.44030969279674115 and parameters: {'max_depth': 1, 'learning_rate': 0.021220070114465625, 'n_estimators': 595, 'min_child_weight': 3, 'gamma': 0.35700577407383255, 'subsample': 0.7485666655792121, 'colsample_bytree': 0.2876966341953788, 'reg_alpha': 0.1024692628068205, 'reg_lambda': 0.6323363377034326}. Best is trial 17 with value: 0.4384943100696063.\n",
      "[I 2023-07-09 12:16:36,407] Trial 30 finished with value: 0.44627259678032377 and parameters: {'max_depth': 2, 'learning_rate': 0.23722795958472925, 'n_estimators': 493, 'min_child_weight': 5, 'gamma': 0.20831727484093548, 'subsample': 0.7535127432199861, 'colsample_bytree': 0.7162478861508157, 'reg_alpha': 0.3755422583781053, 'reg_lambda': 0.4240506009910002}. Best is trial 17 with value: 0.4384943100696063.\n",
      "[I 2023-07-09 12:16:37,046] Trial 31 finished with value: 0.4392573247859534 and parameters: {'max_depth': 1, 'learning_rate': 0.05715525350161308, 'n_estimators': 796, 'min_child_weight': 1, 'gamma': 0.09644048807525268, 'subsample': 0.9380780323203007, 'colsample_bytree': 0.6609488918717038, 'reg_alpha': 0.6331108127952723, 'reg_lambda': 0.2836915753260308}. Best is trial 17 with value: 0.4384943100696063.\n",
      "[I 2023-07-09 12:16:37,923] Trial 32 finished with value: 0.44144609623967723 and parameters: {'max_depth': 2, 'learning_rate': 0.08823334894478935, 'n_estimators': 797, 'min_child_weight': 1, 'gamma': 0.08782216850049152, 'subsample': 0.9287477174279035, 'colsample_bytree': 0.5719435747232693, 'reg_alpha': 0.6480899193508631, 'reg_lambda': 0.23434974010481802}. Best is trial 17 with value: 0.4384943100696063.\n",
      "[I 2023-07-09 12:16:38,578] Trial 33 finished with value: 0.43992077396501866 and parameters: {'max_depth': 1, 'learning_rate': 0.15427908486229772, 'n_estimators': 845, 'min_child_weight': 2, 'gamma': 0.09393521683194134, 'subsample': 0.8435571677153363, 'colsample_bytree': 0.48315880256486265, 'reg_alpha': 0.5388589034442813, 'reg_lambda': 0.3315307998787164}. Best is trial 17 with value: 0.4384943100696063.\n",
      "[I 2023-07-09 12:16:40,002] Trial 34 finished with value: 0.4443581468471927 and parameters: {'max_depth': 3, 'learning_rate': 0.06878276764759023, 'n_estimators': 932, 'min_child_weight': 1, 'gamma': 0.0773436003475835, 'subsample': 0.9273250821392455, 'colsample_bytree': 0.6998105148674095, 'reg_alpha': 0.6392750852929523, 'reg_lambda': 0.11331240806901648}. Best is trial 17 with value: 0.4384943100696063.\n",
      "[I 2023-07-09 12:16:40,576] Trial 35 finished with value: 0.4407384220389806 and parameters: {'max_depth': 1, 'learning_rate': 0.1936902174052807, 'n_estimators': 705, 'min_child_weight': 9, 'gamma': 0.12580401131394944, 'subsample': 0.8212582542284916, 'colsample_bytree': 0.5971626205035836, 'reg_alpha': 0.2792990822492306, 'reg_lambda': 0.20639899722557323}. Best is trial 17 with value: 0.4384943100696063.\n",
      "[I 2023-07-09 12:16:45,747] Trial 36 finished with value: 0.4554926956665901 and parameters: {'max_depth': 9, 'learning_rate': 0.05395134431252372, 'n_estimators': 942, 'min_child_weight': 7, 'gamma': 0.07990086997378078, 'subsample': 0.8829415524032143, 'colsample_bytree': 0.799944230351171, 'reg_alpha': 0.7171108662042877, 'reg_lambda': 0.4874513383110941}. Best is trial 17 with value: 0.4384943100696063.\n",
      "[I 2023-07-09 12:16:47,216] Trial 37 finished with value: 0.45880717852016034 and parameters: {'max_depth': 4, 'learning_rate': 0.13725029717186915, 'n_estimators': 660, 'min_child_weight': 4, 'gamma': 0.14066168395745401, 'subsample': 0.9442260782829202, 'colsample_bytree': 0.8537499532905652, 'reg_alpha': 0.4621825426977496, 'reg_lambda': 0.29014845275866397}. Best is trial 17 with value: 0.4384943100696063.\n",
      "[I 2023-07-09 12:16:48,094] Trial 38 finished with value: 0.4422318375673817 and parameters: {'max_depth': 2, 'learning_rate': 0.11632844770368118, 'n_estimators': 827, 'min_child_weight': 3, 'gamma': 0.18923038675032683, 'subsample': 0.8585892931054588, 'colsample_bytree': 0.5259208160837184, 'reg_alpha': 0.32261793559513713, 'reg_lambda': 0.5469866808201095}. Best is trial 17 with value: 0.4384943100696063.\n",
      "[I 2023-07-09 12:16:50,842] Trial 39 finished with value: 0.4977928017054694 and parameters: {'max_depth': 6, 'learning_rate': 0.3735956064110629, 'n_estimators': 897, 'min_child_weight': 10, 'gamma': 0.07609336075420264, 'subsample': 0.7116533443034039, 'colsample_bytree': 0.6743187702459786, 'reg_alpha': 0.5819364626905652, 'reg_lambda': 0.41619859705639106}. Best is trial 17 with value: 0.4384943100696063.\n",
      "[I 2023-07-09 12:16:53,430] Trial 40 finished with value: 0.4506207630767231 and parameters: {'max_depth': 8, 'learning_rate': 0.04751971846763192, 'n_estimators': 555, 'min_child_weight': 9, 'gamma': 0.05563654410387692, 'subsample': 0.8166261727517683, 'colsample_bytree': 0.7580567730419665, 'reg_alpha': 0.49606036338463444, 'reg_lambda': 0.11084690215859029}. Best is trial 17 with value: 0.4384943100696063.\n",
      "[I 2023-07-09 12:16:54,059] Trial 41 finished with value: 0.4411870427054929 and parameters: {'max_depth': 1, 'learning_rate': 0.012475292999759396, 'n_estimators': 768, 'min_child_weight': 1, 'gamma': 0.010629558072413503, 'subsample': 0.9595538698370953, 'colsample_bytree': 0.6196850510433225, 'reg_alpha': 0.5496261913419326, 'reg_lambda': 0.26728777616903787}. Best is trial 17 with value: 0.4384943100696063.\n",
      "[I 2023-07-09 12:16:54,678] Trial 42 finished with value: 0.43918371807459705 and parameters: {'max_depth': 1, 'learning_rate': 0.04996597021507941, 'n_estimators': 753, 'min_child_weight': 2, 'gamma': 0.013015107370205461, 'subsample': 0.9571770106327682, 'colsample_bytree': 0.6197115627239237, 'reg_alpha': 0.6339685954438405, 'reg_lambda': 0.3064065517132676}. Best is trial 17 with value: 0.4384943100696063.\n",
      "[I 2023-07-09 12:16:55,283] Trial 43 finished with value: 0.4391621783867781 and parameters: {'max_depth': 1, 'learning_rate': 0.06660277980722987, 'n_estimators': 733, 'min_child_weight': 2, 'gamma': 0.10440616016387862, 'subsample': 0.9090903517671852, 'colsample_bytree': 0.5613278717382905, 'reg_alpha': 0.636631482796364, 'reg_lambda': 0.33071041646052246}. Best is trial 17 with value: 0.4384943100696063.\n",
      "[I 2023-07-09 12:16:56,372] Trial 44 finished with value: 0.44814816391534407 and parameters: {'max_depth': 3, 'learning_rate': 0.11517510549229287, 'n_estimators': 723, 'min_child_weight': 2, 'gamma': 0.13931012927982184, 'subsample': 0.8801025664173644, 'colsample_bytree': 0.5450970754792348, 'reg_alpha': 0.6094767967847772, 'reg_lambda': 0.31532872175868265}. Best is trial 17 with value: 0.4384943100696063.\n",
      "[I 2023-07-09 12:16:57,104] Trial 45 finished with value: 0.4443813343869546 and parameters: {'max_depth': 2, 'learning_rate': 0.18959863719271772, 'n_estimators': 609, 'min_child_weight': 3, 'gamma': 0.05934195496891862, 'subsample': 0.8565348467089481, 'colsample_bytree': 0.6008306364545614, 'reg_alpha': 0.7022265984480862, 'reg_lambda': 0.21602053722275794}. Best is trial 17 with value: 0.4384943100696063.\n",
      "[I 2023-07-09 12:16:57,707] Trial 46 finished with value: 0.4407099662086979 and parameters: {'max_depth': 1, 'learning_rate': 0.014673052082277267, 'n_estimators': 741, 'min_child_weight': 2, 'gamma': 0.013977279407551682, 'subsample': 0.9607392730728962, 'colsample_bytree': 0.5145055817547095, 'reg_alpha': 0.5130956178112995, 'reg_lambda': 0.3909329632176902}. Best is trial 17 with value: 0.4384943100696063.\n",
      "[I 2023-07-09 12:16:58,930] Trial 47 finished with value: 0.4772850535427015 and parameters: {'max_depth': 2, 'learning_rate': 0.6239613021897379, 'n_estimators': 967, 'min_child_weight': 2, 'gamma': 0.23485080372601425, 'subsample': 0.8959734291472419, 'colsample_bytree': 0.7915688122037012, 'reg_alpha': 0.6774441504496862, 'reg_lambda': 0.3469089146332699}. Best is trial 17 with value: 0.4384943100696063.\n",
      "[I 2023-07-09 12:16:59,755] Trial 48 finished with value: 0.4440389405177464 and parameters: {'max_depth': 2, 'learning_rate': 0.13615442996632499, 'n_estimators': 672, 'min_child_weight': 8, 'gamma': 0.051877297321286375, 'subsample': 0.7814953042637476, 'colsample_bytree': 0.6405382563936903, 'reg_alpha': 0.5971673592982427, 'reg_lambda': 0.4583337809437802}. Best is trial 17 with value: 0.4384943100696063.\n",
      "[I 2023-07-09 12:17:00,173] Trial 49 finished with value: 0.43956711119012615 and parameters: {'max_depth': 1, 'learning_rate': 0.05113222981199947, 'n_estimators': 462, 'min_child_weight': 4, 'gamma': 0.11228670755595158, 'subsample': 0.9753913060373354, 'colsample_bytree': 0.7366405002101754, 'reg_alpha': 0.44622284830134085, 'reg_lambda': 0.1673997781569512}. Best is trial 17 with value: 0.4384943100696063.\n",
      "[I 2023-07-09 12:17:00,710] Trial 50 finished with value: 0.445283255518665 and parameters: {'max_depth': 4, 'learning_rate': 0.1671417025013016, 'n_estimators': 261, 'min_child_weight': 5, 'gamma': 0.16456961086998922, 'subsample': 0.9246677088974897, 'colsample_bytree': 0.43228045863564146, 'reg_alpha': 0.7474247364296569, 'reg_lambda': 0.541054571053139}. Best is trial 17 with value: 0.4384943100696063.\n",
      "[I 2023-07-09 12:17:01,373] Trial 51 finished with value: 0.4393338434154286 and parameters: {'max_depth': 1, 'learning_rate': 0.05008330463961817, 'n_estimators': 802, 'min_child_weight': 1, 'gamma': 0.11793861076065948, 'subsample': 0.9923703139814233, 'colsample_bytree': 0.6818229133154716, 'reg_alpha': 0.6650782986471548, 'reg_lambda': 0.2673185846334837}. Best is trial 17 with value: 0.4384943100696063.\n",
      "[I 2023-07-09 12:17:02,007] Trial 52 finished with value: 0.43940807190438413 and parameters: {'max_depth': 1, 'learning_rate': 0.09828664095807818, 'n_estimators': 752, 'min_child_weight': 1, 'gamma': 0.05079995959679696, 'subsample': 0.930149823167562, 'colsample_bytree': 0.6358397376193818, 'reg_alpha': 0.624424792410319, 'reg_lambda': 0.3137024036889192}. Best is trial 17 with value: 0.4384943100696063.\n",
      "[I 2023-07-09 12:17:03,025] Trial 53 finished with value: 0.4394099109578472 and parameters: {'max_depth': 2, 'learning_rate': 0.062406242923171165, 'n_estimators': 880, 'min_child_weight': 2, 'gamma': 0.051447279086222764, 'subsample': 0.8386885151769972, 'colsample_bytree': 0.573501512082928, 'reg_alpha': 0.5753205760498432, 'reg_lambda': 0.23662702514772158}. Best is trial 17 with value: 0.4384943100696063.\n",
      "[I 2023-07-09 12:17:03,712] Trial 54 finished with value: 0.43931763186715367 and parameters: {'max_depth': 1, 'learning_rate': 0.10713341357788991, 'n_estimators': 832, 'min_child_weight': 3, 'gamma': 0.12572107936629082, 'subsample': 0.9610959085694949, 'colsample_bytree': 0.6636882800699171, 'reg_alpha': 0.6234437241030664, 'reg_lambda': 0.3007950296285645}. Best is trial 17 with value: 0.4384943100696063.\n",
      "[I 2023-07-09 12:17:04,755] Trial 55 finished with value: 0.45290794055248373 and parameters: {'max_depth': 3, 'learning_rate': 0.17838018450554433, 'n_estimators': 694, 'min_child_weight': 2, 'gamma': 0.20889430186147867, 'subsample': 0.8958605903420402, 'colsample_bytree': 0.4820619915485481, 'reg_alpha': 0.6691243825175599, 'reg_lambda': 0.3905053949621551}. Best is trial 17 with value: 0.4384943100696063.\n",
      "[I 2023-07-09 12:17:05,394] Trial 56 finished with value: 0.4410990190586546 and parameters: {'max_depth': 1, 'learning_rate': 0.012397539038372842, 'n_estimators': 793, 'min_child_weight': 7, 'gamma': 0.011497333415871806, 'subsample': 0.9997421282817752, 'colsample_bytree': 0.5483822142670345, 'reg_alpha': 0.517269037917851, 'reg_lambda': 0.18640939524857694}. Best is trial 17 with value: 0.4384943100696063.\n",
      "[I 2023-07-09 12:17:06,086] Trial 57 finished with value: 0.43871095278436345 and parameters: {'max_depth': 2, 'learning_rate': 0.04580820773775962, 'n_estimators': 525, 'min_child_weight': 1, 'gamma': 0.17110138959277094, 'subsample': 0.7940449058109809, 'colsample_bytree': 0.7328488145659702, 'reg_alpha': 0.573471303587182, 'reg_lambda': 0.2414256474660128}. Best is trial 17 with value: 0.4384943100696063.\n",
      "[I 2023-07-09 12:17:07,408] Trial 58 finished with value: 0.4698746660834588 and parameters: {'max_depth': 5, 'learning_rate': 0.22950438851756377, 'n_estimators': 385, 'min_child_weight': 3, 'gamma': 0.1697744247397624, 'subsample': 0.7922095532287264, 'colsample_bytree': 0.914647631745303, 'reg_alpha': 0.5584243976323323, 'reg_lambda': 0.2411651858909533}. Best is trial 17 with value: 0.4384943100696063.\n",
      "[I 2023-07-09 12:17:08,136] Trial 59 finished with value: 0.4410037432224209 and parameters: {'max_depth': 2, 'learning_rate': 0.13585535461578938, 'n_estimators': 526, 'min_child_weight': 6, 'gamma': 0.2783152362879521, 'subsample': 0.8555520546039618, 'colsample_bytree': 0.837221944300158, 'reg_alpha': 0.42318828751155385, 'reg_lambda': 0.15527227297980734}. Best is trial 17 with value: 0.4384943100696063.\n",
      "[I 2023-07-09 12:17:09,015] Trial 60 finished with value: 0.44417630305280237 and parameters: {'max_depth': 3, 'learning_rate': 0.08289291275154526, 'n_estimators': 585, 'min_child_weight': 2, 'gamma': 0.05087890161863018, 'subsample': 0.7567389644038992, 'colsample_bytree': 0.3692078293005673, 'reg_alpha': 0.372932189749126, 'reg_lambda': 0.3513063759858841}. Best is trial 17 with value: 0.4384943100696063.\n",
      "[I 2023-07-09 12:17:09,964] Trial 61 finished with value: 0.43848588721111637 and parameters: {'max_depth': 2, 'learning_rate': 0.02846838606429758, 'n_estimators': 764, 'min_child_weight': 1, 'gamma': 0.10526366521025404, 'subsample': 0.9137148123067871, 'colsample_bytree': 0.6952299884155474, 'reg_alpha': 0.5889148711205586, 'reg_lambda': 0.28527839378767933}. Best is trial 61 with value: 0.43848588721111637.\n",
      "[I 2023-07-09 12:17:10,778] Trial 62 finished with value: 0.43873102310692985 and parameters: {'max_depth': 2, 'learning_rate': 0.030475254540409866, 'n_estimators': 633, 'min_child_weight': 1, 'gamma': 0.14210119400750856, 'subsample': 0.8768393096942148, 'colsample_bytree': 0.7201023538087131, 'reg_alpha': 0.5808290536626134, 'reg_lambda': 0.2495026087150551}. Best is trial 61 with value: 0.43848588721111637.\n",
      "[I 2023-07-09 12:17:11,882] Trial 63 finished with value: 0.43989958416893227 and parameters: {'max_depth': 3, 'learning_rate': 0.03298439028326489, 'n_estimators': 637, 'min_child_weight': 1, 'gamma': 0.18355853606478137, 'subsample': 0.8100296300102731, 'colsample_bytree': 0.7264802703624047, 'reg_alpha': 0.5850621810537493, 'reg_lambda': 0.19622723487061497}. Best is trial 61 with value: 0.43848588721111637.\n",
      "[I 2023-07-09 12:17:12,565] Trial 64 finished with value: 0.4398929673941551 and parameters: {'max_depth': 2, 'learning_rate': 0.07976490798143954, 'n_estimators': 508, 'min_child_weight': 1, 'gamma': 0.14728157317713586, 'subsample': 0.8660351807695829, 'colsample_bytree': 0.7713118421097579, 'reg_alpha': 0.48587377004434273, 'reg_lambda': 0.24525819932906284}. Best is trial 61 with value: 0.43848588721111637.\n",
      "[I 2023-07-09 12:17:13,309] Trial 65 finished with value: 0.43863728665209206 and parameters: {'max_depth': 2, 'learning_rate': 0.012952587344705738, 'n_estimators': 579, 'min_child_weight': 1, 'gamma': 0.22153457901394075, 'subsample': 0.9100376887561035, 'colsample_bytree': 0.7280312555115434, 'reg_alpha': 0.51945669492862, 'reg_lambda': 0.13091492489250361}. Best is trial 61 with value: 0.43848588721111637.\n",
      "[I 2023-07-09 12:17:13,886] Trial 66 finished with value: 0.4391272112238123 and parameters: {'max_depth': 2, 'learning_rate': 0.01206934405507615, 'n_estimators': 421, 'min_child_weight': 1, 'gamma': 0.24894053550643253, 'subsample': 0.7288844212609561, 'colsample_bytree': 0.7002155390389231, 'reg_alpha': 0.5017339016073008, 'reg_lambda': 0.06722975064053002}. Best is trial 61 with value: 0.43848588721111637.\n",
      "[I 2023-07-09 12:17:14,892] Trial 67 finished with value: 0.4433019419721479 and parameters: {'max_depth': 3, 'learning_rate': 0.11428265558664512, 'n_estimators': 531, 'min_child_weight': 1, 'gamma': 0.3101603802726828, 'subsample': 0.8269624048168436, 'colsample_bytree': 0.8180686340267853, 'reg_alpha': 0.532173930238575, 'reg_lambda': 0.1428097934557979}. Best is trial 61 with value: 0.43848588721111637.\n",
      "[I 2023-07-09 12:17:15,494] Trial 68 finished with value: 0.438458329223386 and parameters: {'max_depth': 2, 'learning_rate': 0.03729023922250231, 'n_estimators': 453, 'min_child_weight': 1, 'gamma': 0.3956322913449478, 'subsample': 0.9045609025387181, 'colsample_bytree': 0.7478138676420611, 'reg_alpha': 0.4706440783539271, 'reg_lambda': 0.12396337198808172}. Best is trial 68 with value: 0.438458329223386.\n",
      "[I 2023-07-09 12:17:16,495] Trial 69 finished with value: 0.44007506488975123 and parameters: {'max_depth': 4, 'learning_rate': 0.03423689894422559, 'n_estimators': 433, 'min_child_weight': 1, 'gamma': 0.4003448237116818, 'subsample': 0.7765614066099139, 'colsample_bytree': 0.7400970364863089, 'reg_alpha': 0.47224943712225476, 'reg_lambda': 0.11900776254041341}. Best is trial 68 with value: 0.438458329223386.\n",
      "[I 2023-07-09 12:17:17,153] Trial 70 finished with value: 0.44098950465875886 and parameters: {'max_depth': 3, 'learning_rate': 0.08922416433843824, 'n_estimators': 334, 'min_child_weight': 1, 'gamma': 0.22613003534136497, 'subsample': 0.9026892793265133, 'colsample_bytree': 0.7680163627537878, 'reg_alpha': 0.5372070013191906, 'reg_lambda': 0.05732380040761849}. Best is trial 68 with value: 0.438458329223386.\n",
      "[I 2023-07-09 12:17:17,832] Trial 71 finished with value: 0.4387674627751932 and parameters: {'max_depth': 2, 'learning_rate': 0.036432088197135115, 'n_estimators': 460, 'min_child_weight': 1, 'gamma': 0.19774311148029447, 'subsample': 0.8792126432192265, 'colsample_bytree': 0.8612652912069471, 'reg_alpha': 0.3992815094457006, 'reg_lambda': 0.20374482931075943}. Best is trial 68 with value: 0.438458329223386.\n",
      "[I 2023-07-09 12:17:18,432] Trial 72 finished with value: 0.4385129166059693 and parameters: {'max_depth': 2, 'learning_rate': 0.037214188083806214, 'n_estimators': 456, 'min_child_weight': 1, 'gamma': 0.2635311511104104, 'subsample': 0.8752012084974905, 'colsample_bytree': 0.7005062646348246, 'reg_alpha': 0.43950347188801875, 'reg_lambda': 0.1799401020945718}. Best is trial 68 with value: 0.438458329223386.\n",
      "[I 2023-07-09 12:17:19,173] Trial 73 finished with value: 0.439948442003377 and parameters: {'max_depth': 2, 'learning_rate': 0.07766201338890426, 'n_estimators': 574, 'min_child_weight': 1, 'gamma': 0.265043550852743, 'subsample': 0.8374953577426357, 'colsample_bytree': 0.6986076799142691, 'reg_alpha': 0.4451046178361495, 'reg_lambda': 0.17439517125600063}. Best is trial 68 with value: 0.438458329223386.\n",
      "[I 2023-07-09 12:17:19,622] Trial 74 finished with value: 0.44012760643042526 and parameters: {'max_depth': 2, 'learning_rate': 0.12434546866531654, 'n_estimators': 319, 'min_child_weight': 1, 'gamma': 0.3019109396631333, 'subsample': 0.8674422966130069, 'colsample_bytree': 0.7360384449165037, 'reg_alpha': 0.5658519419035636, 'reg_lambda': 0.1347465533920916}. Best is trial 68 with value: 0.438458329223386.\n",
      "[I 2023-07-09 12:17:20,565] Trial 75 finished with value: 0.44722946353240595 and parameters: {'max_depth': 3, 'learning_rate': 0.16592091473931142, 'n_estimators': 549, 'min_child_weight': 2, 'gamma': 0.22105779991443283, 'subsample': 0.9102996146301872, 'colsample_bytree': 0.6834979038787414, 'reg_alpha': 0.5157146358379725, 'reg_lambda': 0.08786940892378844}. Best is trial 68 with value: 0.438458329223386.\n",
      "[I 2023-07-09 12:17:20,733] Trial 76 finished with value: 0.4406119676728099 and parameters: {'max_depth': 2, 'learning_rate': 0.037789748285478195, 'n_estimators': 81, 'min_child_weight': 1, 'gamma': 0.15424393066286968, 'subsample': 0.8063747426282515, 'colsample_bytree': 0.7144774804461153, 'reg_alpha': 0.6013843065365886, 'reg_lambda': 0.17416283110798542}. Best is trial 68 with value: 0.438458329223386.\n",
      "[I 2023-07-09 12:17:21,597] Trial 77 finished with value: 0.44631125312611186 and parameters: {'max_depth': 3, 'learning_rate': 0.1092637011029866, 'n_estimators': 450, 'min_child_weight': 2, 'gamma': 0.26179794773816095, 'subsample': 0.6832472750125964, 'colsample_bytree': 0.7941548734402526, 'reg_alpha': 0.4841550460026284, 'reg_lambda': 0.21269881786480296}. Best is trial 68 with value: 0.438458329223386.\n",
      "[I 2023-07-09 12:17:23,509] Trial 78 finished with value: 0.4502469901353121 and parameters: {'max_depth': 7, 'learning_rate': 0.07055457145255944, 'n_estimators': 481, 'min_child_weight': 1, 'gamma': 0.49886598327464743, 'subsample': 0.9445158043723055, 'colsample_bytree': 0.6568067437001481, 'reg_alpha': 0.5518114178535536, 'reg_lambda': 0.0999297405994044}. Best is trial 68 with value: 0.438458329223386.\n",
      "[I 2023-07-09 12:17:24,060] Trial 79 finished with value: 0.43838549544097805 and parameters: {'max_depth': 2, 'learning_rate': 0.03468295497781759, 'n_estimators': 390, 'min_child_weight': 2, 'gamma': 0.080857878066653, 'subsample': 0.8406882801144541, 'colsample_bytree': 0.7725500601811918, 'reg_alpha': 0.46173935722248377, 'reg_lambda': 0.2601447046169192}. Best is trial 79 with value: 0.43838549544097805.\n",
      "[I 2023-07-09 12:17:24,804] Trial 80 finished with value: 0.4481504902029804 and parameters: {'max_depth': 3, 'learning_rate': 0.1502831796824689, 'n_estimators': 378, 'min_child_weight': 1, 'gamma': 0.1846931973453672, 'subsample': 0.8502639115340386, 'colsample_bytree': 0.816856211089332, 'reg_alpha': 0.4281957333337039, 'reg_lambda': 0.27048658628396866}. Best is trial 79 with value: 0.43838549544097805.\n",
      "[I 2023-07-09 12:17:25,380] Trial 81 finished with value: 0.43867582752224704 and parameters: {'max_depth': 2, 'learning_rate': 0.03730981178704086, 'n_estimators': 413, 'min_child_weight': 2, 'gamma': 0.08826967248263742, 'subsample': 0.8860264348046353, 'colsample_bytree': 0.7558678419740158, 'reg_alpha': 0.45984687463227825, 'reg_lambda': 0.14086838239135077}. Best is trial 79 with value: 0.43838549544097805.\n",
      "[I 2023-07-09 12:17:25,943] Trial 82 finished with value: 0.43845651601108576 and parameters: {'max_depth': 2, 'learning_rate': 0.034209943877589494, 'n_estimators': 399, 'min_child_weight': 2, 'gamma': 0.13619560679898085, 'subsample': 0.8807761029119121, 'colsample_bytree': 0.7647978870948279, 'reg_alpha': 0.4571418938969103, 'reg_lambda': 0.12341314514069715}. Best is trial 79 with value: 0.43838549544097805.\n",
      "[I 2023-07-09 12:17:26,527] Trial 83 finished with value: 0.4392230243504259 and parameters: {'max_depth': 2, 'learning_rate': 0.08398028914269853, 'n_estimators': 406, 'min_child_weight': 3, 'gamma': 0.08098113793001767, 'subsample': 0.825847014095628, 'colsample_bytree': 0.7780594680244223, 'reg_alpha': 0.4608790892157581, 'reg_lambda': 0.13420109114347545}. Best is trial 79 with value: 0.43838549544097805.\n",
      "[I 2023-07-09 12:17:27,005] Trial 84 finished with value: 0.43961931118969133 and parameters: {'max_depth': 2, 'learning_rate': 0.012654818013802874, 'n_estimators': 330, 'min_child_weight': 2, 'gamma': 0.10051298120504487, 'subsample': 0.9093518457882318, 'colsample_bytree': 0.7548964383076577, 'reg_alpha': 0.4000861598976556, 'reg_lambda': 0.04755533186978281}. Best is trial 79 with value: 0.43838549544097805.\n",
      "[I 2023-07-09 12:17:28,111] Trial 85 finished with value: 0.4428949931067289 and parameters: {'max_depth': 6, 'learning_rate': 0.05396039644922397, 'n_estimators': 274, 'min_child_weight': 2, 'gamma': 0.12420919984204873, 'subsample': 0.796107947616228, 'colsample_bytree': 0.8086418558274017, 'reg_alpha': 0.4971905733116076, 'reg_lambda': 0.09734481861104477}. Best is trial 79 with value: 0.43838549544097805.\n",
      "[I 2023-07-09 12:17:28,643] Trial 86 finished with value: 0.44043076685481397 and parameters: {'max_depth': 2, 'learning_rate': 0.098448361610164, 'n_estimators': 360, 'min_child_weight': 2, 'gamma': 0.23521516179524804, 'subsample': 0.7630261499642987, 'colsample_bytree': 0.7839693043774936, 'reg_alpha': 0.42463918463870337, 'reg_lambda': 0.12437746349226299}. Best is trial 79 with value: 0.43838549544097805.\n",
      "[I 2023-07-09 12:17:29,556] Trial 87 finished with value: 0.43897975681384427 and parameters: {'max_depth': 3, 'learning_rate': 0.03967756815518819, 'n_estimators': 501, 'min_child_weight': 3, 'gamma': 0.037520872708802694, 'subsample': 0.8425433990179355, 'colsample_bytree': 0.7442002968589794, 'reg_alpha': 0.4555558936164281, 'reg_lambda': 0.14786339528666717}. Best is trial 79 with value: 0.43838549544097805.\n",
      "[I 2023-07-09 12:17:30,119] Trial 88 finished with value: 0.44132353103738703 and parameters: {'max_depth': 2, 'learning_rate': 0.12858863260842618, 'n_estimators': 417, 'min_child_weight': 2, 'gamma': 0.07567059601594817, 'subsample': 0.8832862818771791, 'colsample_bytree': 0.7613174344702891, 'reg_alpha': 0.47429278057636537, 'reg_lambda': 0.21345259390466137}. Best is trial 79 with value: 0.43838549544097805.\n",
      "[I 2023-07-09 12:17:30,506] Trial 89 finished with value: 0.4396716269095656 and parameters: {'max_depth': 1, 'learning_rate': 0.05929514824393291, 'n_estimators': 392, 'min_child_weight': 1, 'gamma': 0.16421141214224746, 'subsample': 0.7399563939943388, 'colsample_bytree': 0.8506857926968981, 'reg_alpha': 0.5223802300550525, 'reg_lambda': 0.16841261326458898}. Best is trial 79 with value: 0.43838549544097805.\n",
      "[I 2023-07-09 12:17:31,015] Trial 90 finished with value: 0.4391394556730334 and parameters: {'max_depth': 3, 'learning_rate': 0.011246817329836985, 'n_estimators': 301, 'min_child_weight': 2, 'gamma': 0.20559861745518138, 'subsample': 0.9398187437869545, 'colsample_bytree': 0.6834031349229173, 'reg_alpha': 0.37138116590555625, 'reg_lambda': 0.0808262879435494}. Best is trial 79 with value: 0.43838549544097805.\n",
      "[I 2023-07-09 12:17:31,576] Trial 91 finished with value: 0.438541879567948 and parameters: {'max_depth': 2, 'learning_rate': 0.035094051116478855, 'n_estimators': 461, 'min_child_weight': 1, 'gamma': 0.14403016738683386, 'subsample': 0.8792548073891174, 'colsample_bytree': 0.7024265775911126, 'reg_alpha': 0.5060234470605666, 'reg_lambda': 0.25415785350002784}. Best is trial 79 with value: 0.43838549544097805.\n",
      "[I 2023-07-09 12:17:32,156] Trial 92 finished with value: 0.43862927841899213 and parameters: {'max_depth': 2, 'learning_rate': 0.037707298641921794, 'n_estimators': 476, 'min_child_weight': 1, 'gamma': 0.10405959300785395, 'subsample': 0.9734118959410658, 'colsample_bytree': 0.7110891699682773, 'reg_alpha': 0.4977955959635119, 'reg_lambda': 0.23032597152728795}. Best is trial 79 with value: 0.43838549544097805.\n",
      "[I 2023-07-09 12:17:32,712] Trial 93 finished with value: 0.43915429766691316 and parameters: {'max_depth': 2, 'learning_rate': 0.07003423052323113, 'n_estimators': 458, 'min_child_weight': 1, 'gamma': 0.10587246387538023, 'subsample': 0.9654845294362366, 'colsample_bytree': 0.7116398630002787, 'reg_alpha': 0.5045883617680099, 'reg_lambda': 0.15662233643545254}. Best is trial 79 with value: 0.43838549544097805.\n",
      "[I 2023-07-09 12:17:33,107] Trial 94 finished with value: 0.4394690574272036 and parameters: {'max_depth': 1, 'learning_rate': 0.10050785860165434, 'n_estimators': 438, 'min_child_weight': 1, 'gamma': 0.13237701564507406, 'subsample': 0.9728669202248609, 'colsample_bytree': 0.796965454473357, 'reg_alpha': 0.44191981125148677, 'reg_lambda': 0.1948913268283562}. Best is trial 79 with value: 0.43838549544097805.\n",
      "[I 2023-07-09 12:17:33,409] Trial 95 finished with value: 0.43843802943077076 and parameters: {'max_depth': 2, 'learning_rate': 0.029560486011038285, 'n_estimators': 223, 'min_child_weight': 2, 'gamma': 0.03736082018093295, 'subsample': 0.9147742767848872, 'colsample_bytree': 0.6520910272543499, 'reg_alpha': 0.4819998959575312, 'reg_lambda': 0.2229260629835045}. Best is trial 79 with value: 0.43838549544097805.\n",
      "[I 2023-07-09 12:17:33,692] Trial 96 finished with value: 0.43826657156700854 and parameters: {'max_depth': 2, 'learning_rate': 0.06888600413221835, 'n_estimators': 201, 'min_child_weight': 3, 'gamma': 0.0356537935597181, 'subsample': 0.919214627352363, 'colsample_bytree': 0.6479551640312314, 'reg_alpha': 0.4805888998558167, 'reg_lambda': 0.2234388007912691}. Best is trial 96 with value: 0.43826657156700854.\n",
      "[I 2023-07-09 12:17:33,912] Trial 97 finished with value: 0.4400683763544893 and parameters: {'max_depth': 1, 'learning_rate': 0.06655516823916229, 'n_estimators': 215, 'min_child_weight': 3, 'gamma': 0.0386283433154551, 'subsample': 0.9818155376147029, 'colsample_bytree': 0.6384486738788763, 'reg_alpha': 0.48560455011595727, 'reg_lambda': 0.2880109830691394}. Best is trial 96 with value: 0.43826657156700854.\n",
      "[I 2023-07-09 12:17:34,182] Trial 98 finished with value: 0.4389371815343887 and parameters: {'max_depth': 3, 'learning_rate': 0.08967085592502752, 'n_estimators': 139, 'min_child_weight': 3, 'gamma': 0.03597409526766766, 'subsample': 0.9379601639404046, 'colsample_bytree': 0.6830320362194107, 'reg_alpha': 0.4210615004854699, 'reg_lambda': 0.23016706174831106}. Best is trial 96 with value: 0.43826657156700854.\n",
      "[I 2023-07-09 12:17:34,431] Trial 99 finished with value: 0.4387435012502837 and parameters: {'max_depth': 2, 'learning_rate': 0.14046920799269197, 'n_estimators': 172, 'min_child_weight': 4, 'gamma': 0.06323018373582828, 'subsample': 0.9155822312302673, 'colsample_bytree': 0.6626988041830774, 'reg_alpha': 0.5367126126452647, 'reg_lambda': 0.26817193980915954}. Best is trial 96 with value: 0.43826657156700854.\n"
     ]
    },
    {
     "name": "stdout",
     "output_type": "stream",
     "text": [
      "Best parameters {'max_depth': 2, 'learning_rate': 0.06888600413221835, 'n_estimators': 201, 'min_child_weight': 3, 'gamma': 0.0356537935597181, 'subsample': 0.919214627352363, 'colsample_bytree': 0.6479551640312314, 'reg_alpha': 0.4805888998558167, 'reg_lambda': 0.2234388007912691}\n"
     ]
    }
   ],
   "source": [
    "import xgboost\n",
    "from sklearn.metrics import mean_squared_error\n",
    "import optuna\n",
    "\n",
    "def objective(trial):\n",
    "    param = {\n",
    "        'max_depth': trial.suggest_int('max_depth', 1, 10),\n",
    "        'learning_rate': trial.suggest_float('learning_rate', 0.01, 1.0),\n",
    "        'n_estimators': trial.suggest_int('n_estimators', 50, 1000),\n",
    "        'min_child_weight': trial.suggest_int('min_child_weight', 1, 10),\n",
    "        'gamma': trial.suggest_float('gamma', 0.01, 1.0),\n",
    "        'subsample': trial.suggest_float('subsample', 0.01, 1.0),\n",
    "        'colsample_bytree': trial.suggest_float('colsample_bytree', 0.01, 1.0),\n",
    "        'reg_alpha': trial.suggest_float('reg_alpha', 0.01, 1.0),\n",
    "        'reg_lambda': trial.suggest_float('reg_lambda', 0.01, 1.0)\n",
    "    }\n",
    "    model = xgboost.XGBRegressor(**param)\n",
    "    model.fit(X_train, y_train[:, 0])\n",
    "    predictions = model.predict(X_test)\n",
    "    return mean_squared_error(y_test[:,0], predictions, squared=False)\n",
    "\n",
    "\n",
    "# Create the study\n",
    "study = optuna.create_study(direction='minimize')\n",
    "study.optimize(objective, n_trials=100)\n",
    "\n",
    "# Print the best parameters\n",
    "print('Best parameters', study.best_params)"
   ]
  }
 ],
 "metadata": {
  "kernelspec": {
   "display_name": "mlenv",
   "language": "python",
   "name": "python3"
  },
  "language_info": {
   "codemirror_mode": {
    "name": "ipython",
    "version": 3
   },
   "file_extension": ".py",
   "mimetype": "text/x-python",
   "name": "python",
   "nbconvert_exporter": "python",
   "pygments_lexer": "ipython3",
   "version": "3.11.2"
  },
  "orig_nbformat": 4
 },
 "nbformat": 4,
 "nbformat_minor": 2
}
