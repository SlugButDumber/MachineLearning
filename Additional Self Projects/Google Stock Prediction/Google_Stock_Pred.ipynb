{
  "cells": [
    {
      "attachments": {},
      "cell_type": "markdown",
      "metadata": {
        "id": "xpAuMVCwfWs8"
      },
      "source": [
        "# Recurrent Neural Network"
      ]
    },
    {
      "attachments": {},
      "cell_type": "markdown",
      "metadata": {
        "id": "nxJfRe4bfYVA"
      },
      "source": [
        "## Part 1 - Data Preprocessing"
      ]
    },
    {
      "attachments": {},
      "cell_type": "markdown",
      "metadata": {
        "id": "ir9zwETrfbrp"
      },
      "source": [
        "### Importing the libraries"
      ]
    },
    {
      "cell_type": "code",
      "execution_count": 1,
      "metadata": {
        "id": "ZT1f24vHffuf"
      },
      "outputs": [],
      "source": [
        "import numpy as np\n",
        "import matplotlib.pyplot as plt\n",
        "import pandas as pd\n",
        "import tensorflow as tf"
      ]
    },
    {
      "attachments": {},
      "cell_type": "markdown",
      "metadata": {
        "id": "nQ47JAxrgmaL"
      },
      "source": [
        "### Importing the training set"
      ]
    },
    {
      "cell_type": "code",
      "execution_count": 2,
      "metadata": {
        "id": "1xiv3pJOgqY3"
      },
      "outputs": [],
      "source": [
        "dataset_train = pd.read_csv('Google_Stock_Price_Train.csv')\n",
        "training_set = dataset_train.iloc[:, 1:2].values #cause we need a numpy array so we put 1:2"
      ]
    },
    {
      "attachments": {},
      "cell_type": "markdown",
      "metadata": {
        "id": "HT8_2UJegtG5"
      },
      "source": [
        "### Feature Scaling"
      ]
    },
    {
      "cell_type": "code",
      "execution_count": 3,
      "metadata": {
        "id": "OTrF2kR7gx9x"
      },
      "outputs": [],
      "source": [
        "from sklearn.preprocessing import MinMaxScaler # For normalisation (We use standard scaler for standardisation)\n",
        "sc = MinMaxScaler(feature_range = (0, 1))\n",
        "training_set_scaled = sc.fit_transform(training_set)"
      ]
    },
    {
      "attachments": {},
      "cell_type": "markdown",
      "metadata": {
        "id": "JyYgYocqhNUg"
      },
      "source": [
        "### Creating a data structure with 60 timesteps and 1 output"
      ]
    },
    {
      "cell_type": "code",
      "execution_count": 4,
      "metadata": {
        "id": "iofU21B0i6ST"
      },
      "outputs": [],
      "source": [
        "X_train = []\n",
        "y_train = []\n",
        "for i in range(60, 1258): # this helps predict the nexr day value based on the last 60 entries (20 days in a financial month, so 3 months)\n",
        "    X_train.append(training_set_scaled[i-60:i, 0])\n",
        "    y_train.append(training_set_scaled[i, 0])\n",
        "X_train, y_train = np.array(X_train), np.array(y_train) # to convert into numpy array"
      ]
    },
    {
      "cell_type": "code",
      "execution_count": 5,
      "metadata": {},
      "outputs": [
        {
          "name": "stdout",
          "output_type": "stream",
          "text": [
            "[[0.08581368 0.09701243 0.09433366 ... 0.07846566 0.08034452 0.08497656]\n",
            " [0.09701243 0.09433366 0.09156187 ... 0.08034452 0.08497656 0.08627874]\n",
            " [0.09433366 0.09156187 0.07984225 ... 0.08497656 0.08627874 0.08471612]\n",
            " ...\n",
            " [0.92106928 0.92438053 0.93048218 ... 0.95475854 0.95204256 0.95163331]\n",
            " [0.92438053 0.93048218 0.9299055  ... 0.95204256 0.95163331 0.95725128]\n",
            " [0.93048218 0.9299055  0.93113327 ... 0.95163331 0.95725128 0.93796041]]\n",
            "(1198, 60)\n"
          ]
        }
      ],
      "source": [
        "print(X_train)\n",
        "print(X_train.shape)"
      ]
    },
    {
      "cell_type": "code",
      "execution_count": 6,
      "metadata": {},
      "outputs": [
        {
          "name": "stdout",
          "output_type": "stream",
          "text": [
            "[0.08627874 0.08471612 0.07454052 ... 0.95725128 0.93796041 0.93688146]\n",
            "(1198,)\n"
          ]
        }
      ],
      "source": [
        "print(y_train)\n",
        "print(y_train.shape)"
      ]
    },
    {
      "attachments": {},
      "cell_type": "markdown",
      "metadata": {
        "id": "D8yaN7Zvi95l"
      },
      "source": [
        "### Reshaping"
      ]
    },
    {
      "cell_type": "code",
      "execution_count": 7,
      "metadata": {
        "id": "FOXqJHmNjBkz"
      },
      "outputs": [],
      "source": [
        "X_train = np.reshape(X_train, (X_train.shape[0], X_train.shape[1], 1)) # RNN expects 3D, if you wish to add new indicators"
      ]
    },
    {
      "attachments": {},
      "cell_type": "markdown",
      "metadata": {
        "id": "ZRRSOJeVjEWV"
      },
      "source": [
        "## Part 2 - Building and Training the RNN"
      ]
    },
    {
      "attachments": {},
      "cell_type": "markdown",
      "metadata": {
        "id": "k4XV88JMjHXG"
      },
      "source": [
        "### Importing the tensorflow.keras libraries and packages"
      ]
    },
    {
      "cell_type": "code",
      "execution_count": 8,
      "metadata": {
        "colab": {
          "base_uri": "https://localhost:8080/",
          "height": 34
        },
        "id": "9JRnqsxEjKsD",
        "outputId": "b3e23e78-18aa-4396-c923-c877b8de60e4"
      },
      "outputs": [],
      "source": [
        "from tensorflow.keras.models import Sequential\n",
        "from tensorflow.keras.layers import Dense\n",
        "from tensorflow.keras.layers import LSTM\n",
        "from tensorflow.keras.layers import Dropout"
      ]
    },
    {
      "attachments": {},
      "cell_type": "markdown",
      "metadata": {
        "id": "FEIE-1s9jNzC"
      },
      "source": [
        "### Initialising the RNN"
      ]
    },
    {
      "cell_type": "code",
      "execution_count": 9,
      "metadata": {},
      "outputs": [],
      "source": [
        "regressor = Sequential() # regressor is the name of the object"
      ]
    },
    {
      "attachments": {},
      "cell_type": "markdown",
      "metadata": {
        "id": "62eg1OPGjT8z"
      },
      "source": [
        "### Adding the first LSTM layer and some Dropout regularisation"
      ]
    },
    {
      "cell_type": "code",
      "execution_count": 10,
      "metadata": {},
      "outputs": [],
      "source": [
        "regressor.add(LSTM(units=50,return_sequences=True, input_shape=(X_train.shape[1], 1))) # 50 neurons, return_sequences=True for stacked LSTM, input shape has just 2 dimensions (timesteps and indicators)\n",
        "regressor.add(Dropout(0.2)) # 20% dropout"
      ]
    },
    {
      "attachments": {},
      "cell_type": "markdown",
      "metadata": {
        "id": "3XBIYLyOjlMx"
      },
      "source": [
        "### Adding a second LSTM layer and some Dropout regularisation"
      ]
    },
    {
      "cell_type": "code",
      "execution_count": 11,
      "metadata": {},
      "outputs": [],
      "source": [
        "regressor.add(LSTM(units=50,return_sequences=True)) # 50 neurons, input shape not needed as the previous layer already tells the RNN the input shape\n",
        "regressor.add(Dropout(0.2)) # 20% dropout"
      ]
    },
    {
      "attachments": {},
      "cell_type": "markdown",
      "metadata": {
        "id": "Ey3fHVnGj1cu"
      },
      "source": [
        "### Adding a third LSTM layer and some Dropout regularisation"
      ]
    },
    {
      "cell_type": "code",
      "execution_count": 12,
      "metadata": {},
      "outputs": [],
      "source": [
        "regressor.add(LSTM(units=50,return_sequences=True)) # 50 neurons, input shape not needed as the previous layer already tells the RNN the input shape\n",
        "regressor.add(Dropout(0.2)) # 20% dropout"
      ]
    },
    {
      "attachments": {},
      "cell_type": "markdown",
      "metadata": {
        "id": "SYTrtfTmj933"
      },
      "source": [
        "### Adding a fourth LSTM layer and some Dropout regularisation"
      ]
    },
    {
      "cell_type": "code",
      "execution_count": 13,
      "metadata": {},
      "outputs": [],
      "source": [
        "regressor.add(LSTM(units=50)) # 50 neurons, return_sequences=False for last layer, input shape not needed as the previous layer already tells the RNN the input shape\n",
        "regressor.add(Dropout(0.2)) # 20% dropout"
      ]
    },
    {
      "attachments": {},
      "cell_type": "markdown",
      "metadata": {
        "id": "9ABI6rOIkHhk"
      },
      "source": [
        "### Adding the output layer"
      ]
    },
    {
      "cell_type": "code",
      "execution_count": 14,
      "metadata": {},
      "outputs": [],
      "source": [
        "regressor.add(Dense(units=1)) # output layer (fully connected layer)"
      ]
    },
    {
      "attachments": {},
      "cell_type": "markdown",
      "metadata": {
        "id": "zLx4K7uUkPSh"
      },
      "source": [
        "### Compiling the RNN"
      ]
    },
    {
      "cell_type": "code",
      "execution_count": 15,
      "metadata": {},
      "outputs": [],
      "source": [
        "regressor.compile(optimizer='adam', loss='mean_squared_error') \n",
        "#Recommended optimizer is RMSprop, but adam is also a powerful one so we're using that\n",
        "#mean squared error is used for regressors"
      ]
    },
    {
      "attachments": {},
      "cell_type": "markdown",
      "metadata": {
        "id": "-mPhwKGkkebi"
      },
      "source": [
        "### Fitting the RNN to the Training set"
      ]
    },
    {
      "cell_type": "code",
      "execution_count": 16,
      "metadata": {},
      "outputs": [
        {
          "name": "stdout",
          "output_type": "stream",
          "text": [
            "Epoch 1/100\n",
            "38/38 [==============================] - 7s 45ms/step - loss: 0.0424\n",
            "Epoch 2/100\n",
            "38/38 [==============================] - 2s 53ms/step - loss: 0.0068\n",
            "Epoch 3/100\n",
            "38/38 [==============================] - 2s 52ms/step - loss: 0.0056\n",
            "Epoch 4/100\n",
            "38/38 [==============================] - 2s 51ms/step - loss: 0.0052\n",
            "Epoch 5/100\n",
            "38/38 [==============================] - 2s 51ms/step - loss: 0.0046\n",
            "Epoch 6/100\n",
            "38/38 [==============================] - 2s 51ms/step - loss: 0.0049\n",
            "Epoch 7/100\n",
            "38/38 [==============================] - 2s 53ms/step - loss: 0.0055\n",
            "Epoch 8/100\n",
            "38/38 [==============================] - 2s 55ms/step - loss: 0.0049\n",
            "Epoch 9/100\n",
            "38/38 [==============================] - 2s 63ms/step - loss: 0.0048\n",
            "Epoch 10/100\n",
            "38/38 [==============================] - 3s 67ms/step - loss: 0.0042\n",
            "Epoch 11/100\n",
            "38/38 [==============================] - 3s 73ms/step - loss: 0.0042\n",
            "Epoch 12/100\n",
            "38/38 [==============================] - 3s 79ms/step - loss: 0.0039\n",
            "Epoch 13/100\n",
            "38/38 [==============================] - 2s 65ms/step - loss: 0.0043\n",
            "Epoch 14/100\n",
            "38/38 [==============================] - 3s 66ms/step - loss: 0.0046\n",
            "Epoch 15/100\n",
            "38/38 [==============================] - 3s 66ms/step - loss: 0.0040\n",
            "Epoch 16/100\n",
            "38/38 [==============================] - 3s 72ms/step - loss: 0.0039\n",
            "Epoch 17/100\n",
            "38/38 [==============================] - 2s 65ms/step - loss: 0.0039\n",
            "Epoch 18/100\n",
            "38/38 [==============================] - 2s 65ms/step - loss: 0.0037\n",
            "Epoch 19/100\n",
            "38/38 [==============================] - 2s 63ms/step - loss: 0.0036\n",
            "Epoch 20/100\n",
            "38/38 [==============================] - 2s 63ms/step - loss: 0.0043\n",
            "Epoch 21/100\n",
            "38/38 [==============================] - 2s 63ms/step - loss: 0.0039\n",
            "Epoch 22/100\n",
            "38/38 [==============================] - 2s 64ms/step - loss: 0.0039\n",
            "Epoch 23/100\n",
            "38/38 [==============================] - 2s 64ms/step - loss: 0.0032\n",
            "Epoch 24/100\n",
            "38/38 [==============================] - 2s 65ms/step - loss: 0.0031\n",
            "Epoch 25/100\n",
            "38/38 [==============================] - 3s 67ms/step - loss: 0.0042\n",
            "Epoch 26/100\n",
            "38/38 [==============================] - 2s 62ms/step - loss: 0.0034\n",
            "Epoch 27/100\n",
            "38/38 [==============================] - 2s 61ms/step - loss: 0.0029\n",
            "Epoch 28/100\n",
            "38/38 [==============================] - 2s 62ms/step - loss: 0.0029\n",
            "Epoch 29/100\n",
            "38/38 [==============================] - 2s 61ms/step - loss: 0.0032\n",
            "Epoch 30/100\n",
            "38/38 [==============================] - 2s 62ms/step - loss: 0.0031\n",
            "Epoch 31/100\n",
            "38/38 [==============================] - 2s 61ms/step - loss: 0.0030\n",
            "Epoch 32/100\n",
            "38/38 [==============================] - 2s 61ms/step - loss: 0.0031\n",
            "Epoch 33/100\n",
            "38/38 [==============================] - 2s 62ms/step - loss: 0.0030\n",
            "Epoch 34/100\n",
            "38/38 [==============================] - 2s 63ms/step - loss: 0.0027\n",
            "Epoch 35/100\n",
            "38/38 [==============================] - 2s 62ms/step - loss: 0.0026\n",
            "Epoch 36/100\n",
            "38/38 [==============================] - 2s 62ms/step - loss: 0.0033\n",
            "Epoch 37/100\n",
            "38/38 [==============================] - 2s 63ms/step - loss: 0.0030\n",
            "Epoch 38/100\n",
            "38/38 [==============================] - 2s 64ms/step - loss: 0.0027\n",
            "Epoch 39/100\n",
            "38/38 [==============================] - 2s 62ms/step - loss: 0.0034\n",
            "Epoch 40/100\n",
            "38/38 [==============================] - 2s 64ms/step - loss: 0.0027\n",
            "Epoch 41/100\n",
            "38/38 [==============================] - 3s 68ms/step - loss: 0.0031\n",
            "Epoch 42/100\n",
            "38/38 [==============================] - 3s 69ms/step - loss: 0.0025\n",
            "Epoch 43/100\n",
            "38/38 [==============================] - 3s 69ms/step - loss: 0.0028\n",
            "Epoch 44/100\n",
            "38/38 [==============================] - 2s 65ms/step - loss: 0.0025\n",
            "Epoch 45/100\n",
            "38/38 [==============================] - 2s 64ms/step - loss: 0.0026\n",
            "Epoch 46/100\n",
            "38/38 [==============================] - 2s 64ms/step - loss: 0.0024\n",
            "Epoch 47/100\n",
            "38/38 [==============================] - 2s 65ms/step - loss: 0.0023\n",
            "Epoch 48/100\n",
            "38/38 [==============================] - 2s 63ms/step - loss: 0.0023\n",
            "Epoch 49/100\n",
            "38/38 [==============================] - 2s 64ms/step - loss: 0.0025\n",
            "Epoch 50/100\n",
            "38/38 [==============================] - 2s 65ms/step - loss: 0.0025\n",
            "Epoch 51/100\n",
            "38/38 [==============================] - 3s 69ms/step - loss: 0.0024\n",
            "Epoch 52/100\n",
            "38/38 [==============================] - 3s 67ms/step - loss: 0.0022\n",
            "Epoch 53/100\n",
            "38/38 [==============================] - 3s 67ms/step - loss: 0.0021\n",
            "Epoch 54/100\n",
            "38/38 [==============================] - 3s 69ms/step - loss: 0.0020\n",
            "Epoch 55/100\n",
            "38/38 [==============================] - 3s 69ms/step - loss: 0.0022\n",
            "Epoch 56/100\n",
            "38/38 [==============================] - 3s 68ms/step - loss: 0.0024\n",
            "Epoch 57/100\n",
            "38/38 [==============================] - 3s 69ms/step - loss: 0.0021\n",
            "Epoch 58/100\n",
            "38/38 [==============================] - 3s 67ms/step - loss: 0.0022\n",
            "Epoch 59/100\n",
            "38/38 [==============================] - 3s 66ms/step - loss: 0.0019\n",
            "Epoch 60/100\n",
            "38/38 [==============================] - 2s 65ms/step - loss: 0.0022\n",
            "Epoch 61/100\n",
            "38/38 [==============================] - 2s 63ms/step - loss: 0.0023\n",
            "Epoch 62/100\n",
            "38/38 [==============================] - 2s 62ms/step - loss: 0.0022\n",
            "Epoch 63/100\n",
            "38/38 [==============================] - 2s 62ms/step - loss: 0.0021\n",
            "Epoch 64/100\n",
            "38/38 [==============================] - 2s 63ms/step - loss: 0.0022\n",
            "Epoch 65/100\n",
            "38/38 [==============================] - 2s 62ms/step - loss: 0.0019\n",
            "Epoch 66/100\n",
            "38/38 [==============================] - 2s 62ms/step - loss: 0.0018\n",
            "Epoch 67/100\n",
            "38/38 [==============================] - 2s 62ms/step - loss: 0.0022\n",
            "Epoch 68/100\n",
            "38/38 [==============================] - 3s 66ms/step - loss: 0.0018\n",
            "Epoch 69/100\n",
            "38/38 [==============================] - 2s 61ms/step - loss: 0.0020\n",
            "Epoch 70/100\n",
            "38/38 [==============================] - 2s 62ms/step - loss: 0.0023\n",
            "Epoch 71/100\n",
            "38/38 [==============================] - 2s 62ms/step - loss: 0.0019\n",
            "Epoch 72/100\n",
            "38/38 [==============================] - 2s 64ms/step - loss: 0.0021\n",
            "Epoch 73/100\n",
            "38/38 [==============================] - 2s 61ms/step - loss: 0.0018\n",
            "Epoch 74/100\n",
            "38/38 [==============================] - 2s 63ms/step - loss: 0.0021\n",
            "Epoch 75/100\n",
            "38/38 [==============================] - 3s 71ms/step - loss: 0.0017\n",
            "Epoch 76/100\n",
            "38/38 [==============================] - 3s 69ms/step - loss: 0.0017\n",
            "Epoch 77/100\n",
            "38/38 [==============================] - 3s 68ms/step - loss: 0.0018\n",
            "Epoch 78/100\n",
            "38/38 [==============================] - 2s 64ms/step - loss: 0.0020\n",
            "Epoch 79/100\n",
            "38/38 [==============================] - 2s 64ms/step - loss: 0.0017\n",
            "Epoch 80/100\n",
            "38/38 [==============================] - 2s 64ms/step - loss: 0.0017\n",
            "Epoch 81/100\n",
            "38/38 [==============================] - 2s 65ms/step - loss: 0.0019\n",
            "Epoch 82/100\n",
            "38/38 [==============================] - 2s 63ms/step - loss: 0.0017\n",
            "Epoch 83/100\n",
            "38/38 [==============================] - 2s 64ms/step - loss: 0.0017\n",
            "Epoch 84/100\n",
            "38/38 [==============================] - 3s 72ms/step - loss: 0.0017\n",
            "Epoch 85/100\n",
            "38/38 [==============================] - 3s 68ms/step - loss: 0.0016\n",
            "Epoch 86/100\n",
            "38/38 [==============================] - 2s 65ms/step - loss: 0.0016\n",
            "Epoch 87/100\n",
            "38/38 [==============================] - 2s 66ms/step - loss: 0.0018\n",
            "Epoch 88/100\n",
            "38/38 [==============================] - 2s 64ms/step - loss: 0.0019\n",
            "Epoch 89/100\n",
            "38/38 [==============================] - 2s 64ms/step - loss: 0.0018\n",
            "Epoch 90/100\n",
            "38/38 [==============================] - 2s 64ms/step - loss: 0.0017\n",
            "Epoch 91/100\n",
            "38/38 [==============================] - 2s 64ms/step - loss: 0.0016\n",
            "Epoch 92/100\n",
            "38/38 [==============================] - 3s 67ms/step - loss: 0.0016\n",
            "Epoch 93/100\n",
            "38/38 [==============================] - 3s 73ms/step - loss: 0.0015\n",
            "Epoch 94/100\n",
            "38/38 [==============================] - 2s 63ms/step - loss: 0.0016\n",
            "Epoch 95/100\n",
            "38/38 [==============================] - 2s 62ms/step - loss: 0.0016\n",
            "Epoch 96/100\n",
            "38/38 [==============================] - 2s 62ms/step - loss: 0.0016\n",
            "Epoch 97/100\n",
            "38/38 [==============================] - 2s 61ms/step - loss: 0.0014\n",
            "Epoch 98/100\n",
            "38/38 [==============================] - 2s 62ms/step - loss: 0.0015\n",
            "Epoch 99/100\n",
            "38/38 [==============================] - 2s 61ms/step - loss: 0.0017\n",
            "Epoch 100/100\n",
            "38/38 [==============================] - 2s 61ms/step - loss: 0.0014\n"
          ]
        },
        {
          "data": {
            "text/plain": [
              "<keras.callbacks.History at 0x2cc5cc26790>"
            ]
          },
          "execution_count": 16,
          "metadata": {},
          "output_type": "execute_result"
        }
      ],
      "source": [
        "regressor.fit(X_train, y_train, epochs=100, batch_size=32)\n",
        "# we wait for the loss to converge in choosing number of epochs\n",
        "# batch size is the number of inputs per weight change"
      ]
    },
    {
      "attachments": {},
      "cell_type": "markdown",
      "metadata": {
        "id": "4hRau_lIkrE8"
      },
      "source": [
        "## Part 3 - Making the predictions and visualising the results"
      ]
    },
    {
      "attachments": {},
      "cell_type": "markdown",
      "metadata": {
        "id": "SgJO6qEDksxD"
      },
      "source": [
        "### Getting the real stock price of 2017"
      ]
    },
    {
      "cell_type": "code",
      "execution_count": 17,
      "metadata": {},
      "outputs": [],
      "source": [
        "dataset_test = pd.read_csv('Google_Stock_Price_Test.csv')\n",
        "real_stock_price = dataset_test.iloc[:, 1:2].values #cause we need a numpy array so we put 1:2"
      ]
    },
    {
      "cell_type": "code",
      "execution_count": 18,
      "metadata": {},
      "outputs": [
        {
          "name": "stdout",
          "output_type": "stream",
          "text": [
            "[[778.81]\n",
            " [788.36]\n",
            " [786.08]\n",
            " [795.26]\n",
            " [806.4 ]\n",
            " [807.86]\n",
            " [805.  ]\n",
            " [807.14]\n",
            " [807.48]\n",
            " [807.08]\n",
            " [805.81]\n",
            " [805.12]\n",
            " [806.91]\n",
            " [807.25]\n",
            " [822.3 ]\n",
            " [829.62]\n",
            " [837.81]\n",
            " [834.71]\n",
            " [814.66]\n",
            " [796.86]]\n"
          ]
        }
      ],
      "source": [
        "print(real_stock_price)"
      ]
    },
    {
      "attachments": {},
      "cell_type": "markdown",
      "metadata": {
        "id": "GrvrLblxkz42"
      },
      "source": [
        "### Getting the predicted stock price of 2017"
      ]
    },
    {
      "cell_type": "code",
      "execution_count": 19,
      "metadata": {},
      "outputs": [],
      "source": [
        "dataset_total = pd.concat((dataset_train['Open'], dataset_test['Open']), axis=0) # verical conactenation\n",
        "inputs = dataset_total[len(dataset_total) - len(dataset_test) - 60 : ].values"
      ]
    },
    {
      "cell_type": "code",
      "execution_count": 20,
      "metadata": {},
      "outputs": [
        {
          "name": "stdout",
          "output_type": "stream",
          "text": [
            "[779.   779.66 777.71 786.66 783.76 781.22 781.65 779.8  787.85 798.24\n",
            " 803.3  795.   804.9  816.68 806.34 801.   808.35 795.47 782.89 778.2\n",
            " 767.25 750.66 774.5  783.4  779.94 791.17 756.54 755.6  746.97 755.2\n",
            " 766.92 771.37 762.61 772.63 767.73 764.26 760.   771.53 770.07 757.44\n",
            " 744.59 757.71 764.73 761.   772.48 780.   785.04 793.9  797.4  797.34\n",
            " 800.4  790.22 796.76 795.84 792.36 790.9  790.68 793.7  783.33 782.75\n",
            " 778.81 788.36 786.08 795.26 806.4  807.86 805.   807.14 807.48 807.08\n",
            " 805.81 805.12 806.91 807.25 822.3  829.62 837.81 834.71 814.66 796.86]\n"
          ]
        }
      ],
      "source": [
        "print(inputs)"
      ]
    },
    {
      "cell_type": "code",
      "execution_count": 21,
      "metadata": {},
      "outputs": [],
      "source": [
        "inputs = inputs.reshape(-1,1) # to get the right numpy shape"
      ]
    },
    {
      "cell_type": "code",
      "execution_count": 22,
      "metadata": {},
      "outputs": [
        {
          "name": "stdout",
          "output_type": "stream",
          "text": [
            "[[779.  ]\n",
            " [779.66]\n",
            " [777.71]\n",
            " [786.66]\n",
            " [783.76]\n",
            " [781.22]\n",
            " [781.65]\n",
            " [779.8 ]\n",
            " [787.85]\n",
            " [798.24]\n",
            " [803.3 ]\n",
            " [795.  ]\n",
            " [804.9 ]\n",
            " [816.68]\n",
            " [806.34]\n",
            " [801.  ]\n",
            " [808.35]\n",
            " [795.47]\n",
            " [782.89]\n",
            " [778.2 ]\n",
            " [767.25]\n",
            " [750.66]\n",
            " [774.5 ]\n",
            " [783.4 ]\n",
            " [779.94]\n",
            " [791.17]\n",
            " [756.54]\n",
            " [755.6 ]\n",
            " [746.97]\n",
            " [755.2 ]\n",
            " [766.92]\n",
            " [771.37]\n",
            " [762.61]\n",
            " [772.63]\n",
            " [767.73]\n",
            " [764.26]\n",
            " [760.  ]\n",
            " [771.53]\n",
            " [770.07]\n",
            " [757.44]\n",
            " [744.59]\n",
            " [757.71]\n",
            " [764.73]\n",
            " [761.  ]\n",
            " [772.48]\n",
            " [780.  ]\n",
            " [785.04]\n",
            " [793.9 ]\n",
            " [797.4 ]\n",
            " [797.34]\n",
            " [800.4 ]\n",
            " [790.22]\n",
            " [796.76]\n",
            " [795.84]\n",
            " [792.36]\n",
            " [790.9 ]\n",
            " [790.68]\n",
            " [793.7 ]\n",
            " [783.33]\n",
            " [782.75]\n",
            " [778.81]\n",
            " [788.36]\n",
            " [786.08]\n",
            " [795.26]\n",
            " [806.4 ]\n",
            " [807.86]\n",
            " [805.  ]\n",
            " [807.14]\n",
            " [807.48]\n",
            " [807.08]\n",
            " [805.81]\n",
            " [805.12]\n",
            " [806.91]\n",
            " [807.25]\n",
            " [822.3 ]\n",
            " [829.62]\n",
            " [837.81]\n",
            " [834.71]\n",
            " [814.66]\n",
            " [796.86]]\n"
          ]
        }
      ],
      "source": [
        "print(inputs)"
      ]
    },
    {
      "cell_type": "code",
      "execution_count": 23,
      "metadata": {},
      "outputs": [],
      "source": [
        "inputs = sc.transform(inputs) # to scale the inputs"
      ]
    },
    {
      "cell_type": "code",
      "execution_count": 24,
      "metadata": {},
      "outputs": [],
      "source": [
        "X_test = []\n",
        "for i in range(60, 80): # here we just have 20 values so 60-80\n",
        "    X_test.append(inputs[i-60:i, 0])\n",
        "\n",
        "X_test = np.array(X_test) # to convert into numpy array\n",
        "\n",
        "# To create a structure containing the previous 60 stock prices of the given stock"
      ]
    },
    {
      "cell_type": "code",
      "execution_count": 25,
      "metadata": {},
      "outputs": [],
      "source": [
        "X_test = np.reshape(X_test, (X_test.shape[0], X_test.shape[1], 1)) \n",
        "# to get the 3D structure as expected by the RNN"
      ]
    },
    {
      "cell_type": "code",
      "execution_count": 26,
      "metadata": {},
      "outputs": [
        {
          "name": "stdout",
          "output_type": "stream",
          "text": [
            "1/1 [==============================] - 1s 904ms/step\n"
          ]
        }
      ],
      "source": [
        "predicted_stock_price = regressor.predict(X_test)\n",
        "# To predict the values"
      ]
    },
    {
      "cell_type": "code",
      "execution_count": 27,
      "metadata": {},
      "outputs": [],
      "source": [
        "predicted_stock_price = sc.inverse_transform(predicted_stock_price)\n",
        "# To inverse the scaling"
      ]
    },
    {
      "cell_type": "code",
      "execution_count": 28,
      "metadata": {},
      "outputs": [
        {
          "name": "stdout",
          "output_type": "stream",
          "text": [
            "[[774.5087 ]\n",
            " [771.986  ]\n",
            " [771.3359 ]\n",
            " [772.10095]\n",
            " [774.8478 ]\n",
            " [780.0808 ]\n",
            " [785.7452 ]\n",
            " [789.224  ]\n",
            " [790.5002 ]\n",
            " [790.4254 ]\n",
            " [789.8334 ]\n",
            " [789.1465 ]\n",
            " [788.6419 ]\n",
            " [788.83813]\n",
            " [789.6465 ]\n",
            " [793.30084]\n",
            " [799.4946 ]\n",
            " [806.909  ]\n",
            " [812.23157]\n",
            " [810.8539 ]]\n"
          ]
        }
      ],
      "source": [
        "print(predicted_stock_price)"
      ]
    },
    {
      "attachments": {},
      "cell_type": "markdown",
      "metadata": {
        "id": "iFTNs3YHk6FQ"
      },
      "source": [
        "### Visualising the results"
      ]
    },
    {
      "cell_type": "code",
      "execution_count": 29,
      "metadata": {},
      "outputs": [
        {
          "data": {
            "image/png": "[encoded data removed]",
            "text/plain": [
              "<Figure size 640x480 with 1 Axes>"
            ]
          },
          "metadata": {},
          "output_type": "display_data"
        }
      ],
      "source": [
        "plt.plot(real_stock_price, color='red', label = 'Real Google Stock Price')\n",
        "plt.plot(predicted_stock_price, color = 'blue', label = 'Predicted Google Stock Price')\n",
        "plt.title('Google Stock Prices')\n",
        "plt.xlabel('Time')\n",
        "plt.ylabel('Stock Price')\n",
        "plt.legend()\n",
        "plt.show()"
      ]
    }
  ],
  "metadata": {
    "colab": {
      "provenance": []
    },
    "kernelspec": {
      "display_name": "Python 3",
      "name": "python3"
    },
    "language_info": {
      "codemirror_mode": {
        "name": "ipython",
        "version": 3
      },
      "file_extension": ".py",
      "mimetype": "text/x-python",
      "name": "python",
      "nbconvert_exporter": "python",
      "pygments_lexer": "ipython3",
      "version": "3.11.2"
    }
  },
  "nbformat": 4,
  "nbformat_minor": 0
}
